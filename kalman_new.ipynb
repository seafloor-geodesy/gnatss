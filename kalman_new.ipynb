{
 "cells": [
  {
   "cell_type": "code",
   "outputs": [],
   "source": [
    "import numpy as np\n",
    "import pandas as pd\n",
    "import pymap3d\n",
    "from numpy.linalg import inv\n",
    "import warnings\n",
    "from gnatss.loaders import read_novatel_L1_data_files\n",
    "from gnatss.loaders import load_gps_solutions\n",
    "\n",
    "warnings.filterwarnings('ignore')"
   ],
   "metadata": {
    "collapsed": false,
    "ExecuteTime": {
     "end_time": "2024-04-04T03:33:28.521763Z",
     "start_time": "2024-04-04T03:33:28.519327Z"
    }
   },
   "id": "b55d7c9e3aa04f9f",
   "execution_count": 81
  },
  {
   "cell_type": "code",
   "outputs": [],
   "source": [
    "inspvaa_df = read_novatel_L1_data_files(data_files=['tests/data/2022/NCL1/NCL1_INSPVAA.dat'], data_format=\"INSPVAA\")"
   ],
   "metadata": {
    "collapsed": false,
    "ExecuteTime": {
     "end_time": "2024-04-04T03:33:43.705520Z",
     "start_time": "2024-04-04T03:33:28.522787Z"
    }
   },
   "id": "e378eb80588f86af",
   "execution_count": 82
  },
  {
   "cell_type": "code",
   "outputs": [],
   "source": [
    "insstdeva_df = read_novatel_L1_data_files(data_files=['tests/data/2022/NCL1/NCL1_INSSTDEVA.dat'], data_format=\"INSSTDEVA\")\n",
    " "
   ],
   "metadata": {
    "collapsed": false,
    "ExecuteTime": {
     "end_time": "2024-04-04T03:33:56.646642Z",
     "start_time": "2024-04-04T03:33:43.706789Z"
    }
   },
   "id": "d98f539a465c0c9",
   "execution_count": 83
  },
  {
   "cell_type": "code",
   "outputs": [],
   "source": [
    "inspvaa_df = inspvaa_df.rename(\n",
    "    columns={\n",
    "        \"ant_e\": \"vel_e\",\n",
    "        \"ant_n\": \"vel_n\",\n",
    "        \"ant_u\": \"vel_u\",\n",
    "        \"time\":\"dts\",\n",
    "    },\n",
    "    errors=\"raise\"\n",
    ")\n",
    "inspvaa_df = inspvaa_df[\n",
    "    [\n",
    "        'dts', 'vel_e', 'vel_n', 'vel_u',\n",
    "    ]\n",
    "]"
   ],
   "metadata": {
    "collapsed": false,
    "ExecuteTime": {
     "end_time": "2024-04-04T03:33:56.852950Z",
     "start_time": "2024-04-04T03:33:56.647600Z"
    }
   },
   "id": "5302d625cad18228",
   "execution_count": 84
  },
  {
   "cell_type": "code",
   "outputs": [],
   "source": [
    "insstdeva_df = insstdeva_df.rename(\n",
    "    columns={\n",
    "        \"ant_e std\": \"v_sde\",\n",
    "        \"ant_n std\": \"v_sdn\",\n",
    "        \"ant_u std\": \"v_sdu\",\n",
    "        \"time\":\"dts\",\n",
    "    },\n",
    "    errors=\"raise\"\n",
    ")\n",
    "insstdeva_df = insstdeva_df[\n",
    "    [\n",
    "        'dts',\n",
    "        'v_sde', 'v_sdn', 'v_sdu'\n",
    "    ]\n",
    "]\n",
    "\n",
    "insstdeva_df[\"v_sden\"] = 0.0\n",
    "insstdeva_df[\"v_sdeu\"] = 0.0\n",
    "insstdeva_df[\"v_sdnu\"] = 0.0\n"
   ],
   "metadata": {
    "collapsed": false,
    "ExecuteTime": {
     "end_time": "2024-04-04T03:33:57.348247Z",
     "start_time": "2024-04-04T03:33:56.854123Z"
    }
   },
   "id": "bcf03a3e714ec1d5",
   "execution_count": 85
  },
  {
   "cell_type": "code",
   "outputs": [
    {
     "data": {
      "text/plain": "                  dts   vel_e   vel_n   vel_u\n0        7.122935e+08  0.1014 -0.6858  0.2413\n1        7.122935e+08  0.0788 -0.6380  0.2734\n2        7.122935e+08  0.0534 -0.5833  0.2926\n3        7.122935e+08  0.0405 -0.5440  0.2950\n4        7.122935e+08  0.0346 -0.5122  0.2801\n...               ...     ...     ...     ...\n3865082  7.123618e+08  1.0631 -0.9726 -0.1158\n3865083  7.123618e+08  1.0885 -0.9804 -0.1416\n3865084  7.123618e+08  1.1255 -0.9709 -0.1728\n3865085  7.123618e+08  1.1578 -0.9542 -0.2087\n3865086  7.123618e+08  1.1918 -0.9272 -0.2501\n\n[3865087 rows x 4 columns]",
      "text/html": "<div>\n<style scoped>\n    .dataframe tbody tr th:only-of-type {\n        vertical-align: middle;\n    }\n\n    .dataframe tbody tr th {\n        vertical-align: top;\n    }\n\n    .dataframe thead th {\n        text-align: right;\n    }\n</style>\n<table border=\"1\" class=\"dataframe\">\n  <thead>\n    <tr style=\"text-align: right;\">\n      <th></th>\n      <th>dts</th>\n      <th>vel_e</th>\n      <th>vel_n</th>\n      <th>vel_u</th>\n    </tr>\n  </thead>\n  <tbody>\n    <tr>\n      <th>0</th>\n      <td>7.122935e+08</td>\n      <td>0.1014</td>\n      <td>-0.6858</td>\n      <td>0.2413</td>\n    </tr>\n    <tr>\n      <th>1</th>\n      <td>7.122935e+08</td>\n      <td>0.0788</td>\n      <td>-0.6380</td>\n      <td>0.2734</td>\n    </tr>\n    <tr>\n      <th>2</th>\n      <td>7.122935e+08</td>\n      <td>0.0534</td>\n      <td>-0.5833</td>\n      <td>0.2926</td>\n    </tr>\n    <tr>\n      <th>3</th>\n      <td>7.122935e+08</td>\n      <td>0.0405</td>\n      <td>-0.5440</td>\n      <td>0.2950</td>\n    </tr>\n    <tr>\n      <th>4</th>\n      <td>7.122935e+08</td>\n      <td>0.0346</td>\n      <td>-0.5122</td>\n      <td>0.2801</td>\n    </tr>\n    <tr>\n      <th>...</th>\n      <td>...</td>\n      <td>...</td>\n      <td>...</td>\n      <td>...</td>\n    </tr>\n    <tr>\n      <th>3865082</th>\n      <td>7.123618e+08</td>\n      <td>1.0631</td>\n      <td>-0.9726</td>\n      <td>-0.1158</td>\n    </tr>\n    <tr>\n      <th>3865083</th>\n      <td>7.123618e+08</td>\n      <td>1.0885</td>\n      <td>-0.9804</td>\n      <td>-0.1416</td>\n    </tr>\n    <tr>\n      <th>3865084</th>\n      <td>7.123618e+08</td>\n      <td>1.1255</td>\n      <td>-0.9709</td>\n      <td>-0.1728</td>\n    </tr>\n    <tr>\n      <th>3865085</th>\n      <td>7.123618e+08</td>\n      <td>1.1578</td>\n      <td>-0.9542</td>\n      <td>-0.2087</td>\n    </tr>\n    <tr>\n      <th>3865086</th>\n      <td>7.123618e+08</td>\n      <td>1.1918</td>\n      <td>-0.9272</td>\n      <td>-0.2501</td>\n    </tr>\n  </tbody>\n</table>\n<p>3865087 rows × 4 columns</p>\n</div>"
     },
     "execution_count": 86,
     "metadata": {},
     "output_type": "execute_result"
    }
   ],
   "source": [
    "inspvaa_df"
   ],
   "metadata": {
    "collapsed": false,
    "ExecuteTime": {
     "end_time": "2024-04-04T03:33:57.355962Z",
     "start_time": "2024-04-04T03:33:57.349715Z"
    }
   },
   "id": "dcfb0e60a8befae6",
   "execution_count": 86
  },
  {
   "cell_type": "code",
   "outputs": [
    {
     "data": {
      "text/plain": "                  dts   v_sde   v_sdn   v_sdu  v_sden  v_sdeu  v_sdnu\n0        7.122935e+08  0.0159  0.0179  0.0160     0.0     0.0     0.0\n1        7.122935e+08  0.0159  0.0179  0.0160     0.0     0.0     0.0\n2        7.122935e+08  0.0159  0.0179  0.0160     0.0     0.0     0.0\n3        7.122935e+08  0.0159  0.0179  0.0160     0.0     0.0     0.0\n4        7.122935e+08  0.0159  0.0179  0.0160     0.0     0.0     0.0\n...               ...     ...     ...     ...     ...     ...     ...\n3865303  7.123618e+08  0.0147  0.0172  0.0206     0.0     0.0     0.0\n3865304  7.123618e+08  0.0147  0.0172  0.0206     0.0     0.0     0.0\n3865305  7.123618e+08  0.0147  0.0172  0.0206     0.0     0.0     0.0\n3865306  7.123618e+08  0.0147  0.0172  0.0206     0.0     0.0     0.0\n3865307  7.123618e+08  0.0147  0.0172  0.0206     0.0     0.0     0.0\n\n[3865308 rows x 7 columns]",
      "text/html": "<div>\n<style scoped>\n    .dataframe tbody tr th:only-of-type {\n        vertical-align: middle;\n    }\n\n    .dataframe tbody tr th {\n        vertical-align: top;\n    }\n\n    .dataframe thead th {\n        text-align: right;\n    }\n</style>\n<table border=\"1\" class=\"dataframe\">\n  <thead>\n    <tr style=\"text-align: right;\">\n      <th></th>\n      <th>dts</th>\n      <th>v_sde</th>\n      <th>v_sdn</th>\n      <th>v_sdu</th>\n      <th>v_sden</th>\n      <th>v_sdeu</th>\n      <th>v_sdnu</th>\n    </tr>\n  </thead>\n  <tbody>\n    <tr>\n      <th>0</th>\n      <td>7.122935e+08</td>\n      <td>0.0159</td>\n      <td>0.0179</td>\n      <td>0.0160</td>\n      <td>0.0</td>\n      <td>0.0</td>\n      <td>0.0</td>\n    </tr>\n    <tr>\n      <th>1</th>\n      <td>7.122935e+08</td>\n      <td>0.0159</td>\n      <td>0.0179</td>\n      <td>0.0160</td>\n      <td>0.0</td>\n      <td>0.0</td>\n      <td>0.0</td>\n    </tr>\n    <tr>\n      <th>2</th>\n      <td>7.122935e+08</td>\n      <td>0.0159</td>\n      <td>0.0179</td>\n      <td>0.0160</td>\n      <td>0.0</td>\n      <td>0.0</td>\n      <td>0.0</td>\n    </tr>\n    <tr>\n      <th>3</th>\n      <td>7.122935e+08</td>\n      <td>0.0159</td>\n      <td>0.0179</td>\n      <td>0.0160</td>\n      <td>0.0</td>\n      <td>0.0</td>\n      <td>0.0</td>\n    </tr>\n    <tr>\n      <th>4</th>\n      <td>7.122935e+08</td>\n      <td>0.0159</td>\n      <td>0.0179</td>\n      <td>0.0160</td>\n      <td>0.0</td>\n      <td>0.0</td>\n      <td>0.0</td>\n    </tr>\n    <tr>\n      <th>...</th>\n      <td>...</td>\n      <td>...</td>\n      <td>...</td>\n      <td>...</td>\n      <td>...</td>\n      <td>...</td>\n      <td>...</td>\n    </tr>\n    <tr>\n      <th>3865303</th>\n      <td>7.123618e+08</td>\n      <td>0.0147</td>\n      <td>0.0172</td>\n      <td>0.0206</td>\n      <td>0.0</td>\n      <td>0.0</td>\n      <td>0.0</td>\n    </tr>\n    <tr>\n      <th>3865304</th>\n      <td>7.123618e+08</td>\n      <td>0.0147</td>\n      <td>0.0172</td>\n      <td>0.0206</td>\n      <td>0.0</td>\n      <td>0.0</td>\n      <td>0.0</td>\n    </tr>\n    <tr>\n      <th>3865305</th>\n      <td>7.123618e+08</td>\n      <td>0.0147</td>\n      <td>0.0172</td>\n      <td>0.0206</td>\n      <td>0.0</td>\n      <td>0.0</td>\n      <td>0.0</td>\n    </tr>\n    <tr>\n      <th>3865306</th>\n      <td>7.123618e+08</td>\n      <td>0.0147</td>\n      <td>0.0172</td>\n      <td>0.0206</td>\n      <td>0.0</td>\n      <td>0.0</td>\n      <td>0.0</td>\n    </tr>\n    <tr>\n      <th>3865307</th>\n      <td>7.123618e+08</td>\n      <td>0.0147</td>\n      <td>0.0172</td>\n      <td>0.0206</td>\n      <td>0.0</td>\n      <td>0.0</td>\n      <td>0.0</td>\n    </tr>\n  </tbody>\n</table>\n<p>3865308 rows × 7 columns</p>\n</div>"
     },
     "execution_count": 87,
     "metadata": {},
     "output_type": "execute_result"
    }
   ],
   "source": [
    "insstdeva_df"
   ],
   "metadata": {
    "collapsed": false,
    "ExecuteTime": {
     "end_time": "2024-04-04T03:33:57.364296Z",
     "start_time": "2024-04-04T03:33:57.356767Z"
    }
   },
   "id": "a666723d9a866a84",
   "execution_count": 87
  },
  {
   "cell_type": "code",
   "outputs": [
    {
     "data": {
      "text/plain": "                dts             x             y             z     sdx     sdy  \\\n0       712207183.0 -2.574893e+06 -3.681574e+06  4.512097e+06  2.4491  2.4489   \n1       712207184.0 -2.574893e+06 -3.681574e+06  4.512097e+06  2.2359  2.2357   \n2       712207185.0 -2.574893e+06 -3.681574e+06  4.512097e+06  2.0000  1.9998   \n3       712207186.0 -2.574893e+06 -3.681574e+06  4.512097e+06  1.7323  1.7320   \n4       712207187.0 -2.574893e+06 -3.681574e+06  4.512097e+06  1.4147  1.4144   \n...             ...           ...           ...           ...     ...     ...   \n193288  712400473.0 -2.575283e+06 -3.682610e+06  4.511038e+06  0.0134  0.0137   \n193289  712400474.0 -2.575284e+06 -3.682610e+06  4.511038e+06  0.0134  0.0137   \n193290  712400475.0 -2.575284e+06 -3.682610e+06  4.511038e+06  0.0134  0.0137   \n193291  712400476.0 -2.575284e+06 -3.682609e+06  4.511037e+06  0.0134  0.0137   \n193292  712400477.0 -2.575284e+06 -3.682608e+06  4.511038e+06  0.0134  0.0137   \n\n           sdz      sdxy      sdxz      sdyz  \n0       2.4488  2.449000  2.448950  2.448850  \n1       2.2356  2.235800  2.235750  2.235650  \n2       1.9997  1.999900  1.999850  1.999750  \n3       1.7319  1.732150  1.732100  1.731950  \n4       1.4142  1.414550  1.414450  1.414300  \n...        ...       ...       ...       ...  \n193288  0.0158  0.013549  0.014551  0.014713  \n193289  0.0158  0.013549  0.014551  0.014713  \n193290  0.0158  0.013549  0.014551  0.014713  \n193291  0.0158  0.013549  0.014551  0.014713  \n193292  0.0158  0.013549  0.014551  0.014713  \n\n[193293 rows x 10 columns]",
      "text/html": "<div>\n<style scoped>\n    .dataframe tbody tr th:only-of-type {\n        vertical-align: middle;\n    }\n\n    .dataframe tbody tr th {\n        vertical-align: top;\n    }\n\n    .dataframe thead th {\n        text-align: right;\n    }\n</style>\n<table border=\"1\" class=\"dataframe\">\n  <thead>\n    <tr style=\"text-align: right;\">\n      <th></th>\n      <th>dts</th>\n      <th>x</th>\n      <th>y</th>\n      <th>z</th>\n      <th>sdx</th>\n      <th>sdy</th>\n      <th>sdz</th>\n      <th>sdxy</th>\n      <th>sdxz</th>\n      <th>sdyz</th>\n    </tr>\n  </thead>\n  <tbody>\n    <tr>\n      <th>0</th>\n      <td>712207183.0</td>\n      <td>-2.574893e+06</td>\n      <td>-3.681574e+06</td>\n      <td>4.512097e+06</td>\n      <td>2.4491</td>\n      <td>2.4489</td>\n      <td>2.4488</td>\n      <td>2.449000</td>\n      <td>2.448950</td>\n      <td>2.448850</td>\n    </tr>\n    <tr>\n      <th>1</th>\n      <td>712207184.0</td>\n      <td>-2.574893e+06</td>\n      <td>-3.681574e+06</td>\n      <td>4.512097e+06</td>\n      <td>2.2359</td>\n      <td>2.2357</td>\n      <td>2.2356</td>\n      <td>2.235800</td>\n      <td>2.235750</td>\n      <td>2.235650</td>\n    </tr>\n    <tr>\n      <th>2</th>\n      <td>712207185.0</td>\n      <td>-2.574893e+06</td>\n      <td>-3.681574e+06</td>\n      <td>4.512097e+06</td>\n      <td>2.0000</td>\n      <td>1.9998</td>\n      <td>1.9997</td>\n      <td>1.999900</td>\n      <td>1.999850</td>\n      <td>1.999750</td>\n    </tr>\n    <tr>\n      <th>3</th>\n      <td>712207186.0</td>\n      <td>-2.574893e+06</td>\n      <td>-3.681574e+06</td>\n      <td>4.512097e+06</td>\n      <td>1.7323</td>\n      <td>1.7320</td>\n      <td>1.7319</td>\n      <td>1.732150</td>\n      <td>1.732100</td>\n      <td>1.731950</td>\n    </tr>\n    <tr>\n      <th>4</th>\n      <td>712207187.0</td>\n      <td>-2.574893e+06</td>\n      <td>-3.681574e+06</td>\n      <td>4.512097e+06</td>\n      <td>1.4147</td>\n      <td>1.4144</td>\n      <td>1.4142</td>\n      <td>1.414550</td>\n      <td>1.414450</td>\n      <td>1.414300</td>\n    </tr>\n    <tr>\n      <th>...</th>\n      <td>...</td>\n      <td>...</td>\n      <td>...</td>\n      <td>...</td>\n      <td>...</td>\n      <td>...</td>\n      <td>...</td>\n      <td>...</td>\n      <td>...</td>\n      <td>...</td>\n    </tr>\n    <tr>\n      <th>193288</th>\n      <td>712400473.0</td>\n      <td>-2.575283e+06</td>\n      <td>-3.682610e+06</td>\n      <td>4.511038e+06</td>\n      <td>0.0134</td>\n      <td>0.0137</td>\n      <td>0.0158</td>\n      <td>0.013549</td>\n      <td>0.014551</td>\n      <td>0.014713</td>\n    </tr>\n    <tr>\n      <th>193289</th>\n      <td>712400474.0</td>\n      <td>-2.575284e+06</td>\n      <td>-3.682610e+06</td>\n      <td>4.511038e+06</td>\n      <td>0.0134</td>\n      <td>0.0137</td>\n      <td>0.0158</td>\n      <td>0.013549</td>\n      <td>0.014551</td>\n      <td>0.014713</td>\n    </tr>\n    <tr>\n      <th>193290</th>\n      <td>712400475.0</td>\n      <td>-2.575284e+06</td>\n      <td>-3.682610e+06</td>\n      <td>4.511038e+06</td>\n      <td>0.0134</td>\n      <td>0.0137</td>\n      <td>0.0158</td>\n      <td>0.013549</td>\n      <td>0.014551</td>\n      <td>0.014713</td>\n    </tr>\n    <tr>\n      <th>193291</th>\n      <td>712400476.0</td>\n      <td>-2.575284e+06</td>\n      <td>-3.682609e+06</td>\n      <td>4.511037e+06</td>\n      <td>0.0134</td>\n      <td>0.0137</td>\n      <td>0.0158</td>\n      <td>0.013549</td>\n      <td>0.014551</td>\n      <td>0.014713</td>\n    </tr>\n    <tr>\n      <th>193292</th>\n      <td>712400477.0</td>\n      <td>-2.575284e+06</td>\n      <td>-3.682608e+06</td>\n      <td>4.511038e+06</td>\n      <td>0.0134</td>\n      <td>0.0137</td>\n      <td>0.0158</td>\n      <td>0.013549</td>\n      <td>0.014551</td>\n      <td>0.014713</td>\n    </tr>\n  </tbody>\n</table>\n<p>193293 rows × 10 columns</p>\n</div>"
     },
     "execution_count": 88,
     "metadata": {},
     "output_type": "execute_result"
    }
   ],
   "source": [
    "\"\"\"\n",
    "def load_gps_solutions(\n",
    "    files: List[str], time_round: int = constants.DELAY_TIME_PRECISION\n",
    ") -> pd.DataFrame:\n",
    "\"\"\"\n",
    "gps_df = load_gps_solutions(\n",
    "    files = [\n",
    "        'tests/data/2022/NCL1/208/GPS_PPP/GPS_POS_FREED',\n",
    "        'tests/data/2022/NCL1/209/GPS_PPP/GPS_POS_FREED',\n",
    "        'tests/data/2022/NCL1/210/GPS_PPP/GPS_POS_FREED',\n",
    "\n",
    "    ],\n",
    "    columns=[\"time\", \"dtype\", \"x\", \"y\", \"z\", \"sdx\", \"sdy\", \"sdz\"],\n",
    ")\n",
    "gps_df = gps_df.rename(\n",
    "    columns={\n",
    "        \"time\":\"dts\",\n",
    "    },\n",
    "    errors=\"raise\"\n",
    ")\n",
    "\n",
    "gps_df = gps_df[\n",
    "    [\n",
    "        'dts', 'x', 'y', 'z', 'sdx', 'sdy', 'sdz'\n",
    "    ]\n",
    "]\n",
    "\n",
    "gps_df[\"sdxy\"] = np.sqrt(gps_df.sdx * gps_df.sdy)\n",
    "gps_df[\"sdxz\"] = np.sqrt(gps_df.sdx * gps_df.sdz)\n",
    "gps_df[\"sdyz\"] = np.sqrt(gps_df.sdy * gps_df.sdz)\n",
    "\n",
    "gps_df"
   ],
   "metadata": {
    "collapsed": false,
    "ExecuteTime": {
     "end_time": "2024-04-04T03:33:57.533996Z",
     "start_time": "2024-04-04T03:33:57.365184Z"
    }
   },
   "id": "1d1e7a97909d9ad",
   "execution_count": 88
  },
  {
   "cell_type": "code",
   "outputs": [
    {
     "data": {
      "text/plain": "                  dts   vel_e   vel_n   vel_u   x   y   z  sdx  sdy  sdz  \\\n0        7.122072e+08  0.1631 -1.4049  0.1295 NaN NaN NaN  NaN  NaN  NaN   \n1        7.122072e+08  0.1743 -1.4157  0.0827 NaN NaN NaN  NaN  NaN  NaN   \n2        7.122072e+08  0.1818 -1.4301  0.0490 NaN NaN NaN  NaN  NaN  NaN   \n3        7.122072e+08  0.1824 -1.4465  0.0160 NaN NaN NaN  NaN  NaN  NaN   \n4        7.122072e+08  0.1820 -1.4636 -0.0063 NaN NaN NaN  NaN  NaN  NaN   \n...               ...     ...     ...     ...  ..  ..  ..  ...  ...  ...   \n3865082  7.124005e+08 -1.3296  0.0802  0.3085 NaN NaN NaN  NaN  NaN  NaN   \n3865083  7.124005e+08 -1.3541  0.0458  0.2389 NaN NaN NaN  NaN  NaN  NaN   \n3865084  7.124005e+08 -1.3617  0.0044  0.1284 NaN NaN NaN  NaN  NaN  NaN   \n3865085  7.124005e+08 -1.3508 -0.0325  0.0253 NaN NaN NaN  NaN  NaN  NaN   \n3865086  7.124005e+08 -1.3158 -0.0539 -0.0837 NaN NaN NaN  NaN  NaN  NaN   \n\n         sdxy  sdxz  sdyz   v_sde   v_sdn   v_sdu  v_sden  v_sdeu  v_sdnu  \n0         NaN   NaN   NaN  0.0614  0.0650  0.0634     0.0     0.0     0.0  \n1         NaN   NaN   NaN  0.0614  0.0650  0.0634     0.0     0.0     0.0  \n2         NaN   NaN   NaN  0.0614  0.0650  0.0634     0.0     0.0     0.0  \n3         NaN   NaN   NaN  0.0614  0.0650  0.0634     0.0     0.0     0.0  \n4         NaN   NaN   NaN  0.0614  0.0650  0.0634     0.0     0.0     0.0  \n...       ...   ...   ...     ...     ...     ...     ...     ...     ...  \n3865082   NaN   NaN   NaN  0.0156  0.0197  0.0197     0.0     0.0     0.0  \n3865083   NaN   NaN   NaN  0.0156  0.0197  0.0197     0.0     0.0     0.0  \n3865084   NaN   NaN   NaN  0.0156  0.0197  0.0197     0.0     0.0     0.0  \n3865085   NaN   NaN   NaN  0.0156  0.0197  0.0197     0.0     0.0     0.0  \n3865086   NaN   NaN   NaN  0.0156  0.0197  0.0197     0.0     0.0     0.0  \n\n[3865087 rows x 19 columns]",
      "text/html": "<div>\n<style scoped>\n    .dataframe tbody tr th:only-of-type {\n        vertical-align: middle;\n    }\n\n    .dataframe tbody tr th {\n        vertical-align: top;\n    }\n\n    .dataframe thead th {\n        text-align: right;\n    }\n</style>\n<table border=\"1\" class=\"dataframe\">\n  <thead>\n    <tr style=\"text-align: right;\">\n      <th></th>\n      <th>dts</th>\n      <th>vel_e</th>\n      <th>vel_n</th>\n      <th>vel_u</th>\n      <th>x</th>\n      <th>y</th>\n      <th>z</th>\n      <th>sdx</th>\n      <th>sdy</th>\n      <th>sdz</th>\n      <th>sdxy</th>\n      <th>sdxz</th>\n      <th>sdyz</th>\n      <th>v_sde</th>\n      <th>v_sdn</th>\n      <th>v_sdu</th>\n      <th>v_sden</th>\n      <th>v_sdeu</th>\n      <th>v_sdnu</th>\n    </tr>\n  </thead>\n  <tbody>\n    <tr>\n      <th>0</th>\n      <td>7.122072e+08</td>\n      <td>0.1631</td>\n      <td>-1.4049</td>\n      <td>0.1295</td>\n      <td>NaN</td>\n      <td>NaN</td>\n      <td>NaN</td>\n      <td>NaN</td>\n      <td>NaN</td>\n      <td>NaN</td>\n      <td>NaN</td>\n      <td>NaN</td>\n      <td>NaN</td>\n      <td>0.0614</td>\n      <td>0.0650</td>\n      <td>0.0634</td>\n      <td>0.0</td>\n      <td>0.0</td>\n      <td>0.0</td>\n    </tr>\n    <tr>\n      <th>1</th>\n      <td>7.122072e+08</td>\n      <td>0.1743</td>\n      <td>-1.4157</td>\n      <td>0.0827</td>\n      <td>NaN</td>\n      <td>NaN</td>\n      <td>NaN</td>\n      <td>NaN</td>\n      <td>NaN</td>\n      <td>NaN</td>\n      <td>NaN</td>\n      <td>NaN</td>\n      <td>NaN</td>\n      <td>0.0614</td>\n      <td>0.0650</td>\n      <td>0.0634</td>\n      <td>0.0</td>\n      <td>0.0</td>\n      <td>0.0</td>\n    </tr>\n    <tr>\n      <th>2</th>\n      <td>7.122072e+08</td>\n      <td>0.1818</td>\n      <td>-1.4301</td>\n      <td>0.0490</td>\n      <td>NaN</td>\n      <td>NaN</td>\n      <td>NaN</td>\n      <td>NaN</td>\n      <td>NaN</td>\n      <td>NaN</td>\n      <td>NaN</td>\n      <td>NaN</td>\n      <td>NaN</td>\n      <td>0.0614</td>\n      <td>0.0650</td>\n      <td>0.0634</td>\n      <td>0.0</td>\n      <td>0.0</td>\n      <td>0.0</td>\n    </tr>\n    <tr>\n      <th>3</th>\n      <td>7.122072e+08</td>\n      <td>0.1824</td>\n      <td>-1.4465</td>\n      <td>0.0160</td>\n      <td>NaN</td>\n      <td>NaN</td>\n      <td>NaN</td>\n      <td>NaN</td>\n      <td>NaN</td>\n      <td>NaN</td>\n      <td>NaN</td>\n      <td>NaN</td>\n      <td>NaN</td>\n      <td>0.0614</td>\n      <td>0.0650</td>\n      <td>0.0634</td>\n      <td>0.0</td>\n      <td>0.0</td>\n      <td>0.0</td>\n    </tr>\n    <tr>\n      <th>4</th>\n      <td>7.122072e+08</td>\n      <td>0.1820</td>\n      <td>-1.4636</td>\n      <td>-0.0063</td>\n      <td>NaN</td>\n      <td>NaN</td>\n      <td>NaN</td>\n      <td>NaN</td>\n      <td>NaN</td>\n      <td>NaN</td>\n      <td>NaN</td>\n      <td>NaN</td>\n      <td>NaN</td>\n      <td>0.0614</td>\n      <td>0.0650</td>\n      <td>0.0634</td>\n      <td>0.0</td>\n      <td>0.0</td>\n      <td>0.0</td>\n    </tr>\n    <tr>\n      <th>...</th>\n      <td>...</td>\n      <td>...</td>\n      <td>...</td>\n      <td>...</td>\n      <td>...</td>\n      <td>...</td>\n      <td>...</td>\n      <td>...</td>\n      <td>...</td>\n      <td>...</td>\n      <td>...</td>\n      <td>...</td>\n      <td>...</td>\n      <td>...</td>\n      <td>...</td>\n      <td>...</td>\n      <td>...</td>\n      <td>...</td>\n      <td>...</td>\n    </tr>\n    <tr>\n      <th>3865082</th>\n      <td>7.124005e+08</td>\n      <td>-1.3296</td>\n      <td>0.0802</td>\n      <td>0.3085</td>\n      <td>NaN</td>\n      <td>NaN</td>\n      <td>NaN</td>\n      <td>NaN</td>\n      <td>NaN</td>\n      <td>NaN</td>\n      <td>NaN</td>\n      <td>NaN</td>\n      <td>NaN</td>\n      <td>0.0156</td>\n      <td>0.0197</td>\n      <td>0.0197</td>\n      <td>0.0</td>\n      <td>0.0</td>\n      <td>0.0</td>\n    </tr>\n    <tr>\n      <th>3865083</th>\n      <td>7.124005e+08</td>\n      <td>-1.3541</td>\n      <td>0.0458</td>\n      <td>0.2389</td>\n      <td>NaN</td>\n      <td>NaN</td>\n      <td>NaN</td>\n      <td>NaN</td>\n      <td>NaN</td>\n      <td>NaN</td>\n      <td>NaN</td>\n      <td>NaN</td>\n      <td>NaN</td>\n      <td>0.0156</td>\n      <td>0.0197</td>\n      <td>0.0197</td>\n      <td>0.0</td>\n      <td>0.0</td>\n      <td>0.0</td>\n    </tr>\n    <tr>\n      <th>3865084</th>\n      <td>7.124005e+08</td>\n      <td>-1.3617</td>\n      <td>0.0044</td>\n      <td>0.1284</td>\n      <td>NaN</td>\n      <td>NaN</td>\n      <td>NaN</td>\n      <td>NaN</td>\n      <td>NaN</td>\n      <td>NaN</td>\n      <td>NaN</td>\n      <td>NaN</td>\n      <td>NaN</td>\n      <td>0.0156</td>\n      <td>0.0197</td>\n      <td>0.0197</td>\n      <td>0.0</td>\n      <td>0.0</td>\n      <td>0.0</td>\n    </tr>\n    <tr>\n      <th>3865085</th>\n      <td>7.124005e+08</td>\n      <td>-1.3508</td>\n      <td>-0.0325</td>\n      <td>0.0253</td>\n      <td>NaN</td>\n      <td>NaN</td>\n      <td>NaN</td>\n      <td>NaN</td>\n      <td>NaN</td>\n      <td>NaN</td>\n      <td>NaN</td>\n      <td>NaN</td>\n      <td>NaN</td>\n      <td>0.0156</td>\n      <td>0.0197</td>\n      <td>0.0197</td>\n      <td>0.0</td>\n      <td>0.0</td>\n      <td>0.0</td>\n    </tr>\n    <tr>\n      <th>3865086</th>\n      <td>7.124005e+08</td>\n      <td>-1.3158</td>\n      <td>-0.0539</td>\n      <td>-0.0837</td>\n      <td>NaN</td>\n      <td>NaN</td>\n      <td>NaN</td>\n      <td>NaN</td>\n      <td>NaN</td>\n      <td>NaN</td>\n      <td>NaN</td>\n      <td>NaN</td>\n      <td>NaN</td>\n      <td>0.0156</td>\n      <td>0.0197</td>\n      <td>0.0197</td>\n      <td>0.0</td>\n      <td>0.0</td>\n      <td>0.0</td>\n    </tr>\n  </tbody>\n</table>\n<p>3865087 rows × 19 columns</p>\n</div>"
     },
     "execution_count": 89,
     "metadata": {},
     "output_type": "execute_result"
    }
   ],
   "source": [
    "merged_df = inspvaa_df.merge(gps_df, on=\"dts\", how=\"left\")\n",
    "merged_df = merged_df.merge(insstdeva_df, on=\"dts\", how=\"left\")\n",
    "merged_df.reset_index(drop=True)\n",
    "merged_df.sort_values(\"dts\").reset_index(drop=True)"
   ],
   "metadata": {
    "collapsed": false,
    "ExecuteTime": {
     "end_time": "2024-04-04T03:34:00.804349Z",
     "start_time": "2024-04-04T03:33:57.534710Z"
    }
   },
   "id": "e90a2062c518cde2",
   "execution_count": 89
  },
  {
   "cell_type": "code",
   "outputs": [
    {
     "data": {
      "text/plain": "             dts   vel_e   vel_n   vel_u             x             y  \\\n0   7.122935e+08  0.1014 -0.6858  0.2413           NaN           NaN   \n1   7.122935e+08  0.0788 -0.6380  0.2734           NaN           NaN   \n2   7.122935e+08  0.0534 -0.5833  0.2926           NaN           NaN   \n3   7.122935e+08  0.0405 -0.5440  0.2950           NaN           NaN   \n4   7.122935e+08  0.0346 -0.5122  0.2801           NaN           NaN   \n5   7.122935e+08  0.0341 -0.4850  0.2472 -2.575324e+06 -3.682599e+06   \n6   7.122935e+08  0.0438 -0.4740  0.2121           NaN           NaN   \n7   7.122935e+08  0.0576 -0.4702  0.1735           NaN           NaN   \n8   7.122935e+08  0.0727 -0.4730  0.1400           NaN           NaN   \n9   7.122935e+08  0.0881 -0.4780  0.1050           NaN           NaN   \n10  7.122935e+08  0.0993 -0.4852  0.0828           NaN           NaN   \n11  7.122935e+08  0.1050 -0.4919  0.0711           NaN           NaN   \n12  7.122935e+08  0.1046 -0.4977  0.0685           NaN           NaN   \n13  7.122935e+08  0.0997 -0.5050  0.0741           NaN           NaN   \n14  7.122935e+08  0.0930 -0.5182  0.0910           NaN           NaN   \n15  7.122935e+08  0.0865 -0.5336  0.1044           NaN           NaN   \n16  7.122935e+08  0.0833 -0.5556  0.1182           NaN           NaN   \n17  7.122935e+08  0.0839 -0.5858  0.1332           NaN           NaN   \n18  7.122935e+08  0.0821 -0.6108  0.1396           NaN           NaN   \n19  7.122935e+08  0.0786 -0.6330  0.1399           NaN           NaN   \n20  7.122935e+08  0.0718 -0.6477  0.1347           NaN           NaN   \n21  7.122935e+08  0.0623 -0.6494  0.1143           NaN           NaN   \n22  7.122935e+08  0.0492 -0.6391  0.0876           NaN           NaN   \n23  7.122935e+08  0.0360 -0.6179  0.0485           NaN           NaN   \n24  7.122935e+08  0.0242 -0.5876 -0.0013           NaN           NaN   \n25  7.122935e+08  0.0145 -0.5523 -0.0613 -2.575325e+06 -3.682599e+06   \n26  7.122935e+08  0.0046 -0.5078 -0.1363           NaN           NaN   \n27  7.122935e+08  0.0032 -0.4788 -0.1970           NaN           NaN   \n28  7.122935e+08  0.0102 -0.4620 -0.2523           NaN           NaN   \n29  7.122935e+08  0.0267 -0.4611 -0.2980           NaN           NaN   \n30  7.122935e+08  0.0505 -0.4739 -0.3232           NaN           NaN   \n31  7.122935e+08  0.0792 -0.4956 -0.3306           NaN           NaN   \n32  7.122935e+08  0.1115 -0.5232 -0.3214           NaN           NaN   \n33  7.122935e+08  0.1461 -0.5537 -0.2988           NaN           NaN   \n34  7.122935e+08  0.1848 -0.5921 -0.2508           NaN           NaN   \n35  7.122935e+08  0.2164 -0.6152 -0.2063           NaN           NaN   \n36  7.122935e+08  0.2410 -0.6278 -0.1555           NaN           NaN   \n37  7.122935e+08  0.2581 -0.6332 -0.0899           NaN           NaN   \n38  7.122935e+08  0.2624 -0.6166 -0.0407           NaN           NaN   \n39  7.122935e+08  0.2578 -0.5873  0.0072           NaN           NaN   \n40  7.122935e+08  0.2466 -0.5458  0.0444           NaN           NaN   \n41  7.122935e+08  0.2187 -0.4839  0.0765           NaN           NaN   \n42  7.122935e+08  0.1953 -0.4250  0.0862           NaN           NaN   \n43  7.122935e+08  0.1672 -0.3628  0.0867           NaN           NaN   \n44  7.122935e+08  0.1372 -0.3013  0.0736           NaN           NaN   \n45  7.122935e+08  0.1080 -0.2457  0.0534 -2.575325e+06 -3.682600e+06   \n46  7.122935e+08  0.0788 -0.1945  0.0199           NaN           NaN   \n47  7.122935e+08  0.0597 -0.1604 -0.0117           NaN           NaN   \n48  7.122935e+08  0.0495 -0.1396 -0.0434           NaN           NaN   \n49  7.122935e+08  0.0484 -0.1314 -0.0743           NaN           NaN   \n\n               z     sdx     sdy     sdz      sdxy      sdxz      sdyz  \\\n0            NaN     NaN     NaN     NaN       NaN       NaN       NaN   \n1            NaN     NaN     NaN     NaN       NaN       NaN       NaN   \n2            NaN     NaN     NaN     NaN       NaN       NaN       NaN   \n3            NaN     NaN     NaN     NaN       NaN       NaN       NaN   \n4            NaN     NaN     NaN     NaN       NaN       NaN       NaN   \n5   4.511020e+06  0.0119  0.0143  0.0124  0.013045  0.012147  0.013316   \n6            NaN     NaN     NaN     NaN       NaN       NaN       NaN   \n7            NaN     NaN     NaN     NaN       NaN       NaN       NaN   \n8            NaN     NaN     NaN     NaN       NaN       NaN       NaN   \n9            NaN     NaN     NaN     NaN       NaN       NaN       NaN   \n10           NaN     NaN     NaN     NaN       NaN       NaN       NaN   \n11           NaN     NaN     NaN     NaN       NaN       NaN       NaN   \n12           NaN     NaN     NaN     NaN       NaN       NaN       NaN   \n13           NaN     NaN     NaN     NaN       NaN       NaN       NaN   \n14           NaN     NaN     NaN     NaN       NaN       NaN       NaN   \n15           NaN     NaN     NaN     NaN       NaN       NaN       NaN   \n16           NaN     NaN     NaN     NaN       NaN       NaN       NaN   \n17           NaN     NaN     NaN     NaN       NaN       NaN       NaN   \n18           NaN     NaN     NaN     NaN       NaN       NaN       NaN   \n19           NaN     NaN     NaN     NaN       NaN       NaN       NaN   \n20           NaN     NaN     NaN     NaN       NaN       NaN       NaN   \n21           NaN     NaN     NaN     NaN       NaN       NaN       NaN   \n22           NaN     NaN     NaN     NaN       NaN       NaN       NaN   \n23           NaN     NaN     NaN     NaN       NaN       NaN       NaN   \n24           NaN     NaN     NaN     NaN       NaN       NaN       NaN   \n25  4.511020e+06  0.0119  0.0143  0.0124  0.013045  0.012147  0.013316   \n26           NaN     NaN     NaN     NaN       NaN       NaN       NaN   \n27           NaN     NaN     NaN     NaN       NaN       NaN       NaN   \n28           NaN     NaN     NaN     NaN       NaN       NaN       NaN   \n29           NaN     NaN     NaN     NaN       NaN       NaN       NaN   \n30           NaN     NaN     NaN     NaN       NaN       NaN       NaN   \n31           NaN     NaN     NaN     NaN       NaN       NaN       NaN   \n32           NaN     NaN     NaN     NaN       NaN       NaN       NaN   \n33           NaN     NaN     NaN     NaN       NaN       NaN       NaN   \n34           NaN     NaN     NaN     NaN       NaN       NaN       NaN   \n35           NaN     NaN     NaN     NaN       NaN       NaN       NaN   \n36           NaN     NaN     NaN     NaN       NaN       NaN       NaN   \n37           NaN     NaN     NaN     NaN       NaN       NaN       NaN   \n38           NaN     NaN     NaN     NaN       NaN       NaN       NaN   \n39           NaN     NaN     NaN     NaN       NaN       NaN       NaN   \n40           NaN     NaN     NaN     NaN       NaN       NaN       NaN   \n41           NaN     NaN     NaN     NaN       NaN       NaN       NaN   \n42           NaN     NaN     NaN     NaN       NaN       NaN       NaN   \n43           NaN     NaN     NaN     NaN       NaN       NaN       NaN   \n44           NaN     NaN     NaN     NaN       NaN       NaN       NaN   \n45  4.511020e+06  0.0119  0.0143  0.0124  0.013045  0.012147  0.013316   \n46           NaN     NaN     NaN     NaN       NaN       NaN       NaN   \n47           NaN     NaN     NaN     NaN       NaN       NaN       NaN   \n48           NaN     NaN     NaN     NaN       NaN       NaN       NaN   \n49           NaN     NaN     NaN     NaN       NaN       NaN       NaN   \n\n     v_sde   v_sdn   v_sdu  v_sden  v_sdeu  v_sdnu  \n0   0.0159  0.0179  0.0160     0.0     0.0     0.0  \n1   0.0159  0.0179  0.0160     0.0     0.0     0.0  \n2   0.0159  0.0179  0.0160     0.0     0.0     0.0  \n3   0.0159  0.0179  0.0160     0.0     0.0     0.0  \n4   0.0159  0.0179  0.0160     0.0     0.0     0.0  \n5   0.0159  0.0179  0.0160     0.0     0.0     0.0  \n6   0.0160  0.0181  0.0165     0.0     0.0     0.0  \n7   0.0160  0.0181  0.0165     0.0     0.0     0.0  \n8   0.0160  0.0181  0.0165     0.0     0.0     0.0  \n9   0.0160  0.0181  0.0165     0.0     0.0     0.0  \n10  0.0160  0.0181  0.0165     0.0     0.0     0.0  \n11  0.0160  0.0181  0.0165     0.0     0.0     0.0  \n12  0.0160  0.0181  0.0165     0.0     0.0     0.0  \n13  0.0160  0.0181  0.0165     0.0     0.0     0.0  \n14  0.0160  0.0181  0.0165     0.0     0.0     0.0  \n15  0.0160  0.0181  0.0165     0.0     0.0     0.0  \n16  0.0160  0.0181  0.0165     0.0     0.0     0.0  \n17  0.0160  0.0181  0.0165     0.0     0.0     0.0  \n18  0.0160  0.0181  0.0165     0.0     0.0     0.0  \n19  0.0160  0.0181  0.0165     0.0     0.0     0.0  \n20  0.0160  0.0181  0.0165     0.0     0.0     0.0  \n21  0.0160  0.0181  0.0165     0.0     0.0     0.0  \n22  0.0160  0.0181  0.0165     0.0     0.0     0.0  \n23  0.0160  0.0181  0.0165     0.0     0.0     0.0  \n24  0.0160  0.0181  0.0165     0.0     0.0     0.0  \n25  0.0160  0.0181  0.0165     0.0     0.0     0.0  \n26  0.0159  0.0180  0.0167     0.0     0.0     0.0  \n27  0.0159  0.0180  0.0167     0.0     0.0     0.0  \n28  0.0159  0.0180  0.0167     0.0     0.0     0.0  \n29  0.0159  0.0180  0.0167     0.0     0.0     0.0  \n30  0.0159  0.0180  0.0167     0.0     0.0     0.0  \n31  0.0159  0.0180  0.0167     0.0     0.0     0.0  \n32  0.0159  0.0180  0.0167     0.0     0.0     0.0  \n33  0.0159  0.0180  0.0167     0.0     0.0     0.0  \n34  0.0159  0.0180  0.0167     0.0     0.0     0.0  \n35  0.0159  0.0180  0.0167     0.0     0.0     0.0  \n36  0.0159  0.0180  0.0167     0.0     0.0     0.0  \n37  0.0159  0.0180  0.0167     0.0     0.0     0.0  \n38  0.0159  0.0180  0.0167     0.0     0.0     0.0  \n39  0.0159  0.0180  0.0167     0.0     0.0     0.0  \n40  0.0159  0.0180  0.0167     0.0     0.0     0.0  \n41  0.0159  0.0180  0.0167     0.0     0.0     0.0  \n42  0.0159  0.0180  0.0167     0.0     0.0     0.0  \n43  0.0159  0.0180  0.0167     0.0     0.0     0.0  \n44  0.0159  0.0180  0.0167     0.0     0.0     0.0  \n45  0.0159  0.0180  0.0167     0.0     0.0     0.0  \n46  0.0156  0.0178  0.0166     0.0     0.0     0.0  \n47  0.0156  0.0178  0.0166     0.0     0.0     0.0  \n48  0.0156  0.0178  0.0166     0.0     0.0     0.0  \n49  0.0156  0.0178  0.0166     0.0     0.0     0.0  ",
      "text/html": "<div>\n<style scoped>\n    .dataframe tbody tr th:only-of-type {\n        vertical-align: middle;\n    }\n\n    .dataframe tbody tr th {\n        vertical-align: top;\n    }\n\n    .dataframe thead th {\n        text-align: right;\n    }\n</style>\n<table border=\"1\" class=\"dataframe\">\n  <thead>\n    <tr style=\"text-align: right;\">\n      <th></th>\n      <th>dts</th>\n      <th>vel_e</th>\n      <th>vel_n</th>\n      <th>vel_u</th>\n      <th>x</th>\n      <th>y</th>\n      <th>z</th>\n      <th>sdx</th>\n      <th>sdy</th>\n      <th>sdz</th>\n      <th>sdxy</th>\n      <th>sdxz</th>\n      <th>sdyz</th>\n      <th>v_sde</th>\n      <th>v_sdn</th>\n      <th>v_sdu</th>\n      <th>v_sden</th>\n      <th>v_sdeu</th>\n      <th>v_sdnu</th>\n    </tr>\n  </thead>\n  <tbody>\n    <tr>\n      <th>0</th>\n      <td>7.122935e+08</td>\n      <td>0.1014</td>\n      <td>-0.6858</td>\n      <td>0.2413</td>\n      <td>NaN</td>\n      <td>NaN</td>\n      <td>NaN</td>\n      <td>NaN</td>\n      <td>NaN</td>\n      <td>NaN</td>\n      <td>NaN</td>\n      <td>NaN</td>\n      <td>NaN</td>\n      <td>0.0159</td>\n      <td>0.0179</td>\n      <td>0.0160</td>\n      <td>0.0</td>\n      <td>0.0</td>\n      <td>0.0</td>\n    </tr>\n    <tr>\n      <th>1</th>\n      <td>7.122935e+08</td>\n      <td>0.0788</td>\n      <td>-0.6380</td>\n      <td>0.2734</td>\n      <td>NaN</td>\n      <td>NaN</td>\n      <td>NaN</td>\n      <td>NaN</td>\n      <td>NaN</td>\n      <td>NaN</td>\n      <td>NaN</td>\n      <td>NaN</td>\n      <td>NaN</td>\n      <td>0.0159</td>\n      <td>0.0179</td>\n      <td>0.0160</td>\n      <td>0.0</td>\n      <td>0.0</td>\n      <td>0.0</td>\n    </tr>\n    <tr>\n      <th>2</th>\n      <td>7.122935e+08</td>\n      <td>0.0534</td>\n      <td>-0.5833</td>\n      <td>0.2926</td>\n      <td>NaN</td>\n      <td>NaN</td>\n      <td>NaN</td>\n      <td>NaN</td>\n      <td>NaN</td>\n      <td>NaN</td>\n      <td>NaN</td>\n      <td>NaN</td>\n      <td>NaN</td>\n      <td>0.0159</td>\n      <td>0.0179</td>\n      <td>0.0160</td>\n      <td>0.0</td>\n      <td>0.0</td>\n      <td>0.0</td>\n    </tr>\n    <tr>\n      <th>3</th>\n      <td>7.122935e+08</td>\n      <td>0.0405</td>\n      <td>-0.5440</td>\n      <td>0.2950</td>\n      <td>NaN</td>\n      <td>NaN</td>\n      <td>NaN</td>\n      <td>NaN</td>\n      <td>NaN</td>\n      <td>NaN</td>\n      <td>NaN</td>\n      <td>NaN</td>\n      <td>NaN</td>\n      <td>0.0159</td>\n      <td>0.0179</td>\n      <td>0.0160</td>\n      <td>0.0</td>\n      <td>0.0</td>\n      <td>0.0</td>\n    </tr>\n    <tr>\n      <th>4</th>\n      <td>7.122935e+08</td>\n      <td>0.0346</td>\n      <td>-0.5122</td>\n      <td>0.2801</td>\n      <td>NaN</td>\n      <td>NaN</td>\n      <td>NaN</td>\n      <td>NaN</td>\n      <td>NaN</td>\n      <td>NaN</td>\n      <td>NaN</td>\n      <td>NaN</td>\n      <td>NaN</td>\n      <td>0.0159</td>\n      <td>0.0179</td>\n      <td>0.0160</td>\n      <td>0.0</td>\n      <td>0.0</td>\n      <td>0.0</td>\n    </tr>\n    <tr>\n      <th>5</th>\n      <td>7.122935e+08</td>\n      <td>0.0341</td>\n      <td>-0.4850</td>\n      <td>0.2472</td>\n      <td>-2.575324e+06</td>\n      <td>-3.682599e+06</td>\n      <td>4.511020e+06</td>\n      <td>0.0119</td>\n      <td>0.0143</td>\n      <td>0.0124</td>\n      <td>0.013045</td>\n      <td>0.012147</td>\n      <td>0.013316</td>\n      <td>0.0159</td>\n      <td>0.0179</td>\n      <td>0.0160</td>\n      <td>0.0</td>\n      <td>0.0</td>\n      <td>0.0</td>\n    </tr>\n    <tr>\n      <th>6</th>\n      <td>7.122935e+08</td>\n      <td>0.0438</td>\n      <td>-0.4740</td>\n      <td>0.2121</td>\n      <td>NaN</td>\n      <td>NaN</td>\n      <td>NaN</td>\n      <td>NaN</td>\n      <td>NaN</td>\n      <td>NaN</td>\n      <td>NaN</td>\n      <td>NaN</td>\n      <td>NaN</td>\n      <td>0.0160</td>\n      <td>0.0181</td>\n      <td>0.0165</td>\n      <td>0.0</td>\n      <td>0.0</td>\n      <td>0.0</td>\n    </tr>\n    <tr>\n      <th>7</th>\n      <td>7.122935e+08</td>\n      <td>0.0576</td>\n      <td>-0.4702</td>\n      <td>0.1735</td>\n      <td>NaN</td>\n      <td>NaN</td>\n      <td>NaN</td>\n      <td>NaN</td>\n      <td>NaN</td>\n      <td>NaN</td>\n      <td>NaN</td>\n      <td>NaN</td>\n      <td>NaN</td>\n      <td>0.0160</td>\n      <td>0.0181</td>\n      <td>0.0165</td>\n      <td>0.0</td>\n      <td>0.0</td>\n      <td>0.0</td>\n    </tr>\n    <tr>\n      <th>8</th>\n      <td>7.122935e+08</td>\n      <td>0.0727</td>\n      <td>-0.4730</td>\n      <td>0.1400</td>\n      <td>NaN</td>\n      <td>NaN</td>\n      <td>NaN</td>\n      <td>NaN</td>\n      <td>NaN</td>\n      <td>NaN</td>\n      <td>NaN</td>\n      <td>NaN</td>\n      <td>NaN</td>\n      <td>0.0160</td>\n      <td>0.0181</td>\n      <td>0.0165</td>\n      <td>0.0</td>\n      <td>0.0</td>\n      <td>0.0</td>\n    </tr>\n    <tr>\n      <th>9</th>\n      <td>7.122935e+08</td>\n      <td>0.0881</td>\n      <td>-0.4780</td>\n      <td>0.1050</td>\n      <td>NaN</td>\n      <td>NaN</td>\n      <td>NaN</td>\n      <td>NaN</td>\n      <td>NaN</td>\n      <td>NaN</td>\n      <td>NaN</td>\n      <td>NaN</td>\n      <td>NaN</td>\n      <td>0.0160</td>\n      <td>0.0181</td>\n      <td>0.0165</td>\n      <td>0.0</td>\n      <td>0.0</td>\n      <td>0.0</td>\n    </tr>\n    <tr>\n      <th>10</th>\n      <td>7.122935e+08</td>\n      <td>0.0993</td>\n      <td>-0.4852</td>\n      <td>0.0828</td>\n      <td>NaN</td>\n      <td>NaN</td>\n      <td>NaN</td>\n      <td>NaN</td>\n      <td>NaN</td>\n      <td>NaN</td>\n      <td>NaN</td>\n      <td>NaN</td>\n      <td>NaN</td>\n      <td>0.0160</td>\n      <td>0.0181</td>\n      <td>0.0165</td>\n      <td>0.0</td>\n      <td>0.0</td>\n      <td>0.0</td>\n    </tr>\n    <tr>\n      <th>11</th>\n      <td>7.122935e+08</td>\n      <td>0.1050</td>\n      <td>-0.4919</td>\n      <td>0.0711</td>\n      <td>NaN</td>\n      <td>NaN</td>\n      <td>NaN</td>\n      <td>NaN</td>\n      <td>NaN</td>\n      <td>NaN</td>\n      <td>NaN</td>\n      <td>NaN</td>\n      <td>NaN</td>\n      <td>0.0160</td>\n      <td>0.0181</td>\n      <td>0.0165</td>\n      <td>0.0</td>\n      <td>0.0</td>\n      <td>0.0</td>\n    </tr>\n    <tr>\n      <th>12</th>\n      <td>7.122935e+08</td>\n      <td>0.1046</td>\n      <td>-0.4977</td>\n      <td>0.0685</td>\n      <td>NaN</td>\n      <td>NaN</td>\n      <td>NaN</td>\n      <td>NaN</td>\n      <td>NaN</td>\n      <td>NaN</td>\n      <td>NaN</td>\n      <td>NaN</td>\n      <td>NaN</td>\n      <td>0.0160</td>\n      <td>0.0181</td>\n      <td>0.0165</td>\n      <td>0.0</td>\n      <td>0.0</td>\n      <td>0.0</td>\n    </tr>\n    <tr>\n      <th>13</th>\n      <td>7.122935e+08</td>\n      <td>0.0997</td>\n      <td>-0.5050</td>\n      <td>0.0741</td>\n      <td>NaN</td>\n      <td>NaN</td>\n      <td>NaN</td>\n      <td>NaN</td>\n      <td>NaN</td>\n      <td>NaN</td>\n      <td>NaN</td>\n      <td>NaN</td>\n      <td>NaN</td>\n      <td>0.0160</td>\n      <td>0.0181</td>\n      <td>0.0165</td>\n      <td>0.0</td>\n      <td>0.0</td>\n      <td>0.0</td>\n    </tr>\n    <tr>\n      <th>14</th>\n      <td>7.122935e+08</td>\n      <td>0.0930</td>\n      <td>-0.5182</td>\n      <td>0.0910</td>\n      <td>NaN</td>\n      <td>NaN</td>\n      <td>NaN</td>\n      <td>NaN</td>\n      <td>NaN</td>\n      <td>NaN</td>\n      <td>NaN</td>\n      <td>NaN</td>\n      <td>NaN</td>\n      <td>0.0160</td>\n      <td>0.0181</td>\n      <td>0.0165</td>\n      <td>0.0</td>\n      <td>0.0</td>\n      <td>0.0</td>\n    </tr>\n    <tr>\n      <th>15</th>\n      <td>7.122935e+08</td>\n      <td>0.0865</td>\n      <td>-0.5336</td>\n      <td>0.1044</td>\n      <td>NaN</td>\n      <td>NaN</td>\n      <td>NaN</td>\n      <td>NaN</td>\n      <td>NaN</td>\n      <td>NaN</td>\n      <td>NaN</td>\n      <td>NaN</td>\n      <td>NaN</td>\n      <td>0.0160</td>\n      <td>0.0181</td>\n      <td>0.0165</td>\n      <td>0.0</td>\n      <td>0.0</td>\n      <td>0.0</td>\n    </tr>\n    <tr>\n      <th>16</th>\n      <td>7.122935e+08</td>\n      <td>0.0833</td>\n      <td>-0.5556</td>\n      <td>0.1182</td>\n      <td>NaN</td>\n      <td>NaN</td>\n      <td>NaN</td>\n      <td>NaN</td>\n      <td>NaN</td>\n      <td>NaN</td>\n      <td>NaN</td>\n      <td>NaN</td>\n      <td>NaN</td>\n      <td>0.0160</td>\n      <td>0.0181</td>\n      <td>0.0165</td>\n      <td>0.0</td>\n      <td>0.0</td>\n      <td>0.0</td>\n    </tr>\n    <tr>\n      <th>17</th>\n      <td>7.122935e+08</td>\n      <td>0.0839</td>\n      <td>-0.5858</td>\n      <td>0.1332</td>\n      <td>NaN</td>\n      <td>NaN</td>\n      <td>NaN</td>\n      <td>NaN</td>\n      <td>NaN</td>\n      <td>NaN</td>\n      <td>NaN</td>\n      <td>NaN</td>\n      <td>NaN</td>\n      <td>0.0160</td>\n      <td>0.0181</td>\n      <td>0.0165</td>\n      <td>0.0</td>\n      <td>0.0</td>\n      <td>0.0</td>\n    </tr>\n    <tr>\n      <th>18</th>\n      <td>7.122935e+08</td>\n      <td>0.0821</td>\n      <td>-0.6108</td>\n      <td>0.1396</td>\n      <td>NaN</td>\n      <td>NaN</td>\n      <td>NaN</td>\n      <td>NaN</td>\n      <td>NaN</td>\n      <td>NaN</td>\n      <td>NaN</td>\n      <td>NaN</td>\n      <td>NaN</td>\n      <td>0.0160</td>\n      <td>0.0181</td>\n      <td>0.0165</td>\n      <td>0.0</td>\n      <td>0.0</td>\n      <td>0.0</td>\n    </tr>\n    <tr>\n      <th>19</th>\n      <td>7.122935e+08</td>\n      <td>0.0786</td>\n      <td>-0.6330</td>\n      <td>0.1399</td>\n      <td>NaN</td>\n      <td>NaN</td>\n      <td>NaN</td>\n      <td>NaN</td>\n      <td>NaN</td>\n      <td>NaN</td>\n      <td>NaN</td>\n      <td>NaN</td>\n      <td>NaN</td>\n      <td>0.0160</td>\n      <td>0.0181</td>\n      <td>0.0165</td>\n      <td>0.0</td>\n      <td>0.0</td>\n      <td>0.0</td>\n    </tr>\n    <tr>\n      <th>20</th>\n      <td>7.122935e+08</td>\n      <td>0.0718</td>\n      <td>-0.6477</td>\n      <td>0.1347</td>\n      <td>NaN</td>\n      <td>NaN</td>\n      <td>NaN</td>\n      <td>NaN</td>\n      <td>NaN</td>\n      <td>NaN</td>\n      <td>NaN</td>\n      <td>NaN</td>\n      <td>NaN</td>\n      <td>0.0160</td>\n      <td>0.0181</td>\n      <td>0.0165</td>\n      <td>0.0</td>\n      <td>0.0</td>\n      <td>0.0</td>\n    </tr>\n    <tr>\n      <th>21</th>\n      <td>7.122935e+08</td>\n      <td>0.0623</td>\n      <td>-0.6494</td>\n      <td>0.1143</td>\n      <td>NaN</td>\n      <td>NaN</td>\n      <td>NaN</td>\n      <td>NaN</td>\n      <td>NaN</td>\n      <td>NaN</td>\n      <td>NaN</td>\n      <td>NaN</td>\n      <td>NaN</td>\n      <td>0.0160</td>\n      <td>0.0181</td>\n      <td>0.0165</td>\n      <td>0.0</td>\n      <td>0.0</td>\n      <td>0.0</td>\n    </tr>\n    <tr>\n      <th>22</th>\n      <td>7.122935e+08</td>\n      <td>0.0492</td>\n      <td>-0.6391</td>\n      <td>0.0876</td>\n      <td>NaN</td>\n      <td>NaN</td>\n      <td>NaN</td>\n      <td>NaN</td>\n      <td>NaN</td>\n      <td>NaN</td>\n      <td>NaN</td>\n      <td>NaN</td>\n      <td>NaN</td>\n      <td>0.0160</td>\n      <td>0.0181</td>\n      <td>0.0165</td>\n      <td>0.0</td>\n      <td>0.0</td>\n      <td>0.0</td>\n    </tr>\n    <tr>\n      <th>23</th>\n      <td>7.122935e+08</td>\n      <td>0.0360</td>\n      <td>-0.6179</td>\n      <td>0.0485</td>\n      <td>NaN</td>\n      <td>NaN</td>\n      <td>NaN</td>\n      <td>NaN</td>\n      <td>NaN</td>\n      <td>NaN</td>\n      <td>NaN</td>\n      <td>NaN</td>\n      <td>NaN</td>\n      <td>0.0160</td>\n      <td>0.0181</td>\n      <td>0.0165</td>\n      <td>0.0</td>\n      <td>0.0</td>\n      <td>0.0</td>\n    </tr>\n    <tr>\n      <th>24</th>\n      <td>7.122935e+08</td>\n      <td>0.0242</td>\n      <td>-0.5876</td>\n      <td>-0.0013</td>\n      <td>NaN</td>\n      <td>NaN</td>\n      <td>NaN</td>\n      <td>NaN</td>\n      <td>NaN</td>\n      <td>NaN</td>\n      <td>NaN</td>\n      <td>NaN</td>\n      <td>NaN</td>\n      <td>0.0160</td>\n      <td>0.0181</td>\n      <td>0.0165</td>\n      <td>0.0</td>\n      <td>0.0</td>\n      <td>0.0</td>\n    </tr>\n    <tr>\n      <th>25</th>\n      <td>7.122935e+08</td>\n      <td>0.0145</td>\n      <td>-0.5523</td>\n      <td>-0.0613</td>\n      <td>-2.575325e+06</td>\n      <td>-3.682599e+06</td>\n      <td>4.511020e+06</td>\n      <td>0.0119</td>\n      <td>0.0143</td>\n      <td>0.0124</td>\n      <td>0.013045</td>\n      <td>0.012147</td>\n      <td>0.013316</td>\n      <td>0.0160</td>\n      <td>0.0181</td>\n      <td>0.0165</td>\n      <td>0.0</td>\n      <td>0.0</td>\n      <td>0.0</td>\n    </tr>\n    <tr>\n      <th>26</th>\n      <td>7.122935e+08</td>\n      <td>0.0046</td>\n      <td>-0.5078</td>\n      <td>-0.1363</td>\n      <td>NaN</td>\n      <td>NaN</td>\n      <td>NaN</td>\n      <td>NaN</td>\n      <td>NaN</td>\n      <td>NaN</td>\n      <td>NaN</td>\n      <td>NaN</td>\n      <td>NaN</td>\n      <td>0.0159</td>\n      <td>0.0180</td>\n      <td>0.0167</td>\n      <td>0.0</td>\n      <td>0.0</td>\n      <td>0.0</td>\n    </tr>\n    <tr>\n      <th>27</th>\n      <td>7.122935e+08</td>\n      <td>0.0032</td>\n      <td>-0.4788</td>\n      <td>-0.1970</td>\n      <td>NaN</td>\n      <td>NaN</td>\n      <td>NaN</td>\n      <td>NaN</td>\n      <td>NaN</td>\n      <td>NaN</td>\n      <td>NaN</td>\n      <td>NaN</td>\n      <td>NaN</td>\n      <td>0.0159</td>\n      <td>0.0180</td>\n      <td>0.0167</td>\n      <td>0.0</td>\n      <td>0.0</td>\n      <td>0.0</td>\n    </tr>\n    <tr>\n      <th>28</th>\n      <td>7.122935e+08</td>\n      <td>0.0102</td>\n      <td>-0.4620</td>\n      <td>-0.2523</td>\n      <td>NaN</td>\n      <td>NaN</td>\n      <td>NaN</td>\n      <td>NaN</td>\n      <td>NaN</td>\n      <td>NaN</td>\n      <td>NaN</td>\n      <td>NaN</td>\n      <td>NaN</td>\n      <td>0.0159</td>\n      <td>0.0180</td>\n      <td>0.0167</td>\n      <td>0.0</td>\n      <td>0.0</td>\n      <td>0.0</td>\n    </tr>\n    <tr>\n      <th>29</th>\n      <td>7.122935e+08</td>\n      <td>0.0267</td>\n      <td>-0.4611</td>\n      <td>-0.2980</td>\n      <td>NaN</td>\n      <td>NaN</td>\n      <td>NaN</td>\n      <td>NaN</td>\n      <td>NaN</td>\n      <td>NaN</td>\n      <td>NaN</td>\n      <td>NaN</td>\n      <td>NaN</td>\n      <td>0.0159</td>\n      <td>0.0180</td>\n      <td>0.0167</td>\n      <td>0.0</td>\n      <td>0.0</td>\n      <td>0.0</td>\n    </tr>\n    <tr>\n      <th>30</th>\n      <td>7.122935e+08</td>\n      <td>0.0505</td>\n      <td>-0.4739</td>\n      <td>-0.3232</td>\n      <td>NaN</td>\n      <td>NaN</td>\n      <td>NaN</td>\n      <td>NaN</td>\n      <td>NaN</td>\n      <td>NaN</td>\n      <td>NaN</td>\n      <td>NaN</td>\n      <td>NaN</td>\n      <td>0.0159</td>\n      <td>0.0180</td>\n      <td>0.0167</td>\n      <td>0.0</td>\n      <td>0.0</td>\n      <td>0.0</td>\n    </tr>\n    <tr>\n      <th>31</th>\n      <td>7.122935e+08</td>\n      <td>0.0792</td>\n      <td>-0.4956</td>\n      <td>-0.3306</td>\n      <td>NaN</td>\n      <td>NaN</td>\n      <td>NaN</td>\n      <td>NaN</td>\n      <td>NaN</td>\n      <td>NaN</td>\n      <td>NaN</td>\n      <td>NaN</td>\n      <td>NaN</td>\n      <td>0.0159</td>\n      <td>0.0180</td>\n      <td>0.0167</td>\n      <td>0.0</td>\n      <td>0.0</td>\n      <td>0.0</td>\n    </tr>\n    <tr>\n      <th>32</th>\n      <td>7.122935e+08</td>\n      <td>0.1115</td>\n      <td>-0.5232</td>\n      <td>-0.3214</td>\n      <td>NaN</td>\n      <td>NaN</td>\n      <td>NaN</td>\n      <td>NaN</td>\n      <td>NaN</td>\n      <td>NaN</td>\n      <td>NaN</td>\n      <td>NaN</td>\n      <td>NaN</td>\n      <td>0.0159</td>\n      <td>0.0180</td>\n      <td>0.0167</td>\n      <td>0.0</td>\n      <td>0.0</td>\n      <td>0.0</td>\n    </tr>\n    <tr>\n      <th>33</th>\n      <td>7.122935e+08</td>\n      <td>0.1461</td>\n      <td>-0.5537</td>\n      <td>-0.2988</td>\n      <td>NaN</td>\n      <td>NaN</td>\n      <td>NaN</td>\n      <td>NaN</td>\n      <td>NaN</td>\n      <td>NaN</td>\n      <td>NaN</td>\n      <td>NaN</td>\n      <td>NaN</td>\n      <td>0.0159</td>\n      <td>0.0180</td>\n      <td>0.0167</td>\n      <td>0.0</td>\n      <td>0.0</td>\n      <td>0.0</td>\n    </tr>\n    <tr>\n      <th>34</th>\n      <td>7.122935e+08</td>\n      <td>0.1848</td>\n      <td>-0.5921</td>\n      <td>-0.2508</td>\n      <td>NaN</td>\n      <td>NaN</td>\n      <td>NaN</td>\n      <td>NaN</td>\n      <td>NaN</td>\n      <td>NaN</td>\n      <td>NaN</td>\n      <td>NaN</td>\n      <td>NaN</td>\n      <td>0.0159</td>\n      <td>0.0180</td>\n      <td>0.0167</td>\n      <td>0.0</td>\n      <td>0.0</td>\n      <td>0.0</td>\n    </tr>\n    <tr>\n      <th>35</th>\n      <td>7.122935e+08</td>\n      <td>0.2164</td>\n      <td>-0.6152</td>\n      <td>-0.2063</td>\n      <td>NaN</td>\n      <td>NaN</td>\n      <td>NaN</td>\n      <td>NaN</td>\n      <td>NaN</td>\n      <td>NaN</td>\n      <td>NaN</td>\n      <td>NaN</td>\n      <td>NaN</td>\n      <td>0.0159</td>\n      <td>0.0180</td>\n      <td>0.0167</td>\n      <td>0.0</td>\n      <td>0.0</td>\n      <td>0.0</td>\n    </tr>\n    <tr>\n      <th>36</th>\n      <td>7.122935e+08</td>\n      <td>0.2410</td>\n      <td>-0.6278</td>\n      <td>-0.1555</td>\n      <td>NaN</td>\n      <td>NaN</td>\n      <td>NaN</td>\n      <td>NaN</td>\n      <td>NaN</td>\n      <td>NaN</td>\n      <td>NaN</td>\n      <td>NaN</td>\n      <td>NaN</td>\n      <td>0.0159</td>\n      <td>0.0180</td>\n      <td>0.0167</td>\n      <td>0.0</td>\n      <td>0.0</td>\n      <td>0.0</td>\n    </tr>\n    <tr>\n      <th>37</th>\n      <td>7.122935e+08</td>\n      <td>0.2581</td>\n      <td>-0.6332</td>\n      <td>-0.0899</td>\n      <td>NaN</td>\n      <td>NaN</td>\n      <td>NaN</td>\n      <td>NaN</td>\n      <td>NaN</td>\n      <td>NaN</td>\n      <td>NaN</td>\n      <td>NaN</td>\n      <td>NaN</td>\n      <td>0.0159</td>\n      <td>0.0180</td>\n      <td>0.0167</td>\n      <td>0.0</td>\n      <td>0.0</td>\n      <td>0.0</td>\n    </tr>\n    <tr>\n      <th>38</th>\n      <td>7.122935e+08</td>\n      <td>0.2624</td>\n      <td>-0.6166</td>\n      <td>-0.0407</td>\n      <td>NaN</td>\n      <td>NaN</td>\n      <td>NaN</td>\n      <td>NaN</td>\n      <td>NaN</td>\n      <td>NaN</td>\n      <td>NaN</td>\n      <td>NaN</td>\n      <td>NaN</td>\n      <td>0.0159</td>\n      <td>0.0180</td>\n      <td>0.0167</td>\n      <td>0.0</td>\n      <td>0.0</td>\n      <td>0.0</td>\n    </tr>\n    <tr>\n      <th>39</th>\n      <td>7.122935e+08</td>\n      <td>0.2578</td>\n      <td>-0.5873</td>\n      <td>0.0072</td>\n      <td>NaN</td>\n      <td>NaN</td>\n      <td>NaN</td>\n      <td>NaN</td>\n      <td>NaN</td>\n      <td>NaN</td>\n      <td>NaN</td>\n      <td>NaN</td>\n      <td>NaN</td>\n      <td>0.0159</td>\n      <td>0.0180</td>\n      <td>0.0167</td>\n      <td>0.0</td>\n      <td>0.0</td>\n      <td>0.0</td>\n    </tr>\n    <tr>\n      <th>40</th>\n      <td>7.122935e+08</td>\n      <td>0.2466</td>\n      <td>-0.5458</td>\n      <td>0.0444</td>\n      <td>NaN</td>\n      <td>NaN</td>\n      <td>NaN</td>\n      <td>NaN</td>\n      <td>NaN</td>\n      <td>NaN</td>\n      <td>NaN</td>\n      <td>NaN</td>\n      <td>NaN</td>\n      <td>0.0159</td>\n      <td>0.0180</td>\n      <td>0.0167</td>\n      <td>0.0</td>\n      <td>0.0</td>\n      <td>0.0</td>\n    </tr>\n    <tr>\n      <th>41</th>\n      <td>7.122935e+08</td>\n      <td>0.2187</td>\n      <td>-0.4839</td>\n      <td>0.0765</td>\n      <td>NaN</td>\n      <td>NaN</td>\n      <td>NaN</td>\n      <td>NaN</td>\n      <td>NaN</td>\n      <td>NaN</td>\n      <td>NaN</td>\n      <td>NaN</td>\n      <td>NaN</td>\n      <td>0.0159</td>\n      <td>0.0180</td>\n      <td>0.0167</td>\n      <td>0.0</td>\n      <td>0.0</td>\n      <td>0.0</td>\n    </tr>\n    <tr>\n      <th>42</th>\n      <td>7.122935e+08</td>\n      <td>0.1953</td>\n      <td>-0.4250</td>\n      <td>0.0862</td>\n      <td>NaN</td>\n      <td>NaN</td>\n      <td>NaN</td>\n      <td>NaN</td>\n      <td>NaN</td>\n      <td>NaN</td>\n      <td>NaN</td>\n      <td>NaN</td>\n      <td>NaN</td>\n      <td>0.0159</td>\n      <td>0.0180</td>\n      <td>0.0167</td>\n      <td>0.0</td>\n      <td>0.0</td>\n      <td>0.0</td>\n    </tr>\n    <tr>\n      <th>43</th>\n      <td>7.122935e+08</td>\n      <td>0.1672</td>\n      <td>-0.3628</td>\n      <td>0.0867</td>\n      <td>NaN</td>\n      <td>NaN</td>\n      <td>NaN</td>\n      <td>NaN</td>\n      <td>NaN</td>\n      <td>NaN</td>\n      <td>NaN</td>\n      <td>NaN</td>\n      <td>NaN</td>\n      <td>0.0159</td>\n      <td>0.0180</td>\n      <td>0.0167</td>\n      <td>0.0</td>\n      <td>0.0</td>\n      <td>0.0</td>\n    </tr>\n    <tr>\n      <th>44</th>\n      <td>7.122935e+08</td>\n      <td>0.1372</td>\n      <td>-0.3013</td>\n      <td>0.0736</td>\n      <td>NaN</td>\n      <td>NaN</td>\n      <td>NaN</td>\n      <td>NaN</td>\n      <td>NaN</td>\n      <td>NaN</td>\n      <td>NaN</td>\n      <td>NaN</td>\n      <td>NaN</td>\n      <td>0.0159</td>\n      <td>0.0180</td>\n      <td>0.0167</td>\n      <td>0.0</td>\n      <td>0.0</td>\n      <td>0.0</td>\n    </tr>\n    <tr>\n      <th>45</th>\n      <td>7.122935e+08</td>\n      <td>0.1080</td>\n      <td>-0.2457</td>\n      <td>0.0534</td>\n      <td>-2.575325e+06</td>\n      <td>-3.682600e+06</td>\n      <td>4.511020e+06</td>\n      <td>0.0119</td>\n      <td>0.0143</td>\n      <td>0.0124</td>\n      <td>0.013045</td>\n      <td>0.012147</td>\n      <td>0.013316</td>\n      <td>0.0159</td>\n      <td>0.0180</td>\n      <td>0.0167</td>\n      <td>0.0</td>\n      <td>0.0</td>\n      <td>0.0</td>\n    </tr>\n    <tr>\n      <th>46</th>\n      <td>7.122935e+08</td>\n      <td>0.0788</td>\n      <td>-0.1945</td>\n      <td>0.0199</td>\n      <td>NaN</td>\n      <td>NaN</td>\n      <td>NaN</td>\n      <td>NaN</td>\n      <td>NaN</td>\n      <td>NaN</td>\n      <td>NaN</td>\n      <td>NaN</td>\n      <td>NaN</td>\n      <td>0.0156</td>\n      <td>0.0178</td>\n      <td>0.0166</td>\n      <td>0.0</td>\n      <td>0.0</td>\n      <td>0.0</td>\n    </tr>\n    <tr>\n      <th>47</th>\n      <td>7.122935e+08</td>\n      <td>0.0597</td>\n      <td>-0.1604</td>\n      <td>-0.0117</td>\n      <td>NaN</td>\n      <td>NaN</td>\n      <td>NaN</td>\n      <td>NaN</td>\n      <td>NaN</td>\n      <td>NaN</td>\n      <td>NaN</td>\n      <td>NaN</td>\n      <td>NaN</td>\n      <td>0.0156</td>\n      <td>0.0178</td>\n      <td>0.0166</td>\n      <td>0.0</td>\n      <td>0.0</td>\n      <td>0.0</td>\n    </tr>\n    <tr>\n      <th>48</th>\n      <td>7.122935e+08</td>\n      <td>0.0495</td>\n      <td>-0.1396</td>\n      <td>-0.0434</td>\n      <td>NaN</td>\n      <td>NaN</td>\n      <td>NaN</td>\n      <td>NaN</td>\n      <td>NaN</td>\n      <td>NaN</td>\n      <td>NaN</td>\n      <td>NaN</td>\n      <td>NaN</td>\n      <td>0.0156</td>\n      <td>0.0178</td>\n      <td>0.0166</td>\n      <td>0.0</td>\n      <td>0.0</td>\n      <td>0.0</td>\n    </tr>\n    <tr>\n      <th>49</th>\n      <td>7.122935e+08</td>\n      <td>0.0484</td>\n      <td>-0.1314</td>\n      <td>-0.0743</td>\n      <td>NaN</td>\n      <td>NaN</td>\n      <td>NaN</td>\n      <td>NaN</td>\n      <td>NaN</td>\n      <td>NaN</td>\n      <td>NaN</td>\n      <td>NaN</td>\n      <td>NaN</td>\n      <td>0.0156</td>\n      <td>0.0178</td>\n      <td>0.0166</td>\n      <td>0.0</td>\n      <td>0.0</td>\n      <td>0.0</td>\n    </tr>\n  </tbody>\n</table>\n</div>"
     },
     "execution_count": 90,
     "metadata": {},
     "output_type": "execute_result"
    }
   ],
   "source": [
    "merged_df.iloc[0:50]"
   ],
   "metadata": {
    "collapsed": false,
    "ExecuteTime": {
     "end_time": "2024-04-04T03:34:00.828264Z",
     "start_time": "2024-04-04T03:34:00.805551Z"
    }
   },
   "id": "77c31e6d88464f07",
   "execution_count": 90
  },
  {
   "cell_type": "code",
   "outputs": [],
   "source": [
    "first_pos = merged_df[~merged_df.x.isnull()].iloc[0].name\n",
    "merged_df = merged_df.loc[first_pos:].reset_index(drop=True)\n",
    "df = merged_df.to_records()"
   ],
   "metadata": {
    "collapsed": false,
    "ExecuteTime": {
     "end_time": "2024-04-04T03:34:01.952916Z",
     "start_time": "2024-04-04T03:34:00.830054Z"
    }
   },
   "id": "45fb04bb79deda46",
   "execution_count": 91
  },
  {
   "cell_type": "code",
   "outputs": [
    {
     "data": {
      "text/plain": "                  dts   vel_e   vel_n   vel_u            x             y  \\\n0        7.122935e+08  0.0341 -0.4850  0.2472 -2575324.461 -3.682599e+06   \n1        7.122935e+08  0.0438 -0.4740  0.2121          NaN           NaN   \n2        7.122935e+08  0.0576 -0.4702  0.1735          NaN           NaN   \n3        7.122935e+08  0.0727 -0.4730  0.1400          NaN           NaN   \n4        7.122935e+08  0.0881 -0.4780  0.1050          NaN           NaN   \n...               ...     ...     ...     ...          ...           ...   \n3865077  7.123618e+08  1.0631 -0.9726 -0.1158          NaN           NaN   \n3865078  7.123618e+08  1.0885 -0.9804 -0.1416          NaN           NaN   \n3865079  7.123618e+08  1.1255 -0.9709 -0.1728          NaN           NaN   \n3865080  7.123618e+08  1.1578 -0.9542 -0.2087          NaN           NaN   \n3865081  7.123618e+08  1.1918 -0.9272 -0.2501          NaN           NaN   \n\n                    z     sdx     sdy     sdz      sdxy      sdxz      sdyz  \\\n0        4.511020e+06  0.0119  0.0143  0.0124  0.013045  0.012147  0.013316   \n1                 NaN     NaN     NaN     NaN       NaN       NaN       NaN   \n2                 NaN     NaN     NaN     NaN       NaN       NaN       NaN   \n3                 NaN     NaN     NaN     NaN       NaN       NaN       NaN   \n4                 NaN     NaN     NaN     NaN       NaN       NaN       NaN   \n...               ...     ...     ...     ...       ...       ...       ...   \n3865077           NaN     NaN     NaN     NaN       NaN       NaN       NaN   \n3865078           NaN     NaN     NaN     NaN       NaN       NaN       NaN   \n3865079           NaN     NaN     NaN     NaN       NaN       NaN       NaN   \n3865080           NaN     NaN     NaN     NaN       NaN       NaN       NaN   \n3865081           NaN     NaN     NaN     NaN       NaN       NaN       NaN   \n\n          v_sde   v_sdn   v_sdu  v_sden  v_sdeu  v_sdnu  \n0        0.0159  0.0179  0.0160     0.0     0.0     0.0  \n1        0.0160  0.0181  0.0165     0.0     0.0     0.0  \n2        0.0160  0.0181  0.0165     0.0     0.0     0.0  \n3        0.0160  0.0181  0.0165     0.0     0.0     0.0  \n4        0.0160  0.0181  0.0165     0.0     0.0     0.0  \n...         ...     ...     ...     ...     ...     ...  \n3865077  0.0147  0.0172  0.0206     0.0     0.0     0.0  \n3865078  0.0147  0.0172  0.0206     0.0     0.0     0.0  \n3865079  0.0147  0.0172  0.0206     0.0     0.0     0.0  \n3865080  0.0147  0.0172  0.0206     0.0     0.0     0.0  \n3865081  0.0147  0.0172  0.0206     0.0     0.0     0.0  \n\n[3865082 rows x 19 columns]",
      "text/html": "<div>\n<style scoped>\n    .dataframe tbody tr th:only-of-type {\n        vertical-align: middle;\n    }\n\n    .dataframe tbody tr th {\n        vertical-align: top;\n    }\n\n    .dataframe thead th {\n        text-align: right;\n    }\n</style>\n<table border=\"1\" class=\"dataframe\">\n  <thead>\n    <tr style=\"text-align: right;\">\n      <th></th>\n      <th>dts</th>\n      <th>vel_e</th>\n      <th>vel_n</th>\n      <th>vel_u</th>\n      <th>x</th>\n      <th>y</th>\n      <th>z</th>\n      <th>sdx</th>\n      <th>sdy</th>\n      <th>sdz</th>\n      <th>sdxy</th>\n      <th>sdxz</th>\n      <th>sdyz</th>\n      <th>v_sde</th>\n      <th>v_sdn</th>\n      <th>v_sdu</th>\n      <th>v_sden</th>\n      <th>v_sdeu</th>\n      <th>v_sdnu</th>\n    </tr>\n  </thead>\n  <tbody>\n    <tr>\n      <th>0</th>\n      <td>7.122935e+08</td>\n      <td>0.0341</td>\n      <td>-0.4850</td>\n      <td>0.2472</td>\n      <td>-2575324.461</td>\n      <td>-3.682599e+06</td>\n      <td>4.511020e+06</td>\n      <td>0.0119</td>\n      <td>0.0143</td>\n      <td>0.0124</td>\n      <td>0.013045</td>\n      <td>0.012147</td>\n      <td>0.013316</td>\n      <td>0.0159</td>\n      <td>0.0179</td>\n      <td>0.0160</td>\n      <td>0.0</td>\n      <td>0.0</td>\n      <td>0.0</td>\n    </tr>\n    <tr>\n      <th>1</th>\n      <td>7.122935e+08</td>\n      <td>0.0438</td>\n      <td>-0.4740</td>\n      <td>0.2121</td>\n      <td>NaN</td>\n      <td>NaN</td>\n      <td>NaN</td>\n      <td>NaN</td>\n      <td>NaN</td>\n      <td>NaN</td>\n      <td>NaN</td>\n      <td>NaN</td>\n      <td>NaN</td>\n      <td>0.0160</td>\n      <td>0.0181</td>\n      <td>0.0165</td>\n      <td>0.0</td>\n      <td>0.0</td>\n      <td>0.0</td>\n    </tr>\n    <tr>\n      <th>2</th>\n      <td>7.122935e+08</td>\n      <td>0.0576</td>\n      <td>-0.4702</td>\n      <td>0.1735</td>\n      <td>NaN</td>\n      <td>NaN</td>\n      <td>NaN</td>\n      <td>NaN</td>\n      <td>NaN</td>\n      <td>NaN</td>\n      <td>NaN</td>\n      <td>NaN</td>\n      <td>NaN</td>\n      <td>0.0160</td>\n      <td>0.0181</td>\n      <td>0.0165</td>\n      <td>0.0</td>\n      <td>0.0</td>\n      <td>0.0</td>\n    </tr>\n    <tr>\n      <th>3</th>\n      <td>7.122935e+08</td>\n      <td>0.0727</td>\n      <td>-0.4730</td>\n      <td>0.1400</td>\n      <td>NaN</td>\n      <td>NaN</td>\n      <td>NaN</td>\n      <td>NaN</td>\n      <td>NaN</td>\n      <td>NaN</td>\n      <td>NaN</td>\n      <td>NaN</td>\n      <td>NaN</td>\n      <td>0.0160</td>\n      <td>0.0181</td>\n      <td>0.0165</td>\n      <td>0.0</td>\n      <td>0.0</td>\n      <td>0.0</td>\n    </tr>\n    <tr>\n      <th>4</th>\n      <td>7.122935e+08</td>\n      <td>0.0881</td>\n      <td>-0.4780</td>\n      <td>0.1050</td>\n      <td>NaN</td>\n      <td>NaN</td>\n      <td>NaN</td>\n      <td>NaN</td>\n      <td>NaN</td>\n      <td>NaN</td>\n      <td>NaN</td>\n      <td>NaN</td>\n      <td>NaN</td>\n      <td>0.0160</td>\n      <td>0.0181</td>\n      <td>0.0165</td>\n      <td>0.0</td>\n      <td>0.0</td>\n      <td>0.0</td>\n    </tr>\n    <tr>\n      <th>...</th>\n      <td>...</td>\n      <td>...</td>\n      <td>...</td>\n      <td>...</td>\n      <td>...</td>\n      <td>...</td>\n      <td>...</td>\n      <td>...</td>\n      <td>...</td>\n      <td>...</td>\n      <td>...</td>\n      <td>...</td>\n      <td>...</td>\n      <td>...</td>\n      <td>...</td>\n      <td>...</td>\n      <td>...</td>\n      <td>...</td>\n      <td>...</td>\n    </tr>\n    <tr>\n      <th>3865077</th>\n      <td>7.123618e+08</td>\n      <td>1.0631</td>\n      <td>-0.9726</td>\n      <td>-0.1158</td>\n      <td>NaN</td>\n      <td>NaN</td>\n      <td>NaN</td>\n      <td>NaN</td>\n      <td>NaN</td>\n      <td>NaN</td>\n      <td>NaN</td>\n      <td>NaN</td>\n      <td>NaN</td>\n      <td>0.0147</td>\n      <td>0.0172</td>\n      <td>0.0206</td>\n      <td>0.0</td>\n      <td>0.0</td>\n      <td>0.0</td>\n    </tr>\n    <tr>\n      <th>3865078</th>\n      <td>7.123618e+08</td>\n      <td>1.0885</td>\n      <td>-0.9804</td>\n      <td>-0.1416</td>\n      <td>NaN</td>\n      <td>NaN</td>\n      <td>NaN</td>\n      <td>NaN</td>\n      <td>NaN</td>\n      <td>NaN</td>\n      <td>NaN</td>\n      <td>NaN</td>\n      <td>NaN</td>\n      <td>0.0147</td>\n      <td>0.0172</td>\n      <td>0.0206</td>\n      <td>0.0</td>\n      <td>0.0</td>\n      <td>0.0</td>\n    </tr>\n    <tr>\n      <th>3865079</th>\n      <td>7.123618e+08</td>\n      <td>1.1255</td>\n      <td>-0.9709</td>\n      <td>-0.1728</td>\n      <td>NaN</td>\n      <td>NaN</td>\n      <td>NaN</td>\n      <td>NaN</td>\n      <td>NaN</td>\n      <td>NaN</td>\n      <td>NaN</td>\n      <td>NaN</td>\n      <td>NaN</td>\n      <td>0.0147</td>\n      <td>0.0172</td>\n      <td>0.0206</td>\n      <td>0.0</td>\n      <td>0.0</td>\n      <td>0.0</td>\n    </tr>\n    <tr>\n      <th>3865080</th>\n      <td>7.123618e+08</td>\n      <td>1.1578</td>\n      <td>-0.9542</td>\n      <td>-0.2087</td>\n      <td>NaN</td>\n      <td>NaN</td>\n      <td>NaN</td>\n      <td>NaN</td>\n      <td>NaN</td>\n      <td>NaN</td>\n      <td>NaN</td>\n      <td>NaN</td>\n      <td>NaN</td>\n      <td>0.0147</td>\n      <td>0.0172</td>\n      <td>0.0206</td>\n      <td>0.0</td>\n      <td>0.0</td>\n      <td>0.0</td>\n    </tr>\n    <tr>\n      <th>3865081</th>\n      <td>7.123618e+08</td>\n      <td>1.1918</td>\n      <td>-0.9272</td>\n      <td>-0.2501</td>\n      <td>NaN</td>\n      <td>NaN</td>\n      <td>NaN</td>\n      <td>NaN</td>\n      <td>NaN</td>\n      <td>NaN</td>\n      <td>NaN</td>\n      <td>NaN</td>\n      <td>NaN</td>\n      <td>0.0147</td>\n      <td>0.0172</td>\n      <td>0.0206</td>\n      <td>0.0</td>\n      <td>0.0</td>\n      <td>0.0</td>\n    </tr>\n  </tbody>\n</table>\n<p>3865082 rows × 19 columns</p>\n</div>"
     },
     "execution_count": 92,
     "metadata": {},
     "output_type": "execute_result"
    }
   ],
   "source": [
    "merged_df"
   ],
   "metadata": {
    "collapsed": false,
    "ExecuteTime": {
     "end_time": "2024-04-04T03:34:01.970808Z",
     "start_time": "2024-04-04T03:34:01.953891Z"
    }
   },
   "id": "8477d7c2163a43ab",
   "execution_count": 92
  },
  {
   "cell_type": "code",
   "outputs": [
    {
     "data": {
      "text/plain": "0"
     },
     "execution_count": 93,
     "metadata": {},
     "output_type": "execute_result"
    }
   ],
   "source": [
    "import gc\n",
    "\n",
    "del [[inspvaa_df,insstdeva_df, gps_df, ]]\n",
    "gc.collect()"
   ],
   "metadata": {
    "collapsed": false,
    "ExecuteTime": {
     "end_time": "2024-04-04T03:34:02.151874Z",
     "start_time": "2024-04-04T03:34:01.971658Z"
    }
   },
   "id": "9a7f8ca085180a3b",
   "execution_count": 93
  },
  {
   "cell_type": "code",
   "outputs": [],
   "source": [
    "from math import pi\n",
    "\n",
    "import numpy as np\n",
    "from numpy import asarray, empty_like, finfo, where\n",
    "from numpy import arctan as atan\n",
    "from numpy import arctan2 as atan2\n",
    "from numpy import (\n",
    "    cos,\n",
    "    degrees,\n",
    "    hypot,\n",
    "    sin,\n",
    "    sqrt,\n",
    "    tan,\n",
    ")\n",
    "\n",
    "import numba"
   ],
   "metadata": {
    "collapsed": false,
    "ExecuteTime": {
     "end_time": "2024-04-04T03:34:02.156039Z",
     "start_time": "2024-04-04T03:34:02.152798Z"
    }
   },
   "id": "957317010b34036c",
   "execution_count": 94
  },
  {
   "cell_type": "code",
   "outputs": [],
   "source": [
    "# Process noise matrix\n",
    "gnss_pos_psd = 3.125e-5\n",
    "vel_psd = 0.0025\n",
    "\n",
    "WGS84_ELL = {\"name\": \"WGS-84 (1984)\", \"a\": 6378137.0, \"b\": 6356752.31424518}\n",
    "semimajor_axis = WGS84_ELL[\"a\"]\n",
    "semiminor_axis = WGS84_ELL[\"b\"]\n",
    "\n",
    "\n",
    "@numba.njit\n",
    "def ecef2geodetic(\n",
    "    x: float,\n",
    "    y: float,\n",
    "    z: float,\n",
    "    semimajor_axis: float = semimajor_axis,\n",
    "    semiminor_axis: float = semiminor_axis,\n",
    "    eps=finfo(np.float32).eps,\n",
    ") -> tuple:\n",
    "    \"\"\"\n",
    "    convert ECEF (meters) to geodetic coordinates\n",
    "\n",
    "    rewrite of pymap3d.ecef2geodetic to use numba for speedup...\n",
    "    not as robust\n",
    "    \"\"\"\n",
    "\n",
    "    x = asarray(x)\n",
    "    y = asarray(y)\n",
    "    z = asarray(z)\n",
    "\n",
    "    r = sqrt(x**2 + y**2 + z**2)\n",
    "\n",
    "    E = sqrt(semimajor_axis**2 - semiminor_axis**2)\n",
    "\n",
    "    # eqn. 4a\n",
    "    u = sqrt(0.5 * (r**2 - E**2) + 0.5 * hypot(r**2 - E**2, 2 * E * z))\n",
    "\n",
    "    hxy = hypot(x, y)\n",
    "\n",
    "    huE = hypot(u, E)\n",
    "\n",
    "    # eqn. 4b\n",
    "    Beta = empty_like(r)\n",
    "    Beta = atan(huE / u * z / hxy)\n",
    "    # eqn. 13\n",
    "    Beta += ((semiminor_axis * u - semimajor_axis * huE + E**2) * sin(Beta)) / (\n",
    "        semimajor_axis * huE * 1 / cos(Beta) - E**2 * cos(Beta)\n",
    "    )\n",
    "\n",
    "    # eqn. 4c\n",
    "    # %% final output\n",
    "    lat = atan(semimajor_axis / semiminor_axis * tan(Beta))\n",
    "\n",
    "    # # patch latitude for float32 precision loss\n",
    "    lim_pi2 = pi / 2 - eps\n",
    "    lat = where(Beta >= lim_pi2, pi / 2, lat)\n",
    "    lat = where(Beta <= -lim_pi2, -pi / 2, lat)\n",
    "\n",
    "    lon = atan2(y, x)\n",
    "\n",
    "    # eqn. 7\n",
    "    cosBeta = cos(Beta)\n",
    "\n",
    "    # patch altitude for float32 precision loss\n",
    "    cosBeta = where(Beta >= lim_pi2, 0, cosBeta)\n",
    "    cosBeta = where(Beta <= -lim_pi2, 0, cosBeta)\n",
    "\n",
    "    alt = hypot(z - semiminor_axis * sin(Beta), hxy - semimajor_axis * cosBeta)\n",
    "\n",
    "    lat = degrees(lat)\n",
    "    lon = degrees(lon)\n",
    "\n",
    "    return lat, lon, alt\n",
    "\n",
    "\n",
    "@numba.njit\n",
    "def predict(dt, X, P, Q, F):\n",
    "    F[0:3, 3:6] = np.identity(3) * dt\n",
    "    Q = updateQ(dt, Q)\n",
    "    X = F @ X\n",
    "    P = F @ P @ F.T + Q\n",
    "\n",
    "    return X, P, Q, F\n",
    "\n",
    "\n",
    "@numba.njit\n",
    "def updateQ(dt, Q):\n",
    "    # Position estimation noise\n",
    "    # Initial Q values from Chadwell code 3.125d-5 3.125d-5 3.125d-5 0.0025 0.0025 0.0025, assumes white noise of 2.5 cm over a second\n",
    "    Q[0:3, 0:3] = np.identity(3) * gnss_pos_psd * dt\n",
    "\n",
    "    # Velocity estimation noise (acc psd)\n",
    "    Q[3:6, 3:6] = np.identity(3) * vel_psd\n",
    "\n",
    "    return Q\n",
    "\n",
    "\n",
    "@numba.njit\n",
    "def rot_vel(row, lat, lon):\n",
    "    \"\"\"\n",
    "    ------------------- Rotate ENU velocity into ECEF velocity --------------------------------\n",
    "                dX = |  -sg   -sa*cg  ca*cg | | de |        de = |  -sg       cg      0 | | dX |\n",
    "                dY = |   cg   -sa*sg  ca*sg | | dn |  and   dn = |-sa*cg  -sa*sg     ca | | dY |\n",
    "                dZ = |    0    ca     sa    | | du |        du = | ca*cg   ca*sg     sa | | dZ |\n",
    "    -------------------------------------------------------------------------------------------\n",
    "    \"\"\"\n",
    "    v_enu = row[1:4].copy().reshape((3, 1))\n",
    "    lat = np.deg2rad(lat)\n",
    "    lam = np.deg2rad(lon)\n",
    "\n",
    "    ca = np.cos(lat)\n",
    "    sa = np.sin(lat)\n",
    "\n",
    "    cg = np.cos(lam)\n",
    "    sg = np.sin(lam)\n",
    "\n",
    "    rot = np.zeros((3, 3))\n",
    "    rot[0, 0] = -sg\n",
    "    rot[0, 1] = -sa * cg\n",
    "    rot[0, 2] = ca * cg\n",
    "    rot[1, 0] = cg\n",
    "    rot[1, 1] = -sa * sg\n",
    "    rot[1, 2] = ca * sg\n",
    "    rot[2, 0] = 0\n",
    "    rot[2, 1] = ca\n",
    "    rot[2, 2] = sa\n",
    "    v_xyz = rot @ v_enu\n",
    "\n",
    "    return rot, v_xyz\n",
    "\n",
    "\n",
    "@numba.njit\n",
    "def update_vel_cov(row, R_velocity, rot):\n",
    "    # Velocity measurement noise\n",
    "    # Vel STD\n",
    "    R_velocity[0, 0] = row[13] ** 2\n",
    "    R_velocity[1, 1] = row[14] ** 2\n",
    "    R_velocity[2, 2] = row[15] ** 2\n",
    "\n",
    "    R_velocity[0, 1] = row[16]\n",
    "    R_velocity[0, 2] = row[17]\n",
    "    R_velocity[1, 2] = row[18]\n",
    "\n",
    "    R_velocity[1, 0] = R_velocity[0, 1]\n",
    "    R_velocity[2, 0] = R_velocity[0, 2]\n",
    "    R_velocity[2, 1] = R_velocity[1, 2]\n",
    "\n",
    "    R_velocity = rot @ R_velocity @ rot.T\n",
    "    return R_velocity\n",
    "\n",
    "\n",
    "@numba.njit\n",
    "def update_rpos(row, R_position):\n",
    "    R_position[0, 0] = row[7] ** 2\n",
    "    R_position[1, 1] = row[8] ** 2\n",
    "    R_position[2, 2] = row[9] ** 2\n",
    "\n",
    "    R_position[0, 1] = np.sign(row[10]) * row[10] ** 2\n",
    "    R_position[0, 2] = np.sign(row[11]) * row[11] ** 2\n",
    "    R_position[1, 2] = np.sign(row[12]) * row[12] ** 2\n",
    "\n",
    "    R_position[1, 0] = R_position[0, 1]\n",
    "    R_position[2, 0] = R_position[0, 2]\n",
    "    R_position[2, 1] = R_position[1, 2]\n",
    "    return R_position\n",
    "\n",
    "\n",
    "@numba.njit\n",
    "def update_position(row, Nx, X, P, R_position):\n",
    "    pos_xyz = row[4:7].copy().reshape((3, 1))\n",
    "\n",
    "    H = np.zeros((3, Nx))\n",
    "    H[0:3, 0:3] = np.identity(3)\n",
    "    R_position = update_rpos(row, R_position)\n",
    "\n",
    "    y = pos_xyz - H @ X\n",
    "    S = H @ P @ H.T + R_position\n",
    "    K = (P @ H.T) @ np.linalg.inv(S)\n",
    "    X = X + K @ y\n",
    "\n",
    "    I = np.identity(Nx)  # noqa\n",
    "    P = (I - K @ H) @ P\n",
    "    return X, P, R_position\n",
    "\n",
    "\n",
    "@numba.njit\n",
    "def update_velocity(Nx, X, P, R_velocity, v_xyz):\n",
    "    H = np.zeros((3, Nx))\n",
    "    H[0:3, 3:6] = np.identity(3)\n",
    "\n",
    "    y = v_xyz - H @ X\n",
    "    S = H @ P @ H.T + R_velocity\n",
    "    K = (P @ H.T) @ np.linalg.inv(S)\n",
    "    X = X + K @ y\n",
    "\n",
    "    IDENTITY = np.identity(Nx)\n",
    "    P = (IDENTITY - K @ H) @ P\n",
    "    return X, P, R_velocity\n",
    "\n",
    "\n",
    "@numba.njit\n",
    "def rts_smoother(Xs, Ps, F, Q):\n",
    "    # Rauch, Tongue, and Striebel smoother\n",
    "\n",
    "    n, dim_x, _ = Xs.shape\n",
    "\n",
    "    # smoother gain\n",
    "    K = np.zeros((n, dim_x, dim_x))\n",
    "    x, P, Pp = Xs.copy(), Ps.copy(), Ps.copy()\n",
    "\n",
    "    i = 0\n",
    "    for k in range(n - 2, -1, -1):\n",
    "        Pp[k] = F @ P[k] @ F.T + Q  # predicted covariance\n",
    "\n",
    "        K[k] = P[k] @ F.T @ np.linalg.inv(Pp[k])\n",
    "        x[k] += K[k] @ (x[k + 1] - (F @ x[k]))\n",
    "        P[k] += K[k] @ (P[k + 1] - Pp[k]) @ K[k].T\n",
    "        i += 1\n",
    "\n",
    "    return x, P, K, Pp\n",
    "\n",
    "\n",
    "@numba.njit\n",
    "def kalman_init(row):\n",
    "    dt = 5e-2\n",
    "    Nx = 6\n",
    "    Nu = 3  # noqa\n",
    "\n",
    "    # error states: pos_xyz, v_ned, eul, bias_acc, bias_gyro\n",
    "    X = np.zeros((Nx, 1))\n",
    "    # Initial antenna location\n",
    "    pos_xyz = row[4:7].copy().reshape((3, 1))\n",
    "    X[0:3] = pos_xyz\n",
    "\n",
    "    lat, lon, _ = ecef2geodetic(X[0], X[1], X[2])\n",
    "    # Initial antenna velocity\n",
    "    rot, v_xyz = rot_vel(row, lat[0], lon[0])\n",
    "    X[3:6] = v_xyz\n",
    "\n",
    "    # Process model\n",
    "\n",
    "    # State transition matrix\n",
    "    F = np.identity(Nx)\n",
    "    F[0:3, 3:6] = np.identity(3) * dt\n",
    "\n",
    "    # Set initial values to 0.25?\n",
    "    P = np.identity(Nx)\n",
    "\n",
    "    # Process noise matrix\n",
    "    Q = np.zeros((Nx, Nx))\n",
    "    Q = updateQ(dt, Q)\n",
    "\n",
    "    # Position measurement noise\n",
    "    R_position = np.identity(3)\n",
    "    R_position = update_rpos(row, R_position)\n",
    "\n",
    "    # Velocity measurement noise\n",
    "    R_velocity = np.identity(3) * 4e-8\n",
    "    R_velocity[0, 1] = 1.5e-9\n",
    "    R_velocity[0, 2] = 1.5e-9\n",
    "    R_velocity[1, 2] = 1.5e-9\n",
    "    R_velocity[1, 0] = R_velocity[0, 1]\n",
    "    R_velocity[2, 0] = R_velocity[0, 2]\n",
    "    R_velocity[2, 1] = R_velocity[1, 2]\n",
    "\n",
    "    R_velocity = update_vel_cov(row, R_velocity, rot)\n",
    "\n",
    "    return Nx, X, P, Q, F, R_position, R_velocity\n",
    "\n",
    "\n",
    "@numba.njit\n",
    "def run_filter_simulation(records):\n",
    "    last_time = np.nan\n",
    "    records_len = records.shape[0]\n",
    "    Xs = np.zeros((records_len, 6, 1))\n",
    "    Ps = np.zeros((records_len, 6, 6))\n",
    "    n_records = len(records)\n",
    "    for i in range(n_records):\n",
    "        row = records[i]\n",
    "        dts = row[0]\n",
    "        if i == 0:\n",
    "            Nx, X, P, Q, F, R_position, R_velocity = kalman_init(row)\n",
    "            last_time = dts\n",
    "        else:\n",
    "            dt = np.abs(\n",
    "                dts - last_time\n",
    "            )  # This helps to stabilize the solution, abs ensures reverse filtering works.\n",
    "            X, P, Q, F = predict(dt, X, P, Q, F)\n",
    "\n",
    "            last_time = dts\n",
    "\n",
    "            lat, lon, _ = ecef2geodetic(X[0], X[1], X[2])\n",
    "            rot, v_xyz = rot_vel(row, lat[0], lon[0])\n",
    "\n",
    "            # New velocity standard deviations\n",
    "            if ~np.isnan(row[16]):\n",
    "                R_velocity = update_vel_cov(row, R_velocity, rot)\n",
    "\n",
    "            # new GNSS measurement\n",
    "            if ~np.isnan(row[4]):\n",
    "                X, P, R_position = update_position(row, Nx, X, P, R_position)\n",
    "\n",
    "            # new velocity measurement\n",
    "            if ~np.isnan(row[1]):\n",
    "                X, P, R_velocity = update_velocity(Nx, X, P, R_velocity, v_xyz)\n",
    "\n",
    "        Xs[i] = X\n",
    "        Ps[i] = P\n",
    "\n",
    "    x, P, K, Pp = rts_smoother(Xs, Ps, F, Q)\n",
    "\n",
    "    return x, P, K, Pp"
   ],
   "metadata": {
    "collapsed": false,
    "ExecuteTime": {
     "end_time": "2024-04-04T03:34:02.194136Z",
     "start_time": "2024-04-04T03:34:02.157022Z"
    }
   },
   "id": "ede701abfd0c90f1",
   "execution_count": 95
  },
  {
   "cell_type": "code",
   "outputs": [
    {
     "data": {
      "text/plain": "array([[ 7.12293533e+08,  3.41000000e-02, -4.85000000e-01, ...,\n         0.00000000e+00,  0.00000000e+00,  0.00000000e+00],\n       [ 7.12293533e+08,  4.38000000e-02, -4.74000000e-01, ...,\n         0.00000000e+00,  0.00000000e+00,  0.00000000e+00],\n       [ 7.12293533e+08,  5.76000000e-02, -4.70200000e-01, ...,\n         0.00000000e+00,  0.00000000e+00,  0.00000000e+00],\n       ...,\n       [ 7.12361848e+08,  1.12550000e+00, -9.70900000e-01, ...,\n         0.00000000e+00,  0.00000000e+00,  0.00000000e+00],\n       [ 7.12361848e+08,  1.15780000e+00, -9.54200000e-01, ...,\n         0.00000000e+00,  0.00000000e+00,  0.00000000e+00],\n       [ 7.12361848e+08,  1.19180000e+00, -9.27200000e-01, ...,\n         0.00000000e+00,  0.00000000e+00,  0.00000000e+00]])"
     },
     "execution_count": 96,
     "metadata": {},
     "output_type": "execute_result"
    }
   ],
   "source": [
    "records = merged_df.to_numpy()\n",
    "records"
   ],
   "metadata": {
    "collapsed": false,
    "ExecuteTime": {
     "end_time": "2024-04-04T03:34:02.201702Z",
     "start_time": "2024-04-04T03:34:02.196075Z"
    }
   },
   "id": "17591aef8a136a2",
   "execution_count": 96
  },
  {
   "cell_type": "code",
   "outputs": [
    {
     "name": "stdout",
     "output_type": "stream",
     "text": [
      "CPU times: user 39 s, sys: 1.33 s, total: 40.3 s\n",
      "Wall time: 40.1 s\n"
     ]
    }
   ],
   "source": [
    "%%time\n",
    "x, P, K, Pp = run_filter_simulation(records)"
   ],
   "metadata": {
    "collapsed": false,
    "ExecuteTime": {
     "end_time": "2024-04-04T03:34:42.298161Z",
     "start_time": "2024-04-04T03:34:02.203141Z"
    }
   },
   "id": "6fabac1cc9fa8cdc",
   "execution_count": 97
  },
  {
   "cell_type": "code",
   "outputs": [],
   "source": [
    "records_copy = np.concatenate((records, np.zeros((records.shape[0], 3))), axis=1)"
   ],
   "metadata": {
    "collapsed": false,
    "ExecuteTime": {
     "end_time": "2024-04-04T03:34:42.765994Z",
     "start_time": "2024-04-04T03:34:42.299344Z"
    }
   },
   "id": "593188d5dc8f4d04",
   "execution_count": 98
  },
  {
   "cell_type": "code",
   "outputs": [
    {
     "data": {
      "text/plain": "array([[ 7.12293533e+08,  3.41000000e-02, -4.85000000e-01, ...,\n         0.00000000e+00,  0.00000000e+00,  0.00000000e+00],\n       [ 7.12293533e+08,  4.38000000e-02, -4.74000000e-01, ...,\n         0.00000000e+00,  0.00000000e+00,  0.00000000e+00],\n       [ 7.12293533e+08,  5.76000000e-02, -4.70200000e-01, ...,\n         0.00000000e+00,  0.00000000e+00,  0.00000000e+00],\n       ...,\n       [ 7.12361848e+08,  1.12550000e+00, -9.70900000e-01, ...,\n         0.00000000e+00,  0.00000000e+00,  0.00000000e+00],\n       [ 7.12361848e+08,  1.15780000e+00, -9.54200000e-01, ...,\n         0.00000000e+00,  0.00000000e+00,  0.00000000e+00],\n       [ 7.12361848e+08,  1.19180000e+00, -9.27200000e-01, ...,\n         0.00000000e+00,  0.00000000e+00,  0.00000000e+00]])"
     },
     "execution_count": 99,
     "metadata": {},
     "output_type": "execute_result"
    }
   ],
   "source": [
    "records_copy"
   ],
   "metadata": {
    "collapsed": false,
    "ExecuteTime": {
     "end_time": "2024-04-04T03:34:42.770753Z",
     "start_time": "2024-04-04T03:34:42.767372Z"
    }
   },
   "id": "7f9e20a221a3191c",
   "execution_count": 99
  },
  {
   "cell_type": "code",
   "outputs": [],
   "source": [
    "@numba.njit\n",
    "def ecef2geodetic_v1(records):\n",
    "    for i in range(len(records)):\n",
    "        records[i, 19:22] = ecef2geodetic(records[i, 4],records[i, 5],records[i, 6])\n",
    "    return records"
   ],
   "metadata": {
    "collapsed": false,
    "ExecuteTime": {
     "end_time": "2024-04-04T03:34:42.775640Z",
     "start_time": "2024-04-04T03:34:42.771658Z"
    }
   },
   "id": "efa3847d4684d374",
   "execution_count": 100
  },
  {
   "cell_type": "code",
   "outputs": [
    {
     "name": "stdout",
     "output_type": "stream",
     "text": [
      "CPU times: user 3.65 s, sys: 17.2 ms, total: 3.67 s\n",
      "Wall time: 3.66 s\n"
     ]
    },
    {
     "data": {
      "text/plain": "array([[ 7.12293533e+08,  3.41000000e-02, -4.85000000e-01, ...,\n         4.53022793e+01, -1.24965962e+02,  2.74717960e+01],\n       [ 7.12293533e+08,  4.38000000e-02, -4.74000000e-01, ...,\n                    nan,             nan,             nan],\n       [ 7.12293533e+08,  5.76000000e-02, -4.70200000e-01, ...,\n                    nan,             nan,             nan],\n       ...,\n       [ 7.12361848e+08,  1.12550000e+00, -9.70900000e-01, ...,\n                    nan,             nan,             nan],\n       [ 7.12361848e+08,  1.15780000e+00, -9.54200000e-01, ...,\n                    nan,             nan,             nan],\n       [ 7.12361848e+08,  1.19180000e+00, -9.27200000e-01, ...,\n                    nan,             nan,             nan]])"
     },
     "execution_count": 101,
     "metadata": {},
     "output_type": "execute_result"
    }
   ],
   "source": [
    "%%time\n",
    "\n",
    "records_copy_v1 = ecef2geodetic_v1(records_copy)\n",
    "records_copy_v1"
   ],
   "metadata": {
    "collapsed": false,
    "ExecuteTime": {
     "end_time": "2024-04-04T03:34:46.442825Z",
     "start_time": "2024-04-04T03:34:42.776787Z"
    }
   },
   "id": "c1841b1f2e868d5",
   "execution_count": 101
  },
  {
   "cell_type": "code",
   "outputs": [],
   "source": [
    "def ecef2geodetic_v2(\n",
    "    np_array,\n",
    "    semimajor_axis: float = semimajor_axis,\n",
    "    semiminor_axis: float = semiminor_axis,\n",
    "    eps=finfo(np.float32).eps,\n",
    ") -> tuple:\n",
    "    \"\"\"\n",
    "    convert ECEF (meters) to geodetic coordinates\n",
    "\n",
    "    rewrite of pymap3d.ecef2geodetic to use numba for speedup...\n",
    "    not as robust\n",
    "    \"\"\"\n",
    "    \n",
    "    x, y, z = np_array[:,4], np_array[:,5], np_array[:,6]\n",
    "\n",
    "    r = sqrt(x**2 + y**2 + z**2)\n",
    "\n",
    "    E = sqrt(semimajor_axis**2 - semiminor_axis**2)\n",
    "\n",
    "    # eqn. 4a\n",
    "    u = sqrt(0.5 * (r**2 - E**2) + 0.5 * hypot(r**2 - E**2, 2 * E * z))\n",
    "\n",
    "    hxy = hypot(x, y)\n",
    "\n",
    "    huE = hypot(u, E)\n",
    "\n",
    "    # eqn. 4b\n",
    "    Beta = empty_like(r)\n",
    "    Beta = atan(huE / u * z / hxy)\n",
    "    # eqn. 13\n",
    "    Beta += ((semiminor_axis * u - semimajor_axis * huE + E**2) * sin(Beta)) / (\n",
    "        semimajor_axis * huE * 1 / cos(Beta) - E**2 * cos(Beta)\n",
    "    )\n",
    "\n",
    "    # eqn. 4c\n",
    "    # %% final output\n",
    "    lat = atan(semimajor_axis / semiminor_axis * tan(Beta))\n",
    "\n",
    "    # # patch latitude for float32 precision loss\n",
    "    lim_pi2 = pi / 2 - eps\n",
    "    lat = where(Beta >= lim_pi2, pi / 2, lat)\n",
    "    lat = where(Beta <= -lim_pi2, -pi / 2, lat)\n",
    "\n",
    "    lon = atan2(y, x)\n",
    "\n",
    "    # eqn. 7\n",
    "    cosBeta = cos(Beta)\n",
    "\n",
    "    # patch altitude for float32 precision loss\n",
    "    cosBeta = where(Beta >= lim_pi2, 0, cosBeta)\n",
    "    cosBeta = where(Beta <= -lim_pi2, 0, cosBeta)\n",
    "\n",
    "    alt = hypot(z - semiminor_axis * sin(Beta), hxy - semimajor_axis * cosBeta)\n",
    "\n",
    "    lat = degrees(lat)\n",
    "    lon = degrees(lon)\n",
    "    \n",
    "    np_array[:, 19] = lat\n",
    "    np_array[:, 20] = lon\n",
    "    np_array[:, 21] = alt\n",
    "\n",
    "    return np_array\n"
   ],
   "metadata": {
    "collapsed": false,
    "ExecuteTime": {
     "end_time": "2024-04-04T03:34:46.448803Z",
     "start_time": "2024-04-04T03:34:46.443858Z"
    }
   },
   "id": "e327fd298f7e4edf",
   "execution_count": 102
  },
  {
   "cell_type": "code",
   "outputs": [
    {
     "name": "stdout",
     "output_type": "stream",
     "text": [
      "CPU times: user 507 ms, sys: 67.7 ms, total: 575 ms\n",
      "Wall time: 575 ms\n"
     ]
    },
    {
     "data": {
      "text/plain": "array([[ 7.12293533e+08,  3.41000000e-02, -4.85000000e-01, ...,\n         4.53022793e+01, -1.24965962e+02,  2.74717960e+01],\n       [ 7.12293533e+08,  4.38000000e-02, -4.74000000e-01, ...,\n                    nan,             nan,             nan],\n       [ 7.12293533e+08,  5.76000000e-02, -4.70200000e-01, ...,\n                    nan,             nan,             nan],\n       ...,\n       [ 7.12361848e+08,  1.12550000e+00, -9.70900000e-01, ...,\n                    nan,             nan,             nan],\n       [ 7.12361848e+08,  1.15780000e+00, -9.54200000e-01, ...,\n                    nan,             nan,             nan],\n       [ 7.12361848e+08,  1.19180000e+00, -9.27200000e-01, ...,\n                    nan,             nan,             nan]])"
     },
     "execution_count": 103,
     "metadata": {},
     "output_type": "execute_result"
    }
   ],
   "source": [
    "%%time\n",
    "\n",
    "records_copy_v2 = ecef2geodetic_v2(\n",
    "    records_copy\n",
    ")\n",
    "records_copy_v2"
   ],
   "metadata": {
    "collapsed": false,
    "ExecuteTime": {
     "end_time": "2024-04-04T03:34:47.029251Z",
     "start_time": "2024-04-04T03:34:46.449693Z"
    }
   },
   "id": "2326473ff2cb6270",
   "execution_count": 103
  },
  {
   "cell_type": "code",
   "outputs": [
    {
     "data": {
      "text/plain": "True"
     },
     "execution_count": 104,
     "metadata": {},
     "output_type": "execute_result"
    }
   ],
   "source": [
    "np.array_equal(records_copy_v1, records_copy_v2, equal_nan=True)"
   ],
   "metadata": {
    "collapsed": false,
    "ExecuteTime": {
     "end_time": "2024-04-04T03:34:47.675307Z",
     "start_time": "2024-04-04T03:34:47.030003Z"
    }
   },
   "id": "a4259aa52c6d609e",
   "execution_count": 104
  },
  {
   "cell_type": "code",
   "outputs": [],
   "source": [
    "x"
   ],
   "metadata": {
    "collapsed": false
   },
   "id": "a7ae679093880aaf",
   "execution_count": null
  },
  {
   "cell_type": "code",
   "outputs": [],
   "source": [
    "P"
   ],
   "metadata": {
    "collapsed": false
   },
   "id": "9d46fa32082239f3",
   "execution_count": null
  },
  {
   "cell_type": "code",
   "outputs": [],
   "source": [
    "K"
   ],
   "metadata": {
    "collapsed": false
   },
   "id": "4e0f63289418545f",
   "execution_count": null
  },
  {
   "cell_type": "code",
   "outputs": [],
   "source": [
    "Pp"
   ],
   "metadata": {
    "collapsed": false
   },
   "id": "2c6854132dabd800",
   "execution_count": null
  },
  {
   "cell_type": "code",
   "outputs": [],
   "source": [
    "smoothed_results = pd.DataFrame(\n",
    "    x.reshape(x.shape[0], -1), columns=[\"x\", \"y\", \"z\", \"vx\", \"vy\", \"vz\"]\n",
    ")\n",
    "lats, lons, alts = pymap3d.ecef2geodetic(\n",
    "    smoothed_results.x.values, smoothed_results.y.values, smoothed_results.z.values\n",
    ")\n",
    "smoothed_results[\"lat\"] = lats\n",
    "smoothed_results[\"lon\"] = lons\n",
    "smoothed_results[\"hae\"] = alts\n",
    "smoothed_results[\"dts\"] = merged_df[0 : len(smoothed_results)].dts"
   ],
   "metadata": {
    "collapsed": false
   },
   "id": "9c700eb58b056086",
   "execution_count": null
  },
  {
   "cell_type": "code",
   "outputs": [],
   "source": [
    "smoothed_results"
   ],
   "metadata": {
    "collapsed": false
   },
   "id": "11c074abd7c26e5e",
   "execution_count": null
  },
  {
   "cell_type": "code",
   "outputs": [],
   "source": [
    "import matplotlib.pyplot as plt"
   ],
   "metadata": {
    "collapsed": false
   },
   "id": "eccf8746ff8413a2",
   "execution_count": null
  },
  {
   "cell_type": "code",
   "outputs": [],
   "source": [
    "fig, ax = plt.subplots()\n",
    "smoothed_results.plot(\"lon\", \"lat\", ax=ax, c=\"green\", label=\"smoothed\")\n",
    "compare = merged_df[0 : len(smoothed_results)][\n",
    "    ~merged_df[0 : len(smoothed_results)].z.isnull()\n",
    "]\n",
    "compare.reset_index(drop=True, inplace=True)\n",
    "lats, lons, alts = pymap3d.ecef2geodetic(\n",
    "    compare.x.values, compare.y.values, compare.z.values\n",
    ")\n",
    "compare[\"lat\"] = lats\n",
    "compare[\"lon\"] = lons\n",
    "compare[\"hae\"] = alts\n",
    "compare.plot(\"lon\", \"lat\", ax=ax, c=\"blue\", label=\"GNSS\")\n",
    "plt.show()"
   ],
   "metadata": {
    "collapsed": false
   },
   "id": "95640bcb76bba41",
   "execution_count": null
  },
  {
   "cell_type": "code",
   "outputs": [],
   "source": [
    "fig, ax = plt.subplots()\n",
    "smoothed_results.plot(\"dts\", \"hae\", ax=ax, c=\"green\", label=\"smoothed\")\n",
    "compare = merged_df[0 : len(smoothed_results)][\n",
    "    ~merged_df[0 : len(smoothed_results)].z.isnull()\n",
    "]\n",
    "compare.reset_index(drop=True, inplace=True)\n",
    "lats, lons, alts = pymap3d.ecef2geodetic(\n",
    "    compare.x.values, compare.y.values, compare.z.values\n",
    ")\n",
    "compare[\"lat\"] = lats\n",
    "compare[\"lon\"] = lons\n",
    "compare[\"hae\"] = alts\n",
    "compare.plot(\"dts\", \"hae\", ax=ax, c=\"blue\", label=\"GNSS\")\n",
    "plt.show()"
   ],
   "metadata": {
    "collapsed": false
   },
   "id": "f4f6794ec201d8cf",
   "execution_count": null
  },
  {
   "cell_type": "code",
   "outputs": [],
   "source": [],
   "metadata": {
    "collapsed": false
   },
   "id": "420b1d7de3be80be",
   "execution_count": null
  }
 ],
 "metadata": {
  "kernelspec": {
   "display_name": "Python 3 (ipykernel)",
   "language": "python",
   "name": "python3"
  },
  "language_info": {
   "codemirror_mode": {
    "name": "ipython",
    "version": 3
   },
   "file_extension": ".py",
   "mimetype": "text/x-python",
   "name": "python",
   "nbconvert_exporter": "python",
   "pygments_lexer": "ipython3",
   "version": "3.9.19"
  }
 },
 "nbformat": 4,
 "nbformat_minor": 5
}
