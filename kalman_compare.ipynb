{
 "cells": [
  {
   "cell_type": "code",
   "outputs": [],
   "source": [
    "import numpy as np\n",
    "import pandas as pd\n",
    "import pylab as p\n",
    "import pymap3d\n",
    "from numpy.linalg import inv\n",
    "import warnings\n",
    "from gnatss.loaders import read_novatel_L1_data_files\n",
    "from gnatss.loaders import load_gps_solutions\n",
    "\n",
    "warnings.filterwarnings('ignore')"
   ],
   "metadata": {
    "collapsed": false,
    "ExecuteTime": {
     "end_time": "2024-04-04T05:03:08.511339Z",
     "start_time": "2024-04-04T05:03:07.738849Z"
    }
   },
   "id": "b55d7c9e3aa04f9f",
   "execution_count": 1
  },
  {
   "cell_type": "code",
   "outputs": [],
   "source": [
    "inspvaa_df = read_novatel_L1_data_files(data_files=['tests/data/2022/NCL1/NCL1_INSPVAA.dat'], data_format=\"INSPVAA\")"
   ],
   "metadata": {
    "collapsed": false,
    "ExecuteTime": {
     "end_time": "2024-04-04T05:03:21.973629Z",
     "start_time": "2024-04-04T05:03:08.512280Z"
    }
   },
   "id": "e378eb80588f86af",
   "execution_count": 2
  },
  {
   "cell_type": "code",
   "outputs": [],
   "source": [
    "insstdeva_df = read_novatel_L1_data_files(data_files=['tests/data/2022/NCL1/NCL1_INSSTDEVA.dat'], data_format=\"INSSTDEVA\")\n",
    " "
   ],
   "metadata": {
    "collapsed": false,
    "ExecuteTime": {
     "end_time": "2024-04-04T05:03:33.625627Z",
     "start_time": "2024-04-04T05:03:21.974501Z"
    }
   },
   "id": "d98f539a465c0c9",
   "execution_count": 3
  },
  {
   "cell_type": "code",
   "outputs": [],
   "source": [
    "inspvaa_df = inspvaa_df.rename(\n",
    "    columns={\n",
    "        \"ant_e\": \"vel_e\",\n",
    "        \"ant_n\": \"vel_n\",\n",
    "        \"ant_u\": \"vel_u\",\n",
    "        \"time\":\"dts\",\n",
    "    },\n",
    "    errors=\"raise\"\n",
    ")\n",
    "inspvaa_df = inspvaa_df[\n",
    "    [\n",
    "        'dts', 'vel_e', 'vel_n', 'vel_u',\n",
    "    ]\n",
    "]"
   ],
   "metadata": {
    "collapsed": false,
    "ExecuteTime": {
     "end_time": "2024-04-04T05:03:33.815291Z",
     "start_time": "2024-04-04T05:03:33.627028Z"
    }
   },
   "id": "5302d625cad18228",
   "execution_count": 4
  },
  {
   "cell_type": "code",
   "outputs": [],
   "source": [
    "insstdeva_df = insstdeva_df.rename(\n",
    "    columns={\n",
    "        \"ant_e std\": \"v_sde\",\n",
    "        \"ant_n std\": \"v_sdn\",\n",
    "        \"ant_u std\": \"v_sdu\",\n",
    "        \"time\":\"dts\",\n",
    "    },\n",
    "    errors=\"raise\"\n",
    ")\n",
    "insstdeva_df = insstdeva_df[\n",
    "    [\n",
    "        'dts',\n",
    "        'v_sde', 'v_sdn', 'v_sdu'\n",
    "    ]\n",
    "]\n",
    "\n",
    "insstdeva_df[\"v_sden\"] = 0.0\n",
    "insstdeva_df[\"v_sdeu\"] = 0.0\n",
    "insstdeva_df[\"v_sdnu\"] = 0.0\n"
   ],
   "metadata": {
    "collapsed": false,
    "ExecuteTime": {
     "end_time": "2024-04-04T05:03:34.310737Z",
     "start_time": "2024-04-04T05:03:33.816490Z"
    }
   },
   "id": "bcf03a3e714ec1d5",
   "execution_count": 5
  },
  {
   "cell_type": "code",
   "outputs": [
    {
     "data": {
      "text/plain": "                  dts   vel_e   vel_n   vel_u\n0        7.122935e+08  0.1014 -0.6858  0.2413\n1        7.122935e+08  0.0788 -0.6380  0.2734\n2        7.122935e+08  0.0534 -0.5833  0.2926\n3        7.122935e+08  0.0405 -0.5440  0.2950\n4        7.122935e+08  0.0346 -0.5122  0.2801\n...               ...     ...     ...     ...\n3865082  7.123618e+08  1.0631 -0.9726 -0.1158\n3865083  7.123618e+08  1.0885 -0.9804 -0.1416\n3865084  7.123618e+08  1.1255 -0.9709 -0.1728\n3865085  7.123618e+08  1.1578 -0.9542 -0.2087\n3865086  7.123618e+08  1.1918 -0.9272 -0.2501\n\n[3865087 rows x 4 columns]",
      "text/html": "<div>\n<style scoped>\n    .dataframe tbody tr th:only-of-type {\n        vertical-align: middle;\n    }\n\n    .dataframe tbody tr th {\n        vertical-align: top;\n    }\n\n    .dataframe thead th {\n        text-align: right;\n    }\n</style>\n<table border=\"1\" class=\"dataframe\">\n  <thead>\n    <tr style=\"text-align: right;\">\n      <th></th>\n      <th>dts</th>\n      <th>vel_e</th>\n      <th>vel_n</th>\n      <th>vel_u</th>\n    </tr>\n  </thead>\n  <tbody>\n    <tr>\n      <th>0</th>\n      <td>7.122935e+08</td>\n      <td>0.1014</td>\n      <td>-0.6858</td>\n      <td>0.2413</td>\n    </tr>\n    <tr>\n      <th>1</th>\n      <td>7.122935e+08</td>\n      <td>0.0788</td>\n      <td>-0.6380</td>\n      <td>0.2734</td>\n    </tr>\n    <tr>\n      <th>2</th>\n      <td>7.122935e+08</td>\n      <td>0.0534</td>\n      <td>-0.5833</td>\n      <td>0.2926</td>\n    </tr>\n    <tr>\n      <th>3</th>\n      <td>7.122935e+08</td>\n      <td>0.0405</td>\n      <td>-0.5440</td>\n      <td>0.2950</td>\n    </tr>\n    <tr>\n      <th>4</th>\n      <td>7.122935e+08</td>\n      <td>0.0346</td>\n      <td>-0.5122</td>\n      <td>0.2801</td>\n    </tr>\n    <tr>\n      <th>...</th>\n      <td>...</td>\n      <td>...</td>\n      <td>...</td>\n      <td>...</td>\n    </tr>\n    <tr>\n      <th>3865082</th>\n      <td>7.123618e+08</td>\n      <td>1.0631</td>\n      <td>-0.9726</td>\n      <td>-0.1158</td>\n    </tr>\n    <tr>\n      <th>3865083</th>\n      <td>7.123618e+08</td>\n      <td>1.0885</td>\n      <td>-0.9804</td>\n      <td>-0.1416</td>\n    </tr>\n    <tr>\n      <th>3865084</th>\n      <td>7.123618e+08</td>\n      <td>1.1255</td>\n      <td>-0.9709</td>\n      <td>-0.1728</td>\n    </tr>\n    <tr>\n      <th>3865085</th>\n      <td>7.123618e+08</td>\n      <td>1.1578</td>\n      <td>-0.9542</td>\n      <td>-0.2087</td>\n    </tr>\n    <tr>\n      <th>3865086</th>\n      <td>7.123618e+08</td>\n      <td>1.1918</td>\n      <td>-0.9272</td>\n      <td>-0.2501</td>\n    </tr>\n  </tbody>\n</table>\n<p>3865087 rows × 4 columns</p>\n</div>"
     },
     "execution_count": 6,
     "metadata": {},
     "output_type": "execute_result"
    }
   ],
   "source": [
    "inspvaa_df"
   ],
   "metadata": {
    "collapsed": false,
    "ExecuteTime": {
     "end_time": "2024-04-04T05:03:34.321294Z",
     "start_time": "2024-04-04T05:03:34.311838Z"
    }
   },
   "id": "dcfb0e60a8befae6",
   "execution_count": 6
  },
  {
   "cell_type": "code",
   "outputs": [
    {
     "data": {
      "text/plain": "                  dts   v_sde   v_sdn   v_sdu  v_sden  v_sdeu  v_sdnu\n0        7.122935e+08  0.0159  0.0179  0.0160     0.0     0.0     0.0\n1        7.122935e+08  0.0159  0.0179  0.0160     0.0     0.0     0.0\n2        7.122935e+08  0.0159  0.0179  0.0160     0.0     0.0     0.0\n3        7.122935e+08  0.0159  0.0179  0.0160     0.0     0.0     0.0\n4        7.122935e+08  0.0159  0.0179  0.0160     0.0     0.0     0.0\n...               ...     ...     ...     ...     ...     ...     ...\n3865303  7.123618e+08  0.0147  0.0172  0.0206     0.0     0.0     0.0\n3865304  7.123618e+08  0.0147  0.0172  0.0206     0.0     0.0     0.0\n3865305  7.123618e+08  0.0147  0.0172  0.0206     0.0     0.0     0.0\n3865306  7.123618e+08  0.0147  0.0172  0.0206     0.0     0.0     0.0\n3865307  7.123618e+08  0.0147  0.0172  0.0206     0.0     0.0     0.0\n\n[3865308 rows x 7 columns]",
      "text/html": "<div>\n<style scoped>\n    .dataframe tbody tr th:only-of-type {\n        vertical-align: middle;\n    }\n\n    .dataframe tbody tr th {\n        vertical-align: top;\n    }\n\n    .dataframe thead th {\n        text-align: right;\n    }\n</style>\n<table border=\"1\" class=\"dataframe\">\n  <thead>\n    <tr style=\"text-align: right;\">\n      <th></th>\n      <th>dts</th>\n      <th>v_sde</th>\n      <th>v_sdn</th>\n      <th>v_sdu</th>\n      <th>v_sden</th>\n      <th>v_sdeu</th>\n      <th>v_sdnu</th>\n    </tr>\n  </thead>\n  <tbody>\n    <tr>\n      <th>0</th>\n      <td>7.122935e+08</td>\n      <td>0.0159</td>\n      <td>0.0179</td>\n      <td>0.0160</td>\n      <td>0.0</td>\n      <td>0.0</td>\n      <td>0.0</td>\n    </tr>\n    <tr>\n      <th>1</th>\n      <td>7.122935e+08</td>\n      <td>0.0159</td>\n      <td>0.0179</td>\n      <td>0.0160</td>\n      <td>0.0</td>\n      <td>0.0</td>\n      <td>0.0</td>\n    </tr>\n    <tr>\n      <th>2</th>\n      <td>7.122935e+08</td>\n      <td>0.0159</td>\n      <td>0.0179</td>\n      <td>0.0160</td>\n      <td>0.0</td>\n      <td>0.0</td>\n      <td>0.0</td>\n    </tr>\n    <tr>\n      <th>3</th>\n      <td>7.122935e+08</td>\n      <td>0.0159</td>\n      <td>0.0179</td>\n      <td>0.0160</td>\n      <td>0.0</td>\n      <td>0.0</td>\n      <td>0.0</td>\n    </tr>\n    <tr>\n      <th>4</th>\n      <td>7.122935e+08</td>\n      <td>0.0159</td>\n      <td>0.0179</td>\n      <td>0.0160</td>\n      <td>0.0</td>\n      <td>0.0</td>\n      <td>0.0</td>\n    </tr>\n    <tr>\n      <th>...</th>\n      <td>...</td>\n      <td>...</td>\n      <td>...</td>\n      <td>...</td>\n      <td>...</td>\n      <td>...</td>\n      <td>...</td>\n    </tr>\n    <tr>\n      <th>3865303</th>\n      <td>7.123618e+08</td>\n      <td>0.0147</td>\n      <td>0.0172</td>\n      <td>0.0206</td>\n      <td>0.0</td>\n      <td>0.0</td>\n      <td>0.0</td>\n    </tr>\n    <tr>\n      <th>3865304</th>\n      <td>7.123618e+08</td>\n      <td>0.0147</td>\n      <td>0.0172</td>\n      <td>0.0206</td>\n      <td>0.0</td>\n      <td>0.0</td>\n      <td>0.0</td>\n    </tr>\n    <tr>\n      <th>3865305</th>\n      <td>7.123618e+08</td>\n      <td>0.0147</td>\n      <td>0.0172</td>\n      <td>0.0206</td>\n      <td>0.0</td>\n      <td>0.0</td>\n      <td>0.0</td>\n    </tr>\n    <tr>\n      <th>3865306</th>\n      <td>7.123618e+08</td>\n      <td>0.0147</td>\n      <td>0.0172</td>\n      <td>0.0206</td>\n      <td>0.0</td>\n      <td>0.0</td>\n      <td>0.0</td>\n    </tr>\n    <tr>\n      <th>3865307</th>\n      <td>7.123618e+08</td>\n      <td>0.0147</td>\n      <td>0.0172</td>\n      <td>0.0206</td>\n      <td>0.0</td>\n      <td>0.0</td>\n      <td>0.0</td>\n    </tr>\n  </tbody>\n</table>\n<p>3865308 rows × 7 columns</p>\n</div>"
     },
     "execution_count": 7,
     "metadata": {},
     "output_type": "execute_result"
    }
   ],
   "source": [
    "insstdeva_df"
   ],
   "metadata": {
    "collapsed": false,
    "ExecuteTime": {
     "end_time": "2024-04-04T05:03:34.330661Z",
     "start_time": "2024-04-04T05:03:34.321965Z"
    }
   },
   "id": "a666723d9a866a84",
   "execution_count": 7
  },
  {
   "cell_type": "code",
   "outputs": [
    {
     "data": {
      "text/plain": "                dts             x             y             z     sdx     sdy  \\\n0       712207183.0 -2.574893e+06 -3.681574e+06  4.512097e+06  2.4491  2.4489   \n1       712207184.0 -2.574893e+06 -3.681574e+06  4.512097e+06  2.2359  2.2357   \n2       712207185.0 -2.574893e+06 -3.681574e+06  4.512097e+06  2.0000  1.9998   \n3       712207186.0 -2.574893e+06 -3.681574e+06  4.512097e+06  1.7323  1.7320   \n4       712207187.0 -2.574893e+06 -3.681574e+06  4.512097e+06  1.4147  1.4144   \n...             ...           ...           ...           ...     ...     ...   \n193288  712400473.0 -2.575283e+06 -3.682610e+06  4.511038e+06  0.0134  0.0137   \n193289  712400474.0 -2.575284e+06 -3.682610e+06  4.511038e+06  0.0134  0.0137   \n193290  712400475.0 -2.575284e+06 -3.682610e+06  4.511038e+06  0.0134  0.0137   \n193291  712400476.0 -2.575284e+06 -3.682609e+06  4.511037e+06  0.0134  0.0137   \n193292  712400477.0 -2.575284e+06 -3.682608e+06  4.511038e+06  0.0134  0.0137   \n\n           sdz      sdxy      sdxz      sdyz  \n0       2.4488  2.449000  2.448950  2.448850  \n1       2.2356  2.235800  2.235750  2.235650  \n2       1.9997  1.999900  1.999850  1.999750  \n3       1.7319  1.732150  1.732100  1.731950  \n4       1.4142  1.414550  1.414450  1.414300  \n...        ...       ...       ...       ...  \n193288  0.0158  0.013549  0.014551  0.014713  \n193289  0.0158  0.013549  0.014551  0.014713  \n193290  0.0158  0.013549  0.014551  0.014713  \n193291  0.0158  0.013549  0.014551  0.014713  \n193292  0.0158  0.013549  0.014551  0.014713  \n\n[193293 rows x 10 columns]",
      "text/html": "<div>\n<style scoped>\n    .dataframe tbody tr th:only-of-type {\n        vertical-align: middle;\n    }\n\n    .dataframe tbody tr th {\n        vertical-align: top;\n    }\n\n    .dataframe thead th {\n        text-align: right;\n    }\n</style>\n<table border=\"1\" class=\"dataframe\">\n  <thead>\n    <tr style=\"text-align: right;\">\n      <th></th>\n      <th>dts</th>\n      <th>x</th>\n      <th>y</th>\n      <th>z</th>\n      <th>sdx</th>\n      <th>sdy</th>\n      <th>sdz</th>\n      <th>sdxy</th>\n      <th>sdxz</th>\n      <th>sdyz</th>\n    </tr>\n  </thead>\n  <tbody>\n    <tr>\n      <th>0</th>\n      <td>712207183.0</td>\n      <td>-2.574893e+06</td>\n      <td>-3.681574e+06</td>\n      <td>4.512097e+06</td>\n      <td>2.4491</td>\n      <td>2.4489</td>\n      <td>2.4488</td>\n      <td>2.449000</td>\n      <td>2.448950</td>\n      <td>2.448850</td>\n    </tr>\n    <tr>\n      <th>1</th>\n      <td>712207184.0</td>\n      <td>-2.574893e+06</td>\n      <td>-3.681574e+06</td>\n      <td>4.512097e+06</td>\n      <td>2.2359</td>\n      <td>2.2357</td>\n      <td>2.2356</td>\n      <td>2.235800</td>\n      <td>2.235750</td>\n      <td>2.235650</td>\n    </tr>\n    <tr>\n      <th>2</th>\n      <td>712207185.0</td>\n      <td>-2.574893e+06</td>\n      <td>-3.681574e+06</td>\n      <td>4.512097e+06</td>\n      <td>2.0000</td>\n      <td>1.9998</td>\n      <td>1.9997</td>\n      <td>1.999900</td>\n      <td>1.999850</td>\n      <td>1.999750</td>\n    </tr>\n    <tr>\n      <th>3</th>\n      <td>712207186.0</td>\n      <td>-2.574893e+06</td>\n      <td>-3.681574e+06</td>\n      <td>4.512097e+06</td>\n      <td>1.7323</td>\n      <td>1.7320</td>\n      <td>1.7319</td>\n      <td>1.732150</td>\n      <td>1.732100</td>\n      <td>1.731950</td>\n    </tr>\n    <tr>\n      <th>4</th>\n      <td>712207187.0</td>\n      <td>-2.574893e+06</td>\n      <td>-3.681574e+06</td>\n      <td>4.512097e+06</td>\n      <td>1.4147</td>\n      <td>1.4144</td>\n      <td>1.4142</td>\n      <td>1.414550</td>\n      <td>1.414450</td>\n      <td>1.414300</td>\n    </tr>\n    <tr>\n      <th>...</th>\n      <td>...</td>\n      <td>...</td>\n      <td>...</td>\n      <td>...</td>\n      <td>...</td>\n      <td>...</td>\n      <td>...</td>\n      <td>...</td>\n      <td>...</td>\n      <td>...</td>\n    </tr>\n    <tr>\n      <th>193288</th>\n      <td>712400473.0</td>\n      <td>-2.575283e+06</td>\n      <td>-3.682610e+06</td>\n      <td>4.511038e+06</td>\n      <td>0.0134</td>\n      <td>0.0137</td>\n      <td>0.0158</td>\n      <td>0.013549</td>\n      <td>0.014551</td>\n      <td>0.014713</td>\n    </tr>\n    <tr>\n      <th>193289</th>\n      <td>712400474.0</td>\n      <td>-2.575284e+06</td>\n      <td>-3.682610e+06</td>\n      <td>4.511038e+06</td>\n      <td>0.0134</td>\n      <td>0.0137</td>\n      <td>0.0158</td>\n      <td>0.013549</td>\n      <td>0.014551</td>\n      <td>0.014713</td>\n    </tr>\n    <tr>\n      <th>193290</th>\n      <td>712400475.0</td>\n      <td>-2.575284e+06</td>\n      <td>-3.682610e+06</td>\n      <td>4.511038e+06</td>\n      <td>0.0134</td>\n      <td>0.0137</td>\n      <td>0.0158</td>\n      <td>0.013549</td>\n      <td>0.014551</td>\n      <td>0.014713</td>\n    </tr>\n    <tr>\n      <th>193291</th>\n      <td>712400476.0</td>\n      <td>-2.575284e+06</td>\n      <td>-3.682609e+06</td>\n      <td>4.511037e+06</td>\n      <td>0.0134</td>\n      <td>0.0137</td>\n      <td>0.0158</td>\n      <td>0.013549</td>\n      <td>0.014551</td>\n      <td>0.014713</td>\n    </tr>\n    <tr>\n      <th>193292</th>\n      <td>712400477.0</td>\n      <td>-2.575284e+06</td>\n      <td>-3.682608e+06</td>\n      <td>4.511038e+06</td>\n      <td>0.0134</td>\n      <td>0.0137</td>\n      <td>0.0158</td>\n      <td>0.013549</td>\n      <td>0.014551</td>\n      <td>0.014713</td>\n    </tr>\n  </tbody>\n</table>\n<p>193293 rows × 10 columns</p>\n</div>"
     },
     "execution_count": 8,
     "metadata": {},
     "output_type": "execute_result"
    }
   ],
   "source": [
    "\"\"\"\n",
    "def load_gps_solutions(\n",
    "    files: List[str], time_round: int = constants.DELAY_TIME_PRECISION\n",
    ") -> pd.DataFrame:\n",
    "\"\"\"\n",
    "gps_df = load_gps_solutions(\n",
    "    files = [\n",
    "        'tests/data/2022/NCL1/208/GPS_PPP/GPS_POS_FREED',\n",
    "        'tests/data/2022/NCL1/209/GPS_PPP/GPS_POS_FREED',\n",
    "        'tests/data/2022/NCL1/210/GPS_PPP/GPS_POS_FREED',\n",
    "\n",
    "    ],\n",
    "    columns=[\"time\", \"dtype\", \"x\", \"y\", \"z\", \"sdx\", \"sdy\", \"sdz\"],\n",
    ")\n",
    "gps_df = gps_df.rename(\n",
    "    columns={\n",
    "        \"time\":\"dts\",\n",
    "    },\n",
    "    errors=\"raise\"\n",
    ")\n",
    "\n",
    "gps_df = gps_df[\n",
    "    [\n",
    "        'dts', 'x', 'y', 'z', 'sdx', 'sdy', 'sdz'\n",
    "    ]\n",
    "]\n",
    "\n",
    "gps_df[\"sdxy\"] = np.sqrt(gps_df.sdx * gps_df.sdy)\n",
    "gps_df[\"sdxz\"] = np.sqrt(gps_df.sdx * gps_df.sdz)\n",
    "gps_df[\"sdyz\"] = np.sqrt(gps_df.sdy * gps_df.sdz)\n",
    "\n",
    "gps_df"
   ],
   "metadata": {
    "collapsed": false,
    "ExecuteTime": {
     "end_time": "2024-04-04T05:03:34.511730Z",
     "start_time": "2024-04-04T05:03:34.331441Z"
    }
   },
   "id": "1d1e7a97909d9ad",
   "execution_count": 8
  },
  {
   "cell_type": "code",
   "outputs": [],
   "source": [
    "merged_df = inspvaa_df.merge(gps_df, on=\"dts\", how=\"left\")\n",
    "merged_df = merged_df.merge(insstdeva_df, on=\"dts\", how=\"left\")\n",
    "merged_df = merged_df.sort_values(\"dts\").reset_index(drop=True)"
   ],
   "metadata": {
    "collapsed": false,
    "ExecuteTime": {
     "end_time": "2024-04-04T05:03:36.890474Z",
     "start_time": "2024-04-04T05:03:34.512575Z"
    }
   },
   "id": "e90a2062c518cde2",
   "execution_count": 9
  },
  {
   "cell_type": "code",
   "outputs": [
    {
     "data": {
      "text/plain": "                  dts   vel_e   vel_n   vel_u   x   y   z  sdx  sdy  sdz  \\\n0        7.122072e+08  0.1631 -1.4049  0.1295 NaN NaN NaN  NaN  NaN  NaN   \n1        7.122072e+08  0.1743 -1.4157  0.0827 NaN NaN NaN  NaN  NaN  NaN   \n2        7.122072e+08  0.1818 -1.4301  0.0490 NaN NaN NaN  NaN  NaN  NaN   \n3        7.122072e+08  0.1824 -1.4465  0.0160 NaN NaN NaN  NaN  NaN  NaN   \n4        7.122072e+08  0.1820 -1.4636 -0.0063 NaN NaN NaN  NaN  NaN  NaN   \n...               ...     ...     ...     ...  ..  ..  ..  ...  ...  ...   \n3865082  7.124005e+08 -1.3296  0.0802  0.3085 NaN NaN NaN  NaN  NaN  NaN   \n3865083  7.124005e+08 -1.3541  0.0458  0.2389 NaN NaN NaN  NaN  NaN  NaN   \n3865084  7.124005e+08 -1.3617  0.0044  0.1284 NaN NaN NaN  NaN  NaN  NaN   \n3865085  7.124005e+08 -1.3508 -0.0325  0.0253 NaN NaN NaN  NaN  NaN  NaN   \n3865086  7.124005e+08 -1.3158 -0.0539 -0.0837 NaN NaN NaN  NaN  NaN  NaN   \n\n         sdxy  sdxz  sdyz   v_sde   v_sdn   v_sdu  v_sden  v_sdeu  v_sdnu  \n0         NaN   NaN   NaN  0.0614  0.0650  0.0634     0.0     0.0     0.0  \n1         NaN   NaN   NaN  0.0614  0.0650  0.0634     0.0     0.0     0.0  \n2         NaN   NaN   NaN  0.0614  0.0650  0.0634     0.0     0.0     0.0  \n3         NaN   NaN   NaN  0.0614  0.0650  0.0634     0.0     0.0     0.0  \n4         NaN   NaN   NaN  0.0614  0.0650  0.0634     0.0     0.0     0.0  \n...       ...   ...   ...     ...     ...     ...     ...     ...     ...  \n3865082   NaN   NaN   NaN  0.0156  0.0197  0.0197     0.0     0.0     0.0  \n3865083   NaN   NaN   NaN  0.0156  0.0197  0.0197     0.0     0.0     0.0  \n3865084   NaN   NaN   NaN  0.0156  0.0197  0.0197     0.0     0.0     0.0  \n3865085   NaN   NaN   NaN  0.0156  0.0197  0.0197     0.0     0.0     0.0  \n3865086   NaN   NaN   NaN  0.0156  0.0197  0.0197     0.0     0.0     0.0  \n\n[3865087 rows x 19 columns]",
      "text/html": "<div>\n<style scoped>\n    .dataframe tbody tr th:only-of-type {\n        vertical-align: middle;\n    }\n\n    .dataframe tbody tr th {\n        vertical-align: top;\n    }\n\n    .dataframe thead th {\n        text-align: right;\n    }\n</style>\n<table border=\"1\" class=\"dataframe\">\n  <thead>\n    <tr style=\"text-align: right;\">\n      <th></th>\n      <th>dts</th>\n      <th>vel_e</th>\n      <th>vel_n</th>\n      <th>vel_u</th>\n      <th>x</th>\n      <th>y</th>\n      <th>z</th>\n      <th>sdx</th>\n      <th>sdy</th>\n      <th>sdz</th>\n      <th>sdxy</th>\n      <th>sdxz</th>\n      <th>sdyz</th>\n      <th>v_sde</th>\n      <th>v_sdn</th>\n      <th>v_sdu</th>\n      <th>v_sden</th>\n      <th>v_sdeu</th>\n      <th>v_sdnu</th>\n    </tr>\n  </thead>\n  <tbody>\n    <tr>\n      <th>0</th>\n      <td>7.122072e+08</td>\n      <td>0.1631</td>\n      <td>-1.4049</td>\n      <td>0.1295</td>\n      <td>NaN</td>\n      <td>NaN</td>\n      <td>NaN</td>\n      <td>NaN</td>\n      <td>NaN</td>\n      <td>NaN</td>\n      <td>NaN</td>\n      <td>NaN</td>\n      <td>NaN</td>\n      <td>0.0614</td>\n      <td>0.0650</td>\n      <td>0.0634</td>\n      <td>0.0</td>\n      <td>0.0</td>\n      <td>0.0</td>\n    </tr>\n    <tr>\n      <th>1</th>\n      <td>7.122072e+08</td>\n      <td>0.1743</td>\n      <td>-1.4157</td>\n      <td>0.0827</td>\n      <td>NaN</td>\n      <td>NaN</td>\n      <td>NaN</td>\n      <td>NaN</td>\n      <td>NaN</td>\n      <td>NaN</td>\n      <td>NaN</td>\n      <td>NaN</td>\n      <td>NaN</td>\n      <td>0.0614</td>\n      <td>0.0650</td>\n      <td>0.0634</td>\n      <td>0.0</td>\n      <td>0.0</td>\n      <td>0.0</td>\n    </tr>\n    <tr>\n      <th>2</th>\n      <td>7.122072e+08</td>\n      <td>0.1818</td>\n      <td>-1.4301</td>\n      <td>0.0490</td>\n      <td>NaN</td>\n      <td>NaN</td>\n      <td>NaN</td>\n      <td>NaN</td>\n      <td>NaN</td>\n      <td>NaN</td>\n      <td>NaN</td>\n      <td>NaN</td>\n      <td>NaN</td>\n      <td>0.0614</td>\n      <td>0.0650</td>\n      <td>0.0634</td>\n      <td>0.0</td>\n      <td>0.0</td>\n      <td>0.0</td>\n    </tr>\n    <tr>\n      <th>3</th>\n      <td>7.122072e+08</td>\n      <td>0.1824</td>\n      <td>-1.4465</td>\n      <td>0.0160</td>\n      <td>NaN</td>\n      <td>NaN</td>\n      <td>NaN</td>\n      <td>NaN</td>\n      <td>NaN</td>\n      <td>NaN</td>\n      <td>NaN</td>\n      <td>NaN</td>\n      <td>NaN</td>\n      <td>0.0614</td>\n      <td>0.0650</td>\n      <td>0.0634</td>\n      <td>0.0</td>\n      <td>0.0</td>\n      <td>0.0</td>\n    </tr>\n    <tr>\n      <th>4</th>\n      <td>7.122072e+08</td>\n      <td>0.1820</td>\n      <td>-1.4636</td>\n      <td>-0.0063</td>\n      <td>NaN</td>\n      <td>NaN</td>\n      <td>NaN</td>\n      <td>NaN</td>\n      <td>NaN</td>\n      <td>NaN</td>\n      <td>NaN</td>\n      <td>NaN</td>\n      <td>NaN</td>\n      <td>0.0614</td>\n      <td>0.0650</td>\n      <td>0.0634</td>\n      <td>0.0</td>\n      <td>0.0</td>\n      <td>0.0</td>\n    </tr>\n    <tr>\n      <th>...</th>\n      <td>...</td>\n      <td>...</td>\n      <td>...</td>\n      <td>...</td>\n      <td>...</td>\n      <td>...</td>\n      <td>...</td>\n      <td>...</td>\n      <td>...</td>\n      <td>...</td>\n      <td>...</td>\n      <td>...</td>\n      <td>...</td>\n      <td>...</td>\n      <td>...</td>\n      <td>...</td>\n      <td>...</td>\n      <td>...</td>\n      <td>...</td>\n    </tr>\n    <tr>\n      <th>3865082</th>\n      <td>7.124005e+08</td>\n      <td>-1.3296</td>\n      <td>0.0802</td>\n      <td>0.3085</td>\n      <td>NaN</td>\n      <td>NaN</td>\n      <td>NaN</td>\n      <td>NaN</td>\n      <td>NaN</td>\n      <td>NaN</td>\n      <td>NaN</td>\n      <td>NaN</td>\n      <td>NaN</td>\n      <td>0.0156</td>\n      <td>0.0197</td>\n      <td>0.0197</td>\n      <td>0.0</td>\n      <td>0.0</td>\n      <td>0.0</td>\n    </tr>\n    <tr>\n      <th>3865083</th>\n      <td>7.124005e+08</td>\n      <td>-1.3541</td>\n      <td>0.0458</td>\n      <td>0.2389</td>\n      <td>NaN</td>\n      <td>NaN</td>\n      <td>NaN</td>\n      <td>NaN</td>\n      <td>NaN</td>\n      <td>NaN</td>\n      <td>NaN</td>\n      <td>NaN</td>\n      <td>NaN</td>\n      <td>0.0156</td>\n      <td>0.0197</td>\n      <td>0.0197</td>\n      <td>0.0</td>\n      <td>0.0</td>\n      <td>0.0</td>\n    </tr>\n    <tr>\n      <th>3865084</th>\n      <td>7.124005e+08</td>\n      <td>-1.3617</td>\n      <td>0.0044</td>\n      <td>0.1284</td>\n      <td>NaN</td>\n      <td>NaN</td>\n      <td>NaN</td>\n      <td>NaN</td>\n      <td>NaN</td>\n      <td>NaN</td>\n      <td>NaN</td>\n      <td>NaN</td>\n      <td>NaN</td>\n      <td>0.0156</td>\n      <td>0.0197</td>\n      <td>0.0197</td>\n      <td>0.0</td>\n      <td>0.0</td>\n      <td>0.0</td>\n    </tr>\n    <tr>\n      <th>3865085</th>\n      <td>7.124005e+08</td>\n      <td>-1.3508</td>\n      <td>-0.0325</td>\n      <td>0.0253</td>\n      <td>NaN</td>\n      <td>NaN</td>\n      <td>NaN</td>\n      <td>NaN</td>\n      <td>NaN</td>\n      <td>NaN</td>\n      <td>NaN</td>\n      <td>NaN</td>\n      <td>NaN</td>\n      <td>0.0156</td>\n      <td>0.0197</td>\n      <td>0.0197</td>\n      <td>0.0</td>\n      <td>0.0</td>\n      <td>0.0</td>\n    </tr>\n    <tr>\n      <th>3865086</th>\n      <td>7.124005e+08</td>\n      <td>-1.3158</td>\n      <td>-0.0539</td>\n      <td>-0.0837</td>\n      <td>NaN</td>\n      <td>NaN</td>\n      <td>NaN</td>\n      <td>NaN</td>\n      <td>NaN</td>\n      <td>NaN</td>\n      <td>NaN</td>\n      <td>NaN</td>\n      <td>NaN</td>\n      <td>0.0156</td>\n      <td>0.0197</td>\n      <td>0.0197</td>\n      <td>0.0</td>\n      <td>0.0</td>\n      <td>0.0</td>\n    </tr>\n  </tbody>\n</table>\n<p>3865087 rows × 19 columns</p>\n</div>"
     },
     "execution_count": 10,
     "metadata": {},
     "output_type": "execute_result"
    }
   ],
   "source": [
    "merged_df"
   ],
   "metadata": {
    "collapsed": false,
    "ExecuteTime": {
     "end_time": "2024-04-04T05:03:36.903179Z",
     "start_time": "2024-04-04T05:03:36.892172Z"
    }
   },
   "id": "77c31e6d88464f07",
   "execution_count": 10
  },
  {
   "cell_type": "code",
   "outputs": [],
   "source": [
    "first_pos = merged_df[~merged_df.x.isnull()].iloc[0].name\n",
    "merged_df = merged_df.loc[first_pos:].reset_index(drop=True)\n",
    "merged_df_small = merged_df.iloc[:1000000]\n",
    "\n",
    "df = merged_df_small.to_records()"
   ],
   "metadata": {
    "collapsed": false,
    "ExecuteTime": {
     "end_time": "2024-04-04T05:03:37.187351Z",
     "start_time": "2024-04-04T05:03:36.903934Z"
    }
   },
   "id": "45fb04bb79deda46",
   "execution_count": 11
  },
  {
   "cell_type": "code",
   "outputs": [
    {
     "data": {
      "text/plain": "                 dts   vel_e   vel_n   vel_u             x             y  \\\n0       7.122072e+08  0.1256 -1.4533 -0.4309 -2.574899e+06 -3.681586e+06   \n1       7.122072e+08  0.1510 -1.4440 -0.4270           NaN           NaN   \n2       7.122072e+08  0.1711 -1.4342 -0.4179           NaN           NaN   \n3       7.122072e+08  0.1864 -1.4200 -0.4032           NaN           NaN   \n4       7.122072e+08  0.1959 -1.4013 -0.3853           NaN           NaN   \n...              ...     ...     ...     ...           ...           ...   \n999995  7.122572e+08 -0.1597  0.5725 -0.2514           NaN           NaN   \n999996  7.122572e+08 -0.1620  0.5660 -0.2675           NaN           NaN   \n999997  7.122572e+08 -0.1671  0.5580 -0.2957           NaN           NaN   \n999998  7.122572e+08 -0.1391  0.5430 -0.3015           NaN           NaN   \n999999  7.122572e+08 -0.1206  0.5324 -0.3006           NaN           NaN   \n\n                   z     sdx     sdy     sdz      sdxy     sdxz      sdyz  \\\n0       4.512084e+06  0.0414  0.0282  0.0203  0.034168  0.02899  0.023926   \n1                NaN     NaN     NaN     NaN       NaN      NaN       NaN   \n2                NaN     NaN     NaN     NaN       NaN      NaN       NaN   \n3                NaN     NaN     NaN     NaN       NaN      NaN       NaN   \n4                NaN     NaN     NaN     NaN       NaN      NaN       NaN   \n...              ...     ...     ...     ...       ...      ...       ...   \n999995           NaN     NaN     NaN     NaN       NaN      NaN       NaN   \n999996           NaN     NaN     NaN     NaN       NaN      NaN       NaN   \n999997           NaN     NaN     NaN     NaN       NaN      NaN       NaN   \n999998           NaN     NaN     NaN     NaN       NaN      NaN       NaN   \n999999           NaN     NaN     NaN     NaN       NaN      NaN       NaN   \n\n         v_sde   v_sdn   v_sdu  v_sden  v_sdeu  v_sdnu  \n0       0.0614  0.0650  0.0634     0.0     0.0     0.0  \n1       0.0414  0.0443  0.0552     0.0     0.0     0.0  \n2       0.0414  0.0443  0.0552     0.0     0.0     0.0  \n3       0.0414  0.0443  0.0552     0.0     0.0     0.0  \n4       0.0414  0.0443  0.0552     0.0     0.0     0.0  \n...        ...     ...     ...     ...     ...     ...  \n999995  0.0145  0.0173  0.0197     0.0     0.0     0.0  \n999996  0.0145  0.0173  0.0197     0.0     0.0     0.0  \n999997  0.0145  0.0173  0.0197     0.0     0.0     0.0  \n999998  0.0145  0.0173  0.0197     0.0     0.0     0.0  \n999999  0.0145  0.0173  0.0197     0.0     0.0     0.0  \n\n[1000000 rows x 19 columns]",
      "text/html": "<div>\n<style scoped>\n    .dataframe tbody tr th:only-of-type {\n        vertical-align: middle;\n    }\n\n    .dataframe tbody tr th {\n        vertical-align: top;\n    }\n\n    .dataframe thead th {\n        text-align: right;\n    }\n</style>\n<table border=\"1\" class=\"dataframe\">\n  <thead>\n    <tr style=\"text-align: right;\">\n      <th></th>\n      <th>dts</th>\n      <th>vel_e</th>\n      <th>vel_n</th>\n      <th>vel_u</th>\n      <th>x</th>\n      <th>y</th>\n      <th>z</th>\n      <th>sdx</th>\n      <th>sdy</th>\n      <th>sdz</th>\n      <th>sdxy</th>\n      <th>sdxz</th>\n      <th>sdyz</th>\n      <th>v_sde</th>\n      <th>v_sdn</th>\n      <th>v_sdu</th>\n      <th>v_sden</th>\n      <th>v_sdeu</th>\n      <th>v_sdnu</th>\n    </tr>\n  </thead>\n  <tbody>\n    <tr>\n      <th>0</th>\n      <td>7.122072e+08</td>\n      <td>0.1256</td>\n      <td>-1.4533</td>\n      <td>-0.4309</td>\n      <td>-2.574899e+06</td>\n      <td>-3.681586e+06</td>\n      <td>4.512084e+06</td>\n      <td>0.0414</td>\n      <td>0.0282</td>\n      <td>0.0203</td>\n      <td>0.034168</td>\n      <td>0.02899</td>\n      <td>0.023926</td>\n      <td>0.0614</td>\n      <td>0.0650</td>\n      <td>0.0634</td>\n      <td>0.0</td>\n      <td>0.0</td>\n      <td>0.0</td>\n    </tr>\n    <tr>\n      <th>1</th>\n      <td>7.122072e+08</td>\n      <td>0.1510</td>\n      <td>-1.4440</td>\n      <td>-0.4270</td>\n      <td>NaN</td>\n      <td>NaN</td>\n      <td>NaN</td>\n      <td>NaN</td>\n      <td>NaN</td>\n      <td>NaN</td>\n      <td>NaN</td>\n      <td>NaN</td>\n      <td>NaN</td>\n      <td>0.0414</td>\n      <td>0.0443</td>\n      <td>0.0552</td>\n      <td>0.0</td>\n      <td>0.0</td>\n      <td>0.0</td>\n    </tr>\n    <tr>\n      <th>2</th>\n      <td>7.122072e+08</td>\n      <td>0.1711</td>\n      <td>-1.4342</td>\n      <td>-0.4179</td>\n      <td>NaN</td>\n      <td>NaN</td>\n      <td>NaN</td>\n      <td>NaN</td>\n      <td>NaN</td>\n      <td>NaN</td>\n      <td>NaN</td>\n      <td>NaN</td>\n      <td>NaN</td>\n      <td>0.0414</td>\n      <td>0.0443</td>\n      <td>0.0552</td>\n      <td>0.0</td>\n      <td>0.0</td>\n      <td>0.0</td>\n    </tr>\n    <tr>\n      <th>3</th>\n      <td>7.122072e+08</td>\n      <td>0.1864</td>\n      <td>-1.4200</td>\n      <td>-0.4032</td>\n      <td>NaN</td>\n      <td>NaN</td>\n      <td>NaN</td>\n      <td>NaN</td>\n      <td>NaN</td>\n      <td>NaN</td>\n      <td>NaN</td>\n      <td>NaN</td>\n      <td>NaN</td>\n      <td>0.0414</td>\n      <td>0.0443</td>\n      <td>0.0552</td>\n      <td>0.0</td>\n      <td>0.0</td>\n      <td>0.0</td>\n    </tr>\n    <tr>\n      <th>4</th>\n      <td>7.122072e+08</td>\n      <td>0.1959</td>\n      <td>-1.4013</td>\n      <td>-0.3853</td>\n      <td>NaN</td>\n      <td>NaN</td>\n      <td>NaN</td>\n      <td>NaN</td>\n      <td>NaN</td>\n      <td>NaN</td>\n      <td>NaN</td>\n      <td>NaN</td>\n      <td>NaN</td>\n      <td>0.0414</td>\n      <td>0.0443</td>\n      <td>0.0552</td>\n      <td>0.0</td>\n      <td>0.0</td>\n      <td>0.0</td>\n    </tr>\n    <tr>\n      <th>...</th>\n      <td>...</td>\n      <td>...</td>\n      <td>...</td>\n      <td>...</td>\n      <td>...</td>\n      <td>...</td>\n      <td>...</td>\n      <td>...</td>\n      <td>...</td>\n      <td>...</td>\n      <td>...</td>\n      <td>...</td>\n      <td>...</td>\n      <td>...</td>\n      <td>...</td>\n      <td>...</td>\n      <td>...</td>\n      <td>...</td>\n      <td>...</td>\n    </tr>\n    <tr>\n      <th>999995</th>\n      <td>7.122572e+08</td>\n      <td>-0.1597</td>\n      <td>0.5725</td>\n      <td>-0.2514</td>\n      <td>NaN</td>\n      <td>NaN</td>\n      <td>NaN</td>\n      <td>NaN</td>\n      <td>NaN</td>\n      <td>NaN</td>\n      <td>NaN</td>\n      <td>NaN</td>\n      <td>NaN</td>\n      <td>0.0145</td>\n      <td>0.0173</td>\n      <td>0.0197</td>\n      <td>0.0</td>\n      <td>0.0</td>\n      <td>0.0</td>\n    </tr>\n    <tr>\n      <th>999996</th>\n      <td>7.122572e+08</td>\n      <td>-0.1620</td>\n      <td>0.5660</td>\n      <td>-0.2675</td>\n      <td>NaN</td>\n      <td>NaN</td>\n      <td>NaN</td>\n      <td>NaN</td>\n      <td>NaN</td>\n      <td>NaN</td>\n      <td>NaN</td>\n      <td>NaN</td>\n      <td>NaN</td>\n      <td>0.0145</td>\n      <td>0.0173</td>\n      <td>0.0197</td>\n      <td>0.0</td>\n      <td>0.0</td>\n      <td>0.0</td>\n    </tr>\n    <tr>\n      <th>999997</th>\n      <td>7.122572e+08</td>\n      <td>-0.1671</td>\n      <td>0.5580</td>\n      <td>-0.2957</td>\n      <td>NaN</td>\n      <td>NaN</td>\n      <td>NaN</td>\n      <td>NaN</td>\n      <td>NaN</td>\n      <td>NaN</td>\n      <td>NaN</td>\n      <td>NaN</td>\n      <td>NaN</td>\n      <td>0.0145</td>\n      <td>0.0173</td>\n      <td>0.0197</td>\n      <td>0.0</td>\n      <td>0.0</td>\n      <td>0.0</td>\n    </tr>\n    <tr>\n      <th>999998</th>\n      <td>7.122572e+08</td>\n      <td>-0.1391</td>\n      <td>0.5430</td>\n      <td>-0.3015</td>\n      <td>NaN</td>\n      <td>NaN</td>\n      <td>NaN</td>\n      <td>NaN</td>\n      <td>NaN</td>\n      <td>NaN</td>\n      <td>NaN</td>\n      <td>NaN</td>\n      <td>NaN</td>\n      <td>0.0145</td>\n      <td>0.0173</td>\n      <td>0.0197</td>\n      <td>0.0</td>\n      <td>0.0</td>\n      <td>0.0</td>\n    </tr>\n    <tr>\n      <th>999999</th>\n      <td>7.122572e+08</td>\n      <td>-0.1206</td>\n      <td>0.5324</td>\n      <td>-0.3006</td>\n      <td>NaN</td>\n      <td>NaN</td>\n      <td>NaN</td>\n      <td>NaN</td>\n      <td>NaN</td>\n      <td>NaN</td>\n      <td>NaN</td>\n      <td>NaN</td>\n      <td>NaN</td>\n      <td>0.0145</td>\n      <td>0.0173</td>\n      <td>0.0197</td>\n      <td>0.0</td>\n      <td>0.0</td>\n      <td>0.0</td>\n    </tr>\n  </tbody>\n</table>\n<p>1000000 rows × 19 columns</p>\n</div>"
     },
     "execution_count": 12,
     "metadata": {},
     "output_type": "execute_result"
    }
   ],
   "source": [
    "merged_df_small"
   ],
   "metadata": {
    "collapsed": false,
    "ExecuteTime": {
     "end_time": "2024-04-04T05:03:37.199046Z",
     "start_time": "2024-04-04T05:03:37.188491Z"
    }
   },
   "id": "d18ac2217a3f794c",
   "execution_count": 12
  },
  {
   "cell_type": "code",
   "outputs": [
    {
     "data": {
      "text/plain": "rec.array([(     0, 7.12207205e+08,  0.1256, -1.4533, -0.4309, -2574898.7626, -3681585.6405, 4512084.2874, 0.0414, 0.0282, 0.0203, 0.03416841, 0.02899, 0.02392614, 0.0614, 0.065 , 0.0634, 0., 0., 0.),\n           (     1, 7.12207205e+08,  0.151 , -1.444 , -0.427 ,           nan,           nan,          nan,    nan,    nan,    nan,        nan,     nan,        nan, 0.0414, 0.0443, 0.0552, 0., 0., 0.),\n           (     2, 7.12207205e+08,  0.1711, -1.4342, -0.4179,           nan,           nan,          nan,    nan,    nan,    nan,        nan,     nan,        nan, 0.0414, 0.0443, 0.0552, 0., 0., 0.),\n           ...,\n           (999997, 7.12257213e+08, -0.1671,  0.558 , -0.2957,           nan,           nan,          nan,    nan,    nan,    nan,        nan,     nan,        nan, 0.0145, 0.0173, 0.0197, 0., 0., 0.),\n           (999998, 7.12257213e+08, -0.1391,  0.543 , -0.3015,           nan,           nan,          nan,    nan,    nan,    nan,        nan,     nan,        nan, 0.0145, 0.0173, 0.0197, 0., 0., 0.),\n           (999999, 7.12257213e+08, -0.1206,  0.5324, -0.3006,           nan,           nan,          nan,    nan,    nan,    nan,        nan,     nan,        nan, 0.0145, 0.0173, 0.0197, 0., 0., 0.)],\n          dtype=[('index', '<i8'), ('dts', '<f8'), ('vel_e', '<f8'), ('vel_n', '<f8'), ('vel_u', '<f8'), ('x', '<f8'), ('y', '<f8'), ('z', '<f8'), ('sdx', '<f8'), ('sdy', '<f8'), ('sdz', '<f8'), ('sdxy', '<f8'), ('sdxz', '<f8'), ('sdyz', '<f8'), ('v_sde', '<f8'), ('v_sdn', '<f8'), ('v_sdu', '<f8'), ('v_sden', '<f8'), ('v_sdeu', '<f8'), ('v_sdnu', '<f8')])"
     },
     "execution_count": 13,
     "metadata": {},
     "output_type": "execute_result"
    }
   ],
   "source": [
    "df"
   ],
   "metadata": {
    "collapsed": false,
    "ExecuteTime": {
     "end_time": "2024-04-04T05:03:37.204897Z",
     "start_time": "2024-04-04T05:03:37.199686Z"
    }
   },
   "id": "4e9f0a17ab596617",
   "execution_count": 13
  },
  {
   "cell_type": "code",
   "outputs": [],
   "source": [
    "class GNSS_filter:\n",
    "    def __init__(self, row):\n",
    "        dt = 5e-2\n",
    "\n",
    "        self.Nx = 6  # number of states: pos, vel\n",
    "        self.Nu = 3  # number of input var: vel\n",
    "\n",
    "        self.X = np.zeros(\n",
    "            [self.Nx, 1]\n",
    "        )  # error states: pos_xyz, v_ned, eul, bias_acc, bias_gyro\n",
    "\n",
    "        # Initial antenna location\n",
    "        pos_xyz = np.array((row[\"x\"], row[\"y\"], row[\"z\"])).reshape(3, 1)\n",
    "        self.X[0:3] = pos_xyz\n",
    "        # Initial antenna velocity\n",
    "        rot, v_xyz = self.rot_vel(row)\n",
    "\n",
    "        self.X[3:6] = v_xyz\n",
    "\n",
    "        # Process model\n",
    "\n",
    "        # State transition matrix\n",
    "        self.F = np.identity(self.Nx)\n",
    "\n",
    "        self.F[0:3, 3:6] = np.identity(3) * dt\n",
    "\n",
    "        self.P = np.identity(self.Nx)  # Set initial values to 0.25?\n",
    "\n",
    "        # Process noise matrix\n",
    "        self.gnss_pos_psd = 3.125e-5\n",
    "        self.vel_psd = 0.0025\n",
    "\n",
    "        self.Q = np.zeros([self.Nx, self.Nx])\n",
    "\n",
    "        self.updateQ(dt)\n",
    "\n",
    "        # Position measurement noise\n",
    "        self.R_position = np.identity(3)\n",
    "        self.R_position[0, 0] = row.sdx**2\n",
    "        self.R_position[1, 1] = row.sdy**2\n",
    "        self.R_position[2, 2] = row.sdz**2\n",
    "\n",
    "        self.R_position[0, 1] = np.sign(row.sdxy) * row.sdxy**2\n",
    "        self.R_position[0, 2] = np.sign(row.sdxz) * row.sdxz**2\n",
    "        self.R_position[1, 2] = np.sign(row.sdyz) * row.sdyz**2\n",
    "\n",
    "        self.R_position[1, 0] = self.R_position[0, 1]\n",
    "        self.R_position[2, 0] = self.R_position[0, 2]\n",
    "        self.R_position[2, 1] = self.R_position[1, 2]\n",
    "\n",
    "        # Velocity measurement noise\n",
    "        self.R_velocity = np.identity(3) * 4e-8\n",
    "\n",
    "        self.R_velocity[0, 1] = 1.5e-9\n",
    "        self.R_velocity[0, 2] = 1.5e-9\n",
    "        self.R_velocity[1, 2] = 1.5e-9\n",
    "\n",
    "        self.R_velocity[1, 0] = self.R_velocity[0, 1]\n",
    "        self.R_velocity[2, 0] = self.R_velocity[0, 2]\n",
    "        self.R_velocity[2, 1] = self.R_velocity[1, 2]\n",
    "\n",
    "        if \"v_sde\" in row:\n",
    "            self.R_velocity[0, 0] = row.v_sde**2\n",
    "            self.R_velocity[1, 1] = row.v_sdn**2\n",
    "            self.R_velocity[2, 2] = row.v_sdu**2\n",
    "\n",
    "            self.R_velocity[0, 1] = row.v_sden\n",
    "            self.R_velocity[0, 2] = row.v_sdeu\n",
    "            self.R_velocity[1, 2] = row.v_sdnu\n",
    "\n",
    "            self.R_velocity[1, 0] = self.R_velocity[0, 1]\n",
    "            self.R_velocity[2, 0] = self.R_velocity[0, 2]\n",
    "            self.R_velocity[2, 1] = self.R_velocity[1, 2]\n",
    "\n",
    "        self.R_velocity = rot @ self.R_velocity @ rot.transpose()\n",
    "\n",
    "    def rot_vel(self, row):\n",
    "        \"\"\"\n",
    "        ------------------- Rotate ENU velocity into ECEF velocity --------------------------------\n",
    "                   dX = |  -sg   -sa*cg  ca*cg | | de |        de = |  -sg       cg      0 | | dX |\n",
    "                   dY = |   cg   -sa*sg  ca*sg | | dn |  and   dn = |-sa*cg  -sa*sg     ca | | dY |\n",
    "                   dZ = |    0    ca     sa    | | du |        du = | ca*cg   ca*sg     sa | | dZ |\n",
    "        -------------------------------------------------------------------------------------------\n",
    "        \"\"\"\n",
    "        v_enu = np.array((row[\"vel_e\"], row[\"vel_n\"], row[\"vel_u\"])).reshape(3, 1)\n",
    "        lat, lon, alt = pymap3d.ecef2geodetic(self.X[0], self.X[1], self.X[2])\n",
    "        lat = np.deg2rad(lat)\n",
    "        lam = np.deg2rad(lon)\n",
    "\n",
    "        ca = np.cos(lat)\n",
    "        sa = np.sin(lat)\n",
    "\n",
    "        cg = np.cos(lam)\n",
    "        sg = np.sin(lam)\n",
    "\n",
    "        rot = np.zeros((3, 3))\n",
    "        rot[0, 0] = -sg\n",
    "        rot[0, 1] = -sa * cg\n",
    "        rot[0, 2] = ca * cg\n",
    "        rot[1, 0] = cg\n",
    "        rot[1, 1] = -sa * sg\n",
    "        rot[1, 2] = ca * sg\n",
    "        rot[2, 0] = 0\n",
    "        rot[2, 1] = ca\n",
    "        rot[2, 2] = sa\n",
    "        v_xyz = rot @ v_enu\n",
    "\n",
    "        return rot, v_xyz\n",
    "\n",
    "    def updateQ(self, dt):\n",
    "        # Position estimation noise\n",
    "        # Initial Q values from Chadwell code 3.125d-5 3.125d-5 3.125d-5 0.0025 0.0025 0.0025, assumes white noise of 2.5 cm over a second\n",
    "        self.Q[0:3, 0:3] = np.identity(3) * self.gnss_pos_psd * dt\n",
    "\n",
    "        # Velocity estimation noise (acc psd)\n",
    "        self.Q[3:6, 3:6] = np.identity(3) * self.vel_psd\n",
    "\n",
    "    def predict(self, dt):  # w is the angular rate vector\n",
    "        self.F[0:3, 3:6] = np.identity(3) * dt\n",
    "\n",
    "        self.updateQ(dt)\n",
    "\n",
    "        self.X = self.F @ self.X\n",
    "        self.P = self.F @ self.P @ self.F.transpose() + self.Q\n",
    "\n",
    "    def updateVel_cov(self, row):\n",
    "        rot, v_xyz = self.rot_vel(row)\n",
    "\n",
    "        self.R_velocity[0, 0] = row.v_sde**2\n",
    "        self.R_velocity[1, 1] = row.v_sdn**2\n",
    "        self.R_velocity[2, 2] = row.v_sdu**2\n",
    "\n",
    "        self.R_velocity[0, 1] = row.v_sden\n",
    "        self.R_velocity[0, 2] = row.v_sdeu\n",
    "        self.R_velocity[1, 2] = row.v_sdnu\n",
    "\n",
    "        self.R_velocity[1, 0] = self.R_velocity[0, 1]\n",
    "        self.R_velocity[2, 0] = self.R_velocity[0, 2]\n",
    "        self.R_velocity[2, 1] = self.R_velocity[1, 2]\n",
    "        self.R_velocity = rot @ self.R_velocity @ rot.transpose()\n",
    "\n",
    "    def updatePosition(self, row):\n",
    "        # \t\tpos_ned = row[['pos_n','pos_e','pos_d']].values.reshape(3,1)\n",
    "        pos_xyz = np.array((row[\"x\"], row[\"y\"], row[\"z\"])).reshape(3, 1)\n",
    "\n",
    "        H = np.zeros([3, self.Nx])\n",
    "        H[0:3, 0:3] = np.identity(3)\n",
    "\n",
    "        self.R_position[0, 0] = row.sdx**2\n",
    "        self.R_position[1, 1] = row.sdy**2\n",
    "        self.R_position[2, 2] = row.sdz**2\n",
    "\n",
    "        self.R_position[0, 1] = np.sign(row.sdxy) * row.sdxy**2\n",
    "        self.R_position[0, 2] = np.sign(row.sdxz) * row.sdxz**2\n",
    "        self.R_position[1, 2] = np.sign(row.sdyz) * row.sdyz**2\n",
    "\n",
    "        self.R_position[1, 0] = self.R_position[0, 1]\n",
    "        self.R_position[2, 0] = self.R_position[0, 2]\n",
    "        self.R_position[2, 1] = self.R_position[1, 2]\n",
    "\n",
    "        y = pos_xyz - H @ self.X\n",
    "        S = H @ self.P @ H.transpose() + self.R_position\n",
    "        K = (self.P @ H.transpose()) @ inv(S)\n",
    "        self.X = self.X + K @ y\n",
    "\n",
    "        I = np.identity(self.Nx)\n",
    "        self.P = (I - K @ H) @ self.P\n",
    "\n",
    "    def updateVelocity(self, row):\n",
    "        # \t\tv_ned = row[['vel_n', 'vel_e', 'vel_d']].values.reshape(3,1)\n",
    "        rot, v_xyz = self.rot_vel(row)\n",
    "\n",
    "        H = np.zeros([3, self.Nx])\n",
    "        H[0:3, 3:6] = np.identity(3)\n",
    "\n",
    "        y = v_xyz - H @ self.X\n",
    "        S = H @ self.P @ H.transpose() + self.R_velocity\n",
    "        K = (self.P @ H.transpose()) @ inv(S)\n",
    "        self.X = self.X + K @ y\n",
    "\n",
    "        I = np.identity(self.Nx)\n",
    "        self.P = (I - K @ H) @ self.P\n",
    "\n",
    "    def get_states(self):\n",
    "        return {\n",
    "            \"x\": np.ndarray.item(self.X[0]),\n",
    "            \"y\": np.ndarray.item(self.X[1]),\n",
    "            \"z\": np.ndarray.item(self.X[2]),\n",
    "            \"vx\": np.ndarray.item(self.X[3]),\n",
    "            \"vy\": np.ndarray.item(self.X[4]),\n",
    "            \"vz\": np.ndarray.item(self.X[5]),\n",
    "        }\n",
    "\n",
    "    def return_states(self):\n",
    "        return self.X\n",
    "\n",
    "    def return_covariance(self):\n",
    "        return self.P\n",
    "\n",
    "    def rts_smoother(self, Xs, Ps):\n",
    "        # Rauch, Tongue, and Striebel smoother\n",
    "\n",
    "        n, dim_x, _ = Xs.shape\n",
    "\n",
    "        # smoother gain\n",
    "        K = np.zeros((n, dim_x, dim_x))\n",
    "        x, P, Pp = Xs.copy(), Ps.copy(), Ps.copy()\n",
    "\n",
    "        i = 0\n",
    "        for k in range(n - 2, -1, -1):\n",
    "            Pp[k] = self.F @ P[k] @ self.F.T + self.Q  # predicted covariance\n",
    "\n",
    "            K[k] = P[k] @ self.F.T @ inv(Pp[k])\n",
    "            x[k] += K[k] @ (x[k + 1] - (self.F @ x[k]))\n",
    "            P[k] += K[k] @ (P[k + 1] - Pp[k]) @ K[k].T\n",
    "            i += 1\n",
    "            print(str(i + 1) + \"/\" + str(n), end=\"\\r\")\n",
    "        print(\"\")\n",
    "\n",
    "        return x, P, K, Pp"
   ],
   "metadata": {
    "collapsed": false,
    "ExecuteTime": {
     "end_time": "2024-04-04T05:03:37.222608Z",
     "start_time": "2024-04-04T05:03:37.205727Z"
    }
   },
   "id": "9352355089a7e351",
   "execution_count": 14
  },
  {
   "cell_type": "code",
   "outputs": [],
   "source": [
    "def run_filter_simulation(df):\n",
    "    import time\n",
    "\n",
    "    init = True\n",
    "\n",
    "    results = []\n",
    "    Xs = np.zeros([len(df), 6, 1])\n",
    "    Ps = np.zeros([len(df), 6, 6])\n",
    "\n",
    "    all_results = pd.DataFrame()\n",
    "\n",
    "    # Process data through forward Kalman filter\n",
    "    for i in range(len(df)):\n",
    "        row = df[i]\n",
    "        # print(str(i + 1) + \"/\" + str(len(df)), end=\"\\r\")\n",
    "\n",
    "        if init:\n",
    "            gnss_kf = GNSS_filter(row)\n",
    "            init = False\n",
    "            last_time = row.dts\n",
    "        else:\n",
    "            dt = abs(\n",
    "                row.dts - last_time\n",
    "            )  # This helps to stabilize the solution, abs ensures reverse filtering works.\n",
    "            gnss_kf.predict(dt)\n",
    "            last_time = row.dts\n",
    "\n",
    "            # New velocity standard deviations\n",
    "            if \"v_sde\" in row.dtype.names:\n",
    "                if not np.isnan(row[\"v_sde\"]):\n",
    "                    gnss_kf.updateVel_cov(row)\n",
    "            # new GNSS measurement\n",
    "            if not np.isnan(row[\"x\"]):\n",
    "                gnss_kf.updatePosition(row)\n",
    "            # new velocity measurement\n",
    "            if not np.isnan(row[\"vel_e\"]):\n",
    "                gnss_kf.updateVelocity(row)\n",
    "\n",
    "        X = gnss_kf.return_states()\n",
    "        P = gnss_kf.return_covariance()\n",
    "        Xs[i] = X\n",
    "        Ps[i] = P\n",
    "\n",
    "    print(\"\")\n",
    "    print(\"Smoothing results\")\n",
    "    x, P, K, Pp = gnss_kf.rts_smoother(Xs, Ps)\n",
    "\n",
    "    return x, P, K, Pp"
   ],
   "metadata": {
    "collapsed": false,
    "ExecuteTime": {
     "end_time": "2024-04-04T05:03:37.228069Z",
     "start_time": "2024-04-04T05:03:37.223767Z"
    }
   },
   "id": "556f6faa12d2d140",
   "execution_count": 15
  },
  {
   "cell_type": "code",
   "outputs": [
    {
     "name": "stdout",
     "output_type": "stream",
     "text": [
      "\n",
      "Smoothing results\n",
      "1000000/1000000\r\n",
      "CPU times: user 12min 8s, sys: 15min 49s, total: 27min 57s\n",
      "Wall time: 7min 56s\n"
     ]
    }
   ],
   "source": [
    "%%time\n",
    "x_v1, P_v1, K_v1, Pp_v1 = run_filter_simulation(df)"
   ],
   "metadata": {
    "collapsed": false,
    "ExecuteTime": {
     "end_time": "2024-04-04T05:11:33.601402Z",
     "start_time": "2024-04-04T05:03:37.228825Z"
    }
   },
   "id": "556af70d9da421cd",
   "execution_count": 16
  },
  {
   "cell_type": "code",
   "outputs": [],
   "source": [],
   "metadata": {
    "collapsed": false,
    "ExecuteTime": {
     "end_time": "2024-04-04T05:11:33.606107Z",
     "start_time": "2024-04-04T05:11:33.603298Z"
    }
   },
   "id": "e1ef0d2a0fed0954",
   "execution_count": 16
  },
  {
   "cell_type": "code",
   "outputs": [],
   "source": [
    "from math import pi\n",
    "\n",
    "import numpy as np\n",
    "from numpy import asarray, empty_like, finfo, where\n",
    "from numpy import arctan as atan\n",
    "from numpy import arctan2 as atan2\n",
    "from numpy import (\n",
    "    cos,\n",
    "    degrees,\n",
    "    hypot,\n",
    "    sin,\n",
    "    sqrt,\n",
    "    tan,\n",
    ")\n",
    "\n",
    "import numba"
   ],
   "metadata": {
    "collapsed": false,
    "ExecuteTime": {
     "end_time": "2024-04-04T05:11:33.777165Z",
     "start_time": "2024-04-04T05:11:33.607802Z"
    }
   },
   "id": "957317010b34036c",
   "execution_count": 17
  },
  {
   "cell_type": "code",
   "outputs": [],
   "source": [
    "# Process noise matrix\n",
    "gnss_pos_psd = 3.125e-5\n",
    "vel_psd = 0.0025\n",
    "\n",
    "WGS84_ELL = {\"name\": \"WGS-84 (1984)\", \"a\": 6378137.0, \"b\": 6356752.31424518}\n",
    "semimajor_axis = WGS84_ELL[\"a\"]\n",
    "semiminor_axis = WGS84_ELL[\"b\"]\n",
    "\n",
    "\n",
    "@numba.njit\n",
    "def ecef2geodetic(\n",
    "    x: float,\n",
    "    y: float,\n",
    "    z: float,\n",
    "    semimajor_axis: float = semimajor_axis,\n",
    "    semiminor_axis: float = semiminor_axis,\n",
    "    eps=finfo(np.float32).eps,\n",
    ") -> tuple:\n",
    "    \"\"\"\n",
    "    convert ECEF (meters) to geodetic coordinates\n",
    "\n",
    "    rewrite of pymap3d.ecef2geodetic to use numba for speedup...\n",
    "    not as robust\n",
    "    \"\"\"\n",
    "\n",
    "    x = asarray(x)\n",
    "    y = asarray(y)\n",
    "    z = asarray(z)\n",
    "\n",
    "    r = sqrt(x**2 + y**2 + z**2)\n",
    "\n",
    "    E = sqrt(semimajor_axis**2 - semiminor_axis**2)\n",
    "\n",
    "    # eqn. 4a\n",
    "    u = sqrt(0.5 * (r**2 - E**2) + 0.5 * hypot(r**2 - E**2, 2 * E * z))\n",
    "\n",
    "    hxy = hypot(x, y)\n",
    "\n",
    "    huE = hypot(u, E)\n",
    "\n",
    "    # eqn. 4b\n",
    "    Beta = empty_like(r)\n",
    "    Beta = atan(huE / u * z / hxy)\n",
    "    # eqn. 13\n",
    "    Beta += ((semiminor_axis * u - semimajor_axis * huE + E**2) * sin(Beta)) / (\n",
    "        semimajor_axis * huE * 1 / cos(Beta) - E**2 * cos(Beta)\n",
    "    )\n",
    "\n",
    "    # eqn. 4c\n",
    "    # %% final output\n",
    "    lat = atan(semimajor_axis / semiminor_axis * tan(Beta))\n",
    "\n",
    "    # # patch latitude for float32 precision loss\n",
    "    lim_pi2 = pi / 2 - eps\n",
    "    lat = where(Beta >= lim_pi2, pi / 2, lat)\n",
    "    lat = where(Beta <= -lim_pi2, -pi / 2, lat)\n",
    "\n",
    "    lon = atan2(y, x)\n",
    "\n",
    "    # eqn. 7\n",
    "    cosBeta = cos(Beta)\n",
    "\n",
    "    # patch altitude for float32 precision loss\n",
    "    cosBeta = where(Beta >= lim_pi2, 0, cosBeta)\n",
    "    cosBeta = where(Beta <= -lim_pi2, 0, cosBeta)\n",
    "\n",
    "    alt = hypot(z - semiminor_axis * sin(Beta), hxy - semimajor_axis * cosBeta)\n",
    "\n",
    "    lat = degrees(lat)\n",
    "    lon = degrees(lon)\n",
    "\n",
    "    return lat, lon, alt\n",
    "\n",
    "\n",
    "@numba.njit\n",
    "def predict(dt, X, P, Q, F):\n",
    "    F[0:3, 3:6] = np.identity(3) * dt\n",
    "    Q = updateQ(dt, Q)\n",
    "    X = F @ X\n",
    "    P = F @ P @ F.T + Q\n",
    "\n",
    "    return X, P, Q, F\n",
    "\n",
    "\n",
    "@numba.njit\n",
    "def updateQ(dt, Q):\n",
    "    # Position estimation noise\n",
    "    # Initial Q values from Chadwell code 3.125d-5 3.125d-5 3.125d-5 0.0025 0.0025 0.0025, assumes white noise of 2.5 cm over a second\n",
    "    Q[0:3, 0:3] = np.identity(3) * gnss_pos_psd * dt\n",
    "\n",
    "    # Velocity estimation noise (acc psd)\n",
    "    Q[3:6, 3:6] = np.identity(3) * vel_psd\n",
    "\n",
    "    return Q\n",
    "\n",
    "\n",
    "@numba.njit\n",
    "def rot_vel(row, lat, lon):\n",
    "    \"\"\"\n",
    "    ------------------- Rotate ENU velocity into ECEF velocity --------------------------------\n",
    "                dX = |  -sg   -sa*cg  ca*cg | | de |        de = |  -sg       cg      0 | | dX |\n",
    "                dY = |   cg   -sa*sg  ca*sg | | dn |  and   dn = |-sa*cg  -sa*sg     ca | | dY |\n",
    "                dZ = |    0    ca     sa    | | du |        du = | ca*cg   ca*sg     sa | | dZ |\n",
    "    -------------------------------------------------------------------------------------------\n",
    "    \"\"\"\n",
    "    v_enu = row[1:4].copy().reshape((3, 1))\n",
    "    lat = np.deg2rad(lat)\n",
    "    lam = np.deg2rad(lon)\n",
    "\n",
    "    ca = np.cos(lat)\n",
    "    sa = np.sin(lat)\n",
    "\n",
    "    cg = np.cos(lam)\n",
    "    sg = np.sin(lam)\n",
    "\n",
    "    rot = np.zeros((3, 3))\n",
    "    rot[0, 0] = -sg\n",
    "    rot[0, 1] = -sa * cg\n",
    "    rot[0, 2] = ca * cg\n",
    "    rot[1, 0] = cg\n",
    "    rot[1, 1] = -sa * sg\n",
    "    rot[1, 2] = ca * sg\n",
    "    rot[2, 0] = 0\n",
    "    rot[2, 1] = ca\n",
    "    rot[2, 2] = sa\n",
    "    v_xyz = rot @ v_enu\n",
    "\n",
    "    return rot, v_xyz\n",
    "\n",
    "\n",
    "@numba.njit\n",
    "def update_vel_cov(row, R_velocity, rot):\n",
    "    # Velocity measurement noise\n",
    "    # Vel STD\n",
    "    R_velocity[0, 0] = row[13] ** 2\n",
    "    R_velocity[1, 1] = row[14] ** 2\n",
    "    R_velocity[2, 2] = row[15] ** 2\n",
    "\n",
    "    R_velocity[0, 1] = row[16]\n",
    "    R_velocity[0, 2] = row[17]\n",
    "    R_velocity[1, 2] = row[18]\n",
    "\n",
    "    R_velocity[1, 0] = R_velocity[0, 1]\n",
    "    R_velocity[2, 0] = R_velocity[0, 2]\n",
    "    R_velocity[2, 1] = R_velocity[1, 2]\n",
    "\n",
    "    R_velocity = rot @ R_velocity @ rot.T\n",
    "    return R_velocity\n",
    "\n",
    "\n",
    "@numba.njit\n",
    "def update_rpos(row, R_position):\n",
    "    R_position[0, 0] = row[7] ** 2\n",
    "    R_position[1, 1] = row[8] ** 2\n",
    "    R_position[2, 2] = row[9] ** 2\n",
    "\n",
    "    R_position[0, 1] = np.sign(row[10]) * row[10] ** 2\n",
    "    R_position[0, 2] = np.sign(row[11]) * row[11] ** 2\n",
    "    R_position[1, 2] = np.sign(row[12]) * row[12] ** 2\n",
    "\n",
    "    R_position[1, 0] = R_position[0, 1]\n",
    "    R_position[2, 0] = R_position[0, 2]\n",
    "    R_position[2, 1] = R_position[1, 2]\n",
    "    return R_position\n",
    "\n",
    "\n",
    "@numba.njit\n",
    "def update_position(row, Nx, X, P, R_position):\n",
    "    pos_xyz = row[4:7].copy().reshape((3, 1))\n",
    "\n",
    "    H = np.zeros((3, Nx))\n",
    "    H[0:3, 0:3] = np.identity(3)\n",
    "    R_position = update_rpos(row, R_position)\n",
    "\n",
    "    y = pos_xyz - H @ X\n",
    "    S = H @ P @ H.T + R_position\n",
    "    K = (P @ H.T) @ np.linalg.inv(S)\n",
    "    X = X + K @ y\n",
    "\n",
    "    I = np.identity(Nx)  # noqa\n",
    "    P = (I - K @ H) @ P\n",
    "    return X, P, R_position\n",
    "\n",
    "\n",
    "@numba.njit\n",
    "def update_velocity(Nx, X, P, R_velocity, v_xyz):\n",
    "    H = np.zeros((3, Nx))\n",
    "    H[0:3, 3:6] = np.identity(3)\n",
    "\n",
    "    y = v_xyz - H @ X\n",
    "    S = H @ P @ H.T + R_velocity\n",
    "    K = (P @ H.T) @ np.linalg.inv(S)\n",
    "    X = X + K @ y\n",
    "\n",
    "    IDENTITY = np.identity(Nx)\n",
    "    P = (IDENTITY - K @ H) @ P\n",
    "    return X, P, R_velocity\n",
    "\n",
    "\n",
    "@numba.njit\n",
    "def rts_smoother(Xs, Ps, F, Q):\n",
    "    # Rauch, Tongue, and Striebel smoother\n",
    "\n",
    "    n, dim_x, _ = Xs.shape\n",
    "\n",
    "    # smoother gain\n",
    "    K = np.zeros((n, dim_x, dim_x))\n",
    "    x, P, Pp = Xs.copy(), Ps.copy(), Ps.copy()\n",
    "\n",
    "    i = 0\n",
    "    for k in range(n - 2, -1, -1):\n",
    "        Pp[k] = F @ P[k] @ F.T + Q  # predicted covariance\n",
    "\n",
    "        K[k] = P[k] @ F.T @ np.linalg.inv(Pp[k])\n",
    "        x[k] += K[k] @ (x[k + 1] - (F @ x[k]))\n",
    "        P[k] += K[k] @ (P[k + 1] - Pp[k]) @ K[k].T\n",
    "        i += 1\n",
    "\n",
    "    return x, P, K, Pp\n",
    "\n",
    "\n",
    "@numba.njit\n",
    "def kalman_init(row):\n",
    "    dt = 5e-2\n",
    "    Nx = 6\n",
    "    Nu = 3  # noqa\n",
    "\n",
    "    # error states: pos_xyz, v_ned, eul, bias_acc, bias_gyro\n",
    "    X = np.zeros((Nx, 1))\n",
    "    # Initial antenna location\n",
    "    pos_xyz = row[4:7].copy().reshape((3, 1))\n",
    "    X[0:3] = pos_xyz\n",
    "\n",
    "    lat, lon, _ = ecef2geodetic(X[0], X[1], X[2])\n",
    "    # Initial antenna velocity\n",
    "    rot, v_xyz = rot_vel(row, lat[0], lon[0])\n",
    "    X[3:6] = v_xyz\n",
    "\n",
    "    # Process model\n",
    "\n",
    "    # State transition matrix\n",
    "    F = np.identity(Nx)\n",
    "    F[0:3, 3:6] = np.identity(3) * dt\n",
    "\n",
    "    # Set initial values to 0.25?\n",
    "    P = np.identity(Nx)\n",
    "\n",
    "    # Process noise matrix\n",
    "    Q = np.zeros((Nx, Nx))\n",
    "    Q = updateQ(dt, Q)\n",
    "\n",
    "    # Position measurement noise\n",
    "    R_position = np.identity(3)\n",
    "    R_position = update_rpos(row, R_position)\n",
    "\n",
    "    # Velocity measurement noise\n",
    "    R_velocity = np.identity(3) * 4e-8\n",
    "    R_velocity[0, 1] = 1.5e-9\n",
    "    R_velocity[0, 2] = 1.5e-9\n",
    "    R_velocity[1, 2] = 1.5e-9\n",
    "    R_velocity[1, 0] = R_velocity[0, 1]\n",
    "    R_velocity[2, 0] = R_velocity[0, 2]\n",
    "    R_velocity[2, 1] = R_velocity[1, 2]\n",
    "\n",
    "    R_velocity = update_vel_cov(row, R_velocity, rot)\n",
    "\n",
    "    return Nx, X, P, Q, F, R_position, R_velocity\n",
    "\n",
    "\n",
    "@numba.njit\n",
    "def run_filter_simulation(records):\n",
    "    last_time = np.nan\n",
    "    records_len = records.shape[0]\n",
    "    Xs = np.zeros((records_len, 6, 1))\n",
    "    Ps = np.zeros((records_len, 6, 6))\n",
    "    n_records = len(records)\n",
    "    for i in range(n_records):\n",
    "        row = records[i]\n",
    "        dts = row[0]\n",
    "        if i == 0:\n",
    "            Nx, X, P, Q, F, R_position, R_velocity = kalman_init(row)\n",
    "            last_time = dts\n",
    "        else:\n",
    "            dt = np.abs(\n",
    "                dts - last_time\n",
    "            )  # This helps to stabilize the solution, abs ensures reverse filtering works.\n",
    "            X, P, Q, F = predict(dt, X, P, Q, F)\n",
    "\n",
    "            last_time = dts\n",
    "\n",
    "            lat, lon, _ = ecef2geodetic(X[0], X[1], X[2])\n",
    "            rot, v_xyz = rot_vel(row, lat[0], lon[0])\n",
    "\n",
    "            # New velocity standard deviations\n",
    "            if ~np.isnan(row[16]):\n",
    "                R_velocity = update_vel_cov(row, R_velocity, rot)\n",
    "\n",
    "            # new GNSS measurement\n",
    "            if ~np.isnan(row[4]):\n",
    "                X, P, R_position = update_position(row, Nx, X, P, R_position)\n",
    "\n",
    "            # new velocity measurement\n",
    "            if ~np.isnan(row[1]):\n",
    "                X, P, R_velocity = update_velocity(Nx, X, P, R_velocity, v_xyz)\n",
    "\n",
    "        Xs[i] = X\n",
    "        Ps[i] = P\n",
    "\n",
    "    x, P, K, Pp = rts_smoother(Xs, Ps, F, Q)\n",
    "\n",
    "    return x, P, K, Pp"
   ],
   "metadata": {
    "collapsed": false,
    "ExecuteTime": {
     "end_time": "2024-04-04T05:11:33.823548Z",
     "start_time": "2024-04-04T05:11:33.779198Z"
    }
   },
   "id": "ede701abfd0c90f1",
   "execution_count": 18
  },
  {
   "cell_type": "code",
   "outputs": [
    {
     "data": {
      "text/plain": "array([[ 7.12207205e+08,  1.25600000e-01, -1.45330000e+00, ...,\n         0.00000000e+00,  0.00000000e+00,  0.00000000e+00],\n       [ 7.12207205e+08,  1.51000000e-01, -1.44400000e+00, ...,\n         0.00000000e+00,  0.00000000e+00,  0.00000000e+00],\n       [ 7.12207205e+08,  1.71100000e-01, -1.43420000e+00, ...,\n         0.00000000e+00,  0.00000000e+00,  0.00000000e+00],\n       ...,\n       [ 7.12257213e+08, -1.67100000e-01,  5.58000000e-01, ...,\n         0.00000000e+00,  0.00000000e+00,  0.00000000e+00],\n       [ 7.12257213e+08, -1.39100000e-01,  5.43000000e-01, ...,\n         0.00000000e+00,  0.00000000e+00,  0.00000000e+00],\n       [ 7.12257213e+08, -1.20600000e-01,  5.32400000e-01, ...,\n         0.00000000e+00,  0.00000000e+00,  0.00000000e+00]])"
     },
     "execution_count": 19,
     "metadata": {},
     "output_type": "execute_result"
    }
   ],
   "source": [
    "records = merged_df_small.to_numpy()\n",
    "records"
   ],
   "metadata": {
    "collapsed": false,
    "ExecuteTime": {
     "end_time": "2024-04-04T05:11:33.831210Z",
     "start_time": "2024-04-04T05:11:33.825264Z"
    }
   },
   "id": "17591aef8a136a2",
   "execution_count": 19
  },
  {
   "cell_type": "code",
   "outputs": [
    {
     "name": "stdout",
     "output_type": "stream",
     "text": [
      "CPU times: user 18.3 s, sys: 559 ms, total: 18.9 s\n",
      "Wall time: 18.6 s\n"
     ]
    }
   ],
   "source": [
    "%%time\n",
    "x_v2, P_v2, K_v2, Pp_v2 = run_filter_simulation(records)"
   ],
   "metadata": {
    "collapsed": false,
    "ExecuteTime": {
     "end_time": "2024-04-04T05:11:52.468101Z",
     "start_time": "2024-04-04T05:11:33.832968Z"
    }
   },
   "id": "6fabac1cc9fa8cdc",
   "execution_count": 20
  },
  {
   "cell_type": "code",
   "outputs": [
    {
     "data": {
      "text/plain": "False"
     },
     "execution_count": 21,
     "metadata": {},
     "output_type": "execute_result"
    }
   ],
   "source": [
    "np.array_equal(x_v1, x_v2, equal_nan=True)"
   ],
   "metadata": {
    "collapsed": false,
    "ExecuteTime": {
     "end_time": "2024-04-04T05:11:52.508780Z",
     "start_time": "2024-04-04T05:11:52.469247Z"
    }
   },
   "id": "420b1d7de3be80be",
   "execution_count": 21
  },
  {
   "cell_type": "code",
   "outputs": [
    {
     "name": "stdout",
     "output_type": "stream",
     "text": [
      "[[-2.57523959e+06 -3.68263387e+06  4.51104113e+06  1.06490760e-01\n",
      "  -1.81356947e+00 -3.65600147e-01]]\n",
      "[[-2.57523959e+06 -3.68263387e+06  4.51104113e+06  1.06490760e-01\n",
      "  -1.81356947e+00 -3.65600147e-01]]\n",
      "(1000000, 6, 1)\n",
      "(1000000, 6, 1)\n"
     ]
    }
   ],
   "source": [
    "row = 100000\n",
    "print(f\"{x_v1[row].T}\\n{x_v2[row].T}\")\n",
    "print(f\"{x_v1.shape}\\n{x_v2.shape}\")"
   ],
   "metadata": {
    "collapsed": false,
    "ExecuteTime": {
     "end_time": "2024-04-04T05:20:21.907829Z",
     "start_time": "2024-04-04T05:20:21.905155Z"
    }
   },
   "id": "e5550c3c51ecb894",
   "execution_count": 35
  },
  {
   "cell_type": "code",
   "outputs": [
    {
     "data": {
      "text/plain": "True"
     },
     "execution_count": 41,
     "metadata": {},
     "output_type": "execute_result"
    }
   ],
   "source": [
    "np.allclose(x_v1, x_v2, equal_nan=True, rtol=0.001)"
   ],
   "metadata": {
    "collapsed": false,
    "ExecuteTime": {
     "end_time": "2024-04-04T05:21:10.126934Z",
     "start_time": "2024-04-04T05:21:10.077935Z"
    }
   },
   "id": "ea885a461ca2e021",
   "execution_count": 41
  },
  {
   "cell_type": "code",
   "outputs": [
    {
     "data": {
      "text/plain": "False"
     },
     "execution_count": 55,
     "metadata": {},
     "output_type": "execute_result"
    }
   ],
   "source": [
    "np.allclose(x_v1, x_v2, equal_nan=True, rtol=0.0001)"
   ],
   "metadata": {
    "collapsed": false,
    "ExecuteTime": {
     "end_time": "2024-04-04T05:29:52.207025Z",
     "start_time": "2024-04-04T05:29:52.155961Z"
    }
   },
   "id": "180294aefd7aaeb5",
   "execution_count": 55
  },
  {
   "cell_type": "code",
   "outputs": [
    {
     "data": {
      "text/plain": "True"
     },
     "execution_count": 63,
     "metadata": {},
     "output_type": "execute_result"
    }
   ],
   "source": [
    "np.allclose(x_v1, x_v2, equal_nan=True, rtol=0.0002)\n"
   ],
   "metadata": {
    "collapsed": false,
    "ExecuteTime": {
     "end_time": "2024-04-04T05:31:08.112258Z",
     "start_time": "2024-04-04T05:31:08.063509Z"
    }
   },
   "id": "52c9ebda8202f64a",
   "execution_count": 63
  },
  {
   "cell_type": "code",
   "outputs": [
    {
     "data": {
      "text/plain": "True"
     },
     "execution_count": 25,
     "metadata": {},
     "output_type": "execute_result"
    }
   ],
   "source": [
    "np.allclose(P_v1, P_v2, equal_nan=True)\n"
   ],
   "metadata": {
    "collapsed": false,
    "ExecuteTime": {
     "end_time": "2024-04-04T05:11:52.816240Z",
     "start_time": "2024-04-04T05:11:52.565666Z"
    }
   },
   "id": "d760dd506ca0341e",
   "execution_count": 25
  },
  {
   "cell_type": "code",
   "outputs": [
    {
     "data": {
      "text/plain": "True"
     },
     "execution_count": 26,
     "metadata": {},
     "output_type": "execute_result"
    }
   ],
   "source": [
    "np.allclose(K_v1, K_v2, equal_nan=True)\n"
   ],
   "metadata": {
    "collapsed": false,
    "ExecuteTime": {
     "end_time": "2024-04-04T05:11:53.064638Z",
     "start_time": "2024-04-04T05:11:52.817001Z"
    }
   },
   "id": "b3f90bea17098fe4",
   "execution_count": 26
  },
  {
   "cell_type": "code",
   "outputs": [
    {
     "data": {
      "text/plain": "True"
     },
     "execution_count": 27,
     "metadata": {},
     "output_type": "execute_result"
    }
   ],
   "source": [
    "np.allclose(Pp_v1, Pp_v2, equal_nan=True)\n"
   ],
   "metadata": {
    "collapsed": false,
    "ExecuteTime": {
     "end_time": "2024-04-04T05:11:53.314765Z",
     "start_time": "2024-04-04T05:11:53.066477Z"
    }
   },
   "id": "2524397b68c300c0",
   "execution_count": 27
  },
  {
   "cell_type": "code",
   "outputs": [
    {
     "data": {
      "text/plain": "True"
     },
     "execution_count": 53,
     "metadata": {},
     "output_type": "execute_result"
    }
   ],
   "source": [
    "np.allclose(1, 1.0010, equal_nan=True, rtol=0.001)"
   ],
   "metadata": {
    "collapsed": false,
    "ExecuteTime": {
     "end_time": "2024-04-04T05:28:40.012037Z",
     "start_time": "2024-04-04T05:28:40.008649Z"
    }
   },
   "id": "f09ade49e255bbef",
   "execution_count": 53
  },
  {
   "cell_type": "code",
   "outputs": [
    {
     "data": {
      "text/plain": "False"
     },
     "execution_count": 54,
     "metadata": {},
     "output_type": "execute_result"
    }
   ],
   "source": [
    "np.allclose(1, 1.00101, equal_nan=True, rtol=0.001)\n"
   ],
   "metadata": {
    "collapsed": false,
    "ExecuteTime": {
     "end_time": "2024-04-04T05:28:46.615604Z",
     "start_time": "2024-04-04T05:28:46.611852Z"
    }
   },
   "id": "e3858608748b96d5",
   "execution_count": 54
  },
  {
   "cell_type": "code",
   "outputs": [
    {
     "data": {
      "text/plain": "0.001"
     },
     "execution_count": 68,
     "metadata": {},
     "output_type": "execute_result"
    }
   ],
   "source": [
    "float(1e-05)*100\n"
   ],
   "metadata": {
    "collapsed": false,
    "ExecuteTime": {
     "end_time": "2024-04-04T05:36:41.132357Z",
     "start_time": "2024-04-04T05:36:41.129463Z"
    }
   },
   "id": "5af247887e83d980",
   "execution_count": 68
  },
  {
   "cell_type": "code",
   "outputs": [],
   "source": [],
   "metadata": {
    "collapsed": false
   },
   "id": "709840c6bc4e055b"
  }
 ],
 "metadata": {
  "kernelspec": {
   "display_name": "Python 3 (ipykernel)",
   "language": "python",
   "name": "python3"
  },
  "language_info": {
   "codemirror_mode": {
    "name": "ipython",
    "version": 3
   },
   "file_extension": ".py",
   "mimetype": "text/x-python",
   "name": "python",
   "nbconvert_exporter": "python",
   "pygments_lexer": "ipython3",
   "version": "3.9.19"
  }
 },
 "nbformat": 4,
 "nbformat_minor": 5
}
