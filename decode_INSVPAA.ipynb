{
 "cells": [
  {
   "cell_type": "markdown",
   "id": "b9935426-565d-4c79-94ae-5586ead4ca72",
   "metadata": {},
   "source": []
  },
  {
   "cell_type": "code",
   "execution_count": 1,
   "id": "2abd04d2-61ef-4c94-a24f-04cb39c10de2",
   "metadata": {},
   "outputs": [],
   "source": [
    "import re\n",
    "from pathlib import Path\n",
    "import time"
   ]
  },
  {
   "cell_type": "code",
   "execution_count": 2,
   "id": "0f857ab3-9585-493a-960d-7c2f1dbef78b",
   "metadata": {},
   "outputs": [],
   "source": [
    "start_time = time.perf_counter()"
   ]
  },
  {
   "cell_type": "code",
   "execution_count": 3,
   "id": "ad7f39ba-6bee-40da-a086-8b8b4a18c2e8",
   "metadata": {},
   "outputs": [],
   "source": [
    "raw_file = Path(\"NCL1/NCL1_INSPVAA.dat\")\n",
    "# raw_file_text = raw_file.read_text()\n",
    "lines_to_read = 100000\n",
    "lines_read = 0\n",
    "# raw_file_text = \"#INSPVAA,USB2,0,69.0,FINESTEERING,2220,400732.750,02000000,54e2,15823;2220,400732.750000000,45.30228109290,-124.96596984774,-28.3449,-0.6858,0.1014,0.2413,-3.550174056,1.675694720,225.485958675,INS_SOLUTION_GOOD*5af07ec9\\n#INSPVAA,USB2,0,69.0,FINESTEERING,2220,400732.800,02000000,54e2,15823;2220,400732.800000000,45.30228080853,-124.96596980582,-28.3340,-0.6380,0.0788,0.2734,-3.540661065,1.372732918,225.573498898,INS_SOLUTION_GOOD*095db2c5\\n#INSPVAA,USB2,0,69.0,FINESTEERING,2220,400732.850,02000000,54e2,15823;2220,400732.850000000,45.30228054897,-124.96596978011,-28.3225,-0.5833,0.0534,0.2926,-3.183019898,1.125801142,225.649088263,INS_SOLUTION_GOOD*159506a7\\n#INSPVAA,USB2,0,69.0,FINESTEERING,2220,400732.900,02000000,54e2,15823;2220,400732.900000000,45.30228030725,-124.96596976192,-28.3104,-0.5440,0.0405,0.2950,-2.585130504,0.941245086,225.704566396,INS_SOLUTION_GOOD*7c97ac08\\n#INSPVAA,USB2,0,69.0,FINESTEERING,2220,400732.950,02000000,54e2,15823;2220,400732.950000000,45.30228008140,-124.96596974837,-28.2990,-0.5122,0.0346,0.2801,-1.819054504,0.826606015,225.732879767,INS_SOLUTION_GOOD*d470074a\\n#INSPVAA,USB2,0,69.0,FINESTEERING,2220,400733.000,02000000,54e2,15823;2220,400733.000000000,45.30227986815,-124.96596973566,-28.2893,-0.4850,0.0341,0.2472,-0.973447368,0.782243988,225.728794479,INS_SOLUTION_GOOD*513680ef\\n#INSPVAA,USB2,0,69.0,FINESTEERING,2220,400733.050,02000000,54e2,15823;2220,400733.050000000,45.30227965279,-124.96596972252,-28.2789,-0.4740,0.0438,0.2121,-0.150524791,0.792945800,225.691069983,INS_SOLUTION_GOOD*e577f63e\\n#INSPVAA,USB2,0,69.0,FINESTEERING,2220,400733.100,02000000,54e2,15823;2220,400733.100000000,45.30227943475,-124.96596970405,-28.2689,-0.4702,0.0576,0.1735,0.579114283,0.848124645,225.615377065,INS_SOLUTION_GOOD*bb6e6000\\n#INSPVAA,USB2,0,69.0,FINESTEERING,2220,400733.150,02000000,54e2,15823;2220,400733.150000000,45.30227921575,-124.96596967508,-28.2608,-0.4730,0.0727,0.1400,1.156597387,0.927888076,225.499944691,INS_SOLUTION_GOOD*c9922d5a\\n\"\n",
    "raw_file_text = raw_file.read_text() # len = 853715702\n"
   ]
  },
  {
   "cell_type": "code",
   "execution_count": 4,
   "id": "b0476b85-a006-4ac6-8408-458c9663677a",
   "metadata": {},
   "outputs": [
    {
     "name": "stdout",
     "output_type": "stream",
     "text": [
      "4.439402299999999 seconds\n"
     ]
    }
   ],
   "source": [
    "print(time.perf_counter() - start_time, \"seconds\")\n",
    "start_time = time.perf_counter()"
   ]
  },
  {
   "cell_type": "code",
   "execution_count": 5,
   "id": "32771d13-5329-4d20-8bb5-bf33cc8b6ca7",
   "metadata": {},
   "outputs": [],
   "source": [
    "HEADER = [\n",
    "    \"Message\",\n",
    "    \"Port\",\n",
    "    \"Sequence #\",\n",
    "    \"% Idle Time\",\n",
    "    \"Time Status\",\n",
    "    \"Week\",\n",
    "    \"Seconds\",\n",
    "    \"Receiver Status\",\n",
    "    \"Reserved\",\n",
    "    \"Receiver S/W Version\",\n",
    "]\n",
    "\n",
    "DATA_ENUM = [\n",
    "    \"Week\",\n",
    "    \"Seconds\",\n",
    "    \"Latitude\",\n",
    "    \"Longitude #\",\n",
    "    \"Height\",\n",
    "    \"North Velocity\",\n",
    "    \"East Velocity\",\n",
    "    \"Up Velocity\",\n",
    "    \"Roll\",\n",
    "    \"Pitch\",\n",
    "    \"Azimuth\",\n",
    "    \"Status\",\n",
    "]"
   ]
  },
  {
   "cell_type": "code",
   "execution_count": 6,
   "id": "41a76e34-8c5f-41de-9a90-0203ebc87933",
   "metadata": {},
   "outputs": [],
   "source": [
    "# all_groups = re.findall(r\"#(?P<header>.*);(?P<data>.*)\\*(?P<crc>.*)\", raw_file_text)\n",
    "# print(all_groups)"
   ]
  },
  {
   "cell_type": "code",
   "execution_count": 7,
   "id": "5c420595-614d-4af8-8eb7-df9f2285dcea",
   "metadata": {},
   "outputs": [],
   "source": [
    "# raw_file_text"
   ]
  },
  {
   "cell_type": "code",
   "execution_count": 8,
   "id": "a10ad72e-e710-437a-a9b1-8c7984abb144",
   "metadata": {},
   "outputs": [],
   "source": [
    "# all_groups = re.findall(r\"#.*\\*(.*)\\n\", raw_file_text)\n",
    "# print(len(all_groups), all_groups[:10])\n",
    "\n",
    "# print(time.perf_counter() - start_time, \"seconds\")\n",
    "# start_time = time.perf_counter()"
   ]
  },
  {
   "cell_type": "code",
   "execution_count": 9,
   "id": "c0d2efc7-8cac-4707-a452-8582c4dec4e5",
   "metadata": {},
   "outputs": [],
   "source": [
    "# re_pattern = re.compile(r\"#.*\\*(.*)\\n\")\n",
    "# all_groups = re_pattern.findall(raw_file_text)\n",
    "# print(len(all_groups), all_groups[:10])\n",
    "\n",
    "# print(time.perf_counter() - start_time, \"seconds\")\n",
    "# start_time = time.perf_counter()"
   ]
  },
  {
   "cell_type": "code",
   "execution_count": 10,
   "id": "e3ebfec4-4557-410f-aae4-bb16e9178784",
   "metadata": {},
   "outputs": [],
   "source": [
    "# all_groups = re.findall(r\"#.*,.*,.*,.*,.*,(.*),(.*),.*,.*,.*;.*\\n\", raw_file_text[:100000])\n",
    "# print(all_groups[:10])\n",
    "\n",
    "# print(time.perf_counter() - start_time, \"seconds\")\n",
    "# start_time = time.perf_counter()"
   ]
  },
  {
   "cell_type": "code",
   "execution_count": 11,
   "id": "4eb863c9-f1e1-4e13-b44e-ca0e022bfab6",
   "metadata": {},
   "outputs": [
    {
     "name": "stdout",
     "output_type": "stream",
     "text": [
      "3866216 [('2220', '400732.750'), ('2220', '400732.800'), ('2220', '400732.850'), ('2220', '400732.900'), ('2220', '400732.950'), ('2220', '400733.000'), ('2220', '400733.050'), ('2220', '400733.100'), ('2220', '400733.150'), ('2220', '400733.200')]\n",
      "4.9821374 seconds\n"
     ]
    }
   ],
   "source": [
    "all_groups = re.findall(r\"#.*?,.*?,.*?,.*?,.*?,(.*?),(.*?),.*\", raw_file_text)\n",
    "print(len(all_groups), all_groups[:10])\n",
    "\n",
    "print(time.perf_counter() - start_time, \"seconds\")\n",
    "start_time = time.perf_counter()"
   ]
  },
  {
   "cell_type": "code",
   "execution_count": 12,
   "id": "1d02e02d-af1d-4085-971a-98aae6a5586f",
   "metadata": {},
   "outputs": [
    {
     "name": "stdout",
     "output_type": "stream",
     "text": [
      "3866219 [('2220', '400732.750', '2220', '400732.750000000', '45.30228109290', '-124.96596984774', '-28.3449', '-0.6858', '0.1014', '0.2413', '-3.550174056', '1.675694720', '225.485958675'), ('2220', '400732.800', '2220', '400732.800000000', '45.30228080853', '-124.96596980582', '-28.3340', '-0.6380', '0.0788', '0.2734', '-3.540661065', '1.372732918', '225.573498898'), ('2220', '400732.850', '2220', '400732.850000000', '45.30228054897', '-124.96596978011', '-28.3225', '-0.5833', '0.0534', '0.2926', '-3.183019898', '1.125801142', '225.649088263'), ('2220', '400732.900', '2220', '400732.900000000', '45.30228030725', '-124.96596976192', '-28.3104', '-0.5440', '0.0405', '0.2950', '-2.585130504', '0.941245086', '225.704566396'), ('2220', '400732.950', '2220', '400732.950000000', '45.30228008140', '-124.96596974837', '-28.2990', '-0.5122', '0.0346', '0.2801', '-1.819054504', '0.826606015', '225.732879767'), ('2220', '400733.000', '2220', '400733.000000000', '45.30227986815', '-124.96596973566', '-28.2893', '-0.4850', '0.0341', '0.2472', '-0.973447368', '0.782243988', '225.728794479'), ('2220', '400733.050', '2220', '400733.050000000', '45.30227965279', '-124.96596972252', '-28.2789', '-0.4740', '0.0438', '0.2121', '-0.150524791', '0.792945800', '225.691069983'), ('2220', '400733.100', '2220', '400733.100000000', '45.30227943475', '-124.96596970405', '-28.2689', '-0.4702', '0.0576', '0.1735', '0.579114283', '0.848124645', '225.615377065'), ('2220', '400733.150', '2220', '400733.150000000', '45.30227921575', '-124.96596967508', '-28.2608', '-0.4730', '0.0727', '0.1400', '1.156597387', '0.927888076', '225.499944691'), ('2220', '400733.200', '2220', '400733.200000000', '45.30227899352', '-124.96596963727', '-28.2541', '-0.4780', '0.0881', '0.1050', '1.540463574', '1.016063314', '225.340780231')]\n",
      "23.3234325 seconds\n"
     ]
    }
   ],
   "source": [
    "re_pattern = re.compile(r\"#.*?,.*?,.*?,.*?,.*?,(.*?),(.*?),.*?;(.*?),(.*?),(.*?),(.*?),(.*?),(.*?),(.*?),(.*?),(.*?),(.*?),(.*?),\")\n",
    "all_groups = re_pattern.findall(raw_file_text)\n",
    "print(len(all_groups), all_groups[:10])\n",
    "\n",
    "print(time.perf_counter() - start_time, \"seconds\")\n",
    "start_time = time.perf_counter()"
   ]
  },
  {
   "cell_type": "code",
   "execution_count": 13,
   "id": "81caa932-0a3e-4ca8-a9e9-7d2ccd5b7802",
   "metadata": {},
   "outputs": [
    {
     "name": "stdout",
     "output_type": "stream",
     "text": [
      "3866216 [('2220', '400732.750', '2220', '400732.750000000', '45.30228109290', '-124.96596984774', '-28.3449', '-0.6858', '0.1014', '0.2413', '-3.550174056', '1.675694720', '225.485958675'), ('2220', '400732.800', '2220', '400732.800000000', '45.30228080853', '-124.96596980582', '-28.3340', '-0.6380', '0.0788', '0.2734', '-3.540661065', '1.372732918', '225.573498898'), ('2220', '400732.850', '2220', '400732.850000000', '45.30228054897', '-124.96596978011', '-28.3225', '-0.5833', '0.0534', '0.2926', '-3.183019898', '1.125801142', '225.649088263'), ('2220', '400732.900', '2220', '400732.900000000', '45.30228030725', '-124.96596976192', '-28.3104', '-0.5440', '0.0405', '0.2950', '-2.585130504', '0.941245086', '225.704566396'), ('2220', '400732.950', '2220', '400732.950000000', '45.30228008140', '-124.96596974837', '-28.2990', '-0.5122', '0.0346', '0.2801', '-1.819054504', '0.826606015', '225.732879767'), ('2220', '400733.000', '2220', '400733.000000000', '45.30227986815', '-124.96596973566', '-28.2893', '-0.4850', '0.0341', '0.2472', '-0.973447368', '0.782243988', '225.728794479'), ('2220', '400733.050', '2220', '400733.050000000', '45.30227965279', '-124.96596972252', '-28.2789', '-0.4740', '0.0438', '0.2121', '-0.150524791', '0.792945800', '225.691069983'), ('2220', '400733.100', '2220', '400733.100000000', '45.30227943475', '-124.96596970405', '-28.2689', '-0.4702', '0.0576', '0.1735', '0.579114283', '0.848124645', '225.615377065'), ('2220', '400733.150', '2220', '400733.150000000', '45.30227921575', '-124.96596967508', '-28.2608', '-0.4730', '0.0727', '0.1400', '1.156597387', '0.927888076', '225.499944691'), ('2220', '400733.200', '2220', '400733.200000000', '45.30227899352', '-124.96596963727', '-28.2541', '-0.4780', '0.0881', '0.1050', '1.540463574', '1.016063314', '225.340780231')]\n",
      "40.1618235 seconds\n"
     ]
    }
   ],
   "source": [
    "re_pattern = re.compile(r\"#.*?,.*?,.*?,.*?,.*?,(.*?),(.*?),.*;(.*?),(.*?),(.*?),(.*?),(.*?),(.*?),(.*?),(.*?),(.*?),(.*?),(.*?),\")\n",
    "all_groups = re_pattern.findall(raw_file_text)\n",
    "print(len(all_groups), all_groups[:10])\n",
    "\n",
    "print(time.perf_counter() - start_time, \"seconds\")\n",
    "start_time = time.perf_counter()"
   ]
  },
  {
   "cell_type": "code",
   "execution_count": 14,
   "id": "01c30a3a-4ddb-4d26-9bd3-bb8c7bedd43f",
   "metadata": {},
   "outputs": [],
   "source": [
    "# all_groups = re.findall(r\"#.*,.*,.*,.*,.*,(.*),(.*),.*;.*\\*\\n\", raw_file_text)\n",
    "# print(all_groups[:5])"
   ]
  },
  {
   "cell_type": "code",
   "execution_count": 15,
   "id": "c582585a-252a-42f0-96e9-d8e70659b046",
   "metadata": {},
   "outputs": [],
   "source": [
    "# all_data = []\n",
    "# for line in raw_file.read_text().splitlines():\n",
    "        \n",
    "#     match = re.search(r\"#(?P<header>.*);(?P<data>.*)\\*(?P<crc>.*)\", line)\n",
    "#     # DATA_ENUM = DATA_TYPE.get(input_data_type)\n",
    "    \n",
    "    \n",
    "#     header = dict(zip(HEADER, match.group(\"header\").split(\",\")))\n",
    "#     data = dict(zip(DATA_ENUM, match.group(\"data\").split(\",\")))\n",
    "    \n",
    "#     # Get the timestamp and add to data\n",
    "#     # always retrieve from header because std dev data does not have time\n",
    "#     # indicator in the data\n",
    "#     # timestamp = gpsws_to_time(header[HEADER.GPS_WEEK], header[HEADER.GPS_SECONDS])\n",
    "#     # data[\"time\"] = timestamp.unix_j2000\n",
    "#     all_data.append(data)"
   ]
  },
  {
   "cell_type": "code",
   "execution_count": null,
   "id": "98facbb5-8baa-43a4-b4f9-0acba8879fb8",
   "metadata": {},
   "outputs": [],
   "source": []
  },
  {
   "cell_type": "code",
   "execution_count": 16,
   "id": "25785c7d-2b37-4aa7-bc76-033e2877a6a6",
   "metadata": {},
   "outputs": [],
   "source": [
    "# import asyncio\n",
    "\n",
    "# async def match_line(line):\n",
    "    \n",
    "#     match = re.search(r\"#(?P<header>.*);(?P<data>.*)\\*(?P<crc>.*)\", line)\n",
    "#     header = dict(zip(HEADER, match.group(\"header\").split(\",\")))\n",
    "#     data = dict(zip(DATA_ENUM, match.group(\"data\").split(\",\")))\n",
    "#     header.update(data)\n",
    "#     # print(f\"{line=} {header=} {data=}\")\n",
    "#     return header\n",
    "    \n",
    "# # all_data = []\n",
    "\n",
    "# lines_list = raw_file.read_text().splitlines()\n",
    "\n",
    "# result = await asyncio.gather(*[match_line(line) for line in lines_list])\n",
    "# # print(f\"{result=}\")"
   ]
  },
  {
   "cell_type": "code",
   "execution_count": 17,
   "id": "46dcba4d-1d0b-418a-9cc4-08185a6c21a3",
   "metadata": {},
   "outputs": [
    {
     "name": "stdout",
     "output_type": "stream",
     "text": [
      "0.20838400000000945 seconds\n"
     ]
    }
   ],
   "source": [
    "print(time.perf_counter() - start_time, \"seconds\")"
   ]
  },
  {
   "cell_type": "code",
   "execution_count": null,
   "id": "8c71c720-4eac-4750-8808-951cdb7fa136",
   "metadata": {},
   "outputs": [],
   "source": []
  },
  {
   "cell_type": "code",
   "execution_count": null,
   "id": "e076e4bb-a62f-42d5-a864-5b33d4b83fe0",
   "metadata": {},
   "outputs": [],
   "source": []
  }
 ],
 "metadata": {
  "kernelspec": {
   "display_name": "Python 3 (ipykernel)",
   "language": "python",
   "name": "python3"
  },
  "language_info": {
   "codemirror_mode": {
    "name": "ipython",
    "version": 3
   },
   "file_extension": ".py",
   "mimetype": "text/x-python",
   "name": "python",
   "nbconvert_exporter": "python",
   "pygments_lexer": "ipython3",
   "version": "3.9.18"
  }
 },
 "nbformat": 4,
 "nbformat_minor": 5
}
