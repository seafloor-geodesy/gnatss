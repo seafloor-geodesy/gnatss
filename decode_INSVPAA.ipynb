{
  "cells": [
    {
      "cell_type": "markdown",
      "id": "b9935426-565d-4c79-94ae-5586ead4ca72",
      "metadata": {},
      "source": []
    },
    {
      "cell_type": "code",
      "execution_count": 1,
      "id": "2abd04d2-61ef-4c94-a24f-04cb39c10de2",
      "metadata": {},
      "outputs": [],
      "source": [
        "import re\n",
        "from pathlib import Path\n",
        "import time"
      ]
    },
    {
      "cell_type": "code",
      "execution_count": 2,
      "id": "ad7f39ba-6bee-40da-a086-8b8b4a18c2e8",
      "metadata": {},
      "outputs": [
        {
          "name": "stdout",
          "output_type": "stream",
          "text": [
            "CPU times: total: 3.16 s\n",
            "Wall time: 3.88 s\n"
          ]
        }
      ],
      "source": [
        "%%time\n",
        "raw_file = Path(\"NCL1/NCL1_INSPVAA_original.dat\")\n",
        "raw_file_text = raw_file.read_text() # len = 853715702\n",
        "num_rows = 100000"
      ]
    },
    {
      "cell_type": "code",
      "execution_count": 3,
      "id": "bca5c306-e47c-464a-ab32-c4cf240cbdab",
      "metadata": {},
      "outputs": [
        {
          "name": "stdout",
          "output_type": "stream",
          "text": [
            "CPU times: total: 19.5 s\n",
            "Wall time: 23.1 s\n"
          ]
        }
      ],
      "source": [
        "%%time\n",
        "re_pattern = re.compile(r\"#INSPVAA,.*?,.*?,.*?,.*?,.*?,.*?,.*?;(.*?),(.*?),(.*?),(.*?),(.*?),(.*?),(.*?),(.*?),(.*?),(.*?),(.*?),(.*?)\\*+.*\\n\")\n",
        "all_groups = re_pattern.findall(raw_file_text)\n",
        "all_groups = all_groups[:num_rows]\n"
      ]
    },
    {
      "cell_type": "code",
      "execution_count": 4,
      "id": "92bf1396-0457-41b8-b360-29b95bd0b23e",
      "metadata": {},
      "outputs": [
        {
          "name": "stdout",
          "output_type": "stream",
          "text": [
            "100000\n",
            "[('2220', '400732.750000000', '45.30228109290', '-124.96596984774', '-28.3449', '-0.6858', '0.1014', '0.2413', '-3.550174056', '1.675694720', '225.485958675', 'INS_SOLUTION_GOOD'), ('2220', '400732.800000000', '45.30228080853', '-124.96596980582', '-28.3340', '-0.6380', '0.0788', '0.2734', '-3.540661065', '1.372732918', '225.573498898', 'INS_SOLUTION_GOOD'), ('2220', '400732.850000000', '45.30228054897', '-124.96596978011', '-28.3225', '-0.5833', '0.0534', '0.2926', '-3.183019898', '1.125801142', '225.649088263', 'INS_SOLUTION_GOOD'), ('2220', '400732.900000000', '45.30228030725', '-124.96596976192', '-28.3104', '-0.5440', '0.0405', '0.2950', '-2.585130504', '0.941245086', '225.704566396', 'INS_SOLUTION_GOOD'), ('2220', '400732.950000000', '45.30228008140', '-124.96596974837', '-28.2990', '-0.5122', '0.0346', '0.2801', '-1.819054504', '0.826606015', '225.732879767', 'INS_SOLUTION_GOOD'), ('2220', '400733.000000000', '45.30227986815', '-124.96596973566', '-28.2893', '-0.4850', '0.0341', '0.2472', '-0.973447368', '0.782243988', '225.728794479', 'INS_SOLUTION_GOOD'), ('2220', '400733.050000000', '45.30227965279', '-124.96596972252', '-28.2789', '-0.4740', '0.0438', '0.2121', '-0.150524791', '0.792945800', '225.691069983', 'INS_SOLUTION_GOOD'), ('2220', '400733.100000000', '45.30227943475', '-124.96596970405', '-28.2689', '-0.4702', '0.0576', '0.1735', '0.579114283', '0.848124645', '225.615377065', 'INS_SOLUTION_GOOD'), ('2220', '400733.150000000', '45.30227921575', '-124.96596967508', '-28.2608', '-0.4730', '0.0727', '0.1400', '1.156597387', '0.927888076', '225.499944691', 'INS_SOLUTION_GOOD'), ('2220', '400733.200000000', '45.30227899352', '-124.96596963727', '-28.2541', '-0.4780', '0.0881', '0.1050', '1.540463574', '1.016063314', '225.340780231', 'INS_SOLUTION_GOOD')]\n"
          ]
        }
      ],
      "source": [
        "print(f\"{len(all_groups)}\\n{all_groups[:10:]}\")"
      ]
    },
    {
      "cell_type": "code",
      "execution_count": 5,
      "id": "81caa932-0a3e-4ca8-a9e9-7d2ccd5b7802",
      "metadata": {},
      "outputs": [],
      "source": [
        "# %%time\n",
        "# re_pattern = re.compile(r\";(.*?),(.*?),(.*?),(.*?),(.*?),(.*?),(.*?),(.*?),(.*?),(.*?),(.*?),(.*?)\\*+.*\\n\")\n",
        "# all_groups = re_pattern.findall(raw_file_text)\n",
        "# print(len(all_groups), all_groups[:10])\n"
      ]
    },
    {
      "cell_type": "code",
      "execution_count": 6,
      "id": "c2518168-a60e-43be-826d-22ff2b46335c",
      "metadata": {},
      "outputs": [
        {
          "name": "stderr",
          "output_type": "stream",
          "text": [
            "C:\\Users\\madha\\AppData\\Local\\Temp\\ipykernel_26072\\2162656668.py:1: DeprecationWarning: \n",
            "Pyarrow will become a required dependency of pandas in the next major release of pandas (pandas 3.0),\n",
            "(to allow more performant data types, such as the Arrow string type, and better interoperability with other libraries)\n",
            "but was not found to be installed on your system.\n",
            "If this would cause problems for you,\n",
            "please provide us feedback at https://github.com/pandas-dev/pandas/issues/54466\n",
            "        \n",
            "  import pandas as pd\n"
          ]
        }
      ],
      "source": [
        "import pandas as pd\n",
        "import numpy as np"
      ]
    },
    {
      "cell_type": "code",
      "execution_count": 7,
      "id": "32771d13-5329-4d20-8bb5-bf33cc8b6ca7",
      "metadata": {},
      "outputs": [],
      "source": [
        "HEADER = [\n",
        "    \"Message\",\n",
        "    \"Port\",\n",
        "    \"Sequence #\",\n",
        "    \"% Idle Time\",\n",
        "    \"Time Status\",\n",
        "    \"Week\",\n",
        "    \"Seconds\",\n",
        "    \"Receiver Status\",\n",
        "    \"Reserved\",\n",
        "    \"Receiver S/W Version\",\n",
        "]\n",
        "\n",
        "DATA_ENUM = (\n",
        "    \"Week\",\n",
        "    \"Seconds\",\n",
        "    \"Latitude\",\n",
        "    \"Longitude #\",\n",
        "    \"Height\",\n",
        "    \"North Velocity\",\n",
        "    \"East Velocity\",\n",
        "    \"Up Velocity\",\n",
        "    \"Roll\",\n",
        "    \"Pitch\",\n",
        "    \"Azimuth\",\n",
        "    \"Status\",\n",
        ")\n",
        "DATA_ENUM_DTYPES = ('int', 'float', 'float', 'float', 'float', 'float', 'float','float', 'float', 'float', 'float', 'object')"
      ]
    },
    {
      "cell_type": "code",
      "execution_count": 8,
      "id": "568fe8ea-4311-4915-89d6-3a3d6d44d8f0",
      "metadata": {},
      "outputs": [
        {
          "data": {
            "text/plain": [
              "[('Week', 'int'),\n",
              " ('Seconds', 'float'),\n",
              " ('Latitude', 'float'),\n",
              " ('Longitude #', 'float'),\n",
              " ('Height', 'float'),\n",
              " ('North Velocity', 'float'),\n",
              " ('East Velocity', 'float'),\n",
              " ('Up Velocity', 'float'),\n",
              " ('Roll', 'float'),\n",
              " ('Pitch', 'float'),\n",
              " ('Azimuth', 'float'),\n",
              " ('Status', 'object')]"
            ]
          },
          "execution_count": 8,
          "metadata": {},
          "output_type": "execute_result"
        }
      ],
      "source": [
        "list(zip(DATA_ENUM, DATA_ENUM_DTYPES))"
      ]
    },
    {
      "cell_type": "code",
      "execution_count": 9,
      "id": "a3dcb232-6ebb-4c69-9936-dc54fdca5bd8",
      "metadata": {},
      "outputs": [
        {
          "name": "stdout",
          "output_type": "stream",
          "text": [
            "CPU times: total: 125 ms\n",
            "Wall time: 332 ms\n"
          ]
        }
      ],
      "source": [
        "%%time\n",
        "np_array = np.array(all_groups, dtype=list(zip(DATA_ENUM, DATA_ENUM_DTYPES)))\n",
        "# np_array"
      ]
    },
    {
      "cell_type": "code",
      "execution_count": 10,
      "id": "1d9e37db-b546-4f87-aabc-2f3b8608ae8c",
      "metadata": {},
      "outputs": [
        {
          "name": "stdout",
          "output_type": "stream",
          "text": [
            "CPU times: total: 15.6 ms\n",
            "Wall time: 29 ms\n"
          ]
        },
        {
          "data": {
            "text/html": [
              "<div>\n",
              "<style scoped>\n",
              "    .dataframe tbody tr th:only-of-type {\n",
              "        vertical-align: middle;\n",
              "    }\n",
              "\n",
              "    .dataframe tbody tr th {\n",
              "        vertical-align: top;\n",
              "    }\n",
              "\n",
              "    .dataframe thead th {\n",
              "        text-align: right;\n",
              "    }\n",
              "</style>\n",
              "<table border=\"1\" class=\"dataframe\">\n",
              "  <thead>\n",
              "    <tr style=\"text-align: right;\">\n",
              "      <th></th>\n",
              "      <th>Week</th>\n",
              "      <th>Seconds</th>\n",
              "      <th>Latitude</th>\n",
              "      <th>Longitude #</th>\n",
              "      <th>Height</th>\n",
              "      <th>North Velocity</th>\n",
              "      <th>East Velocity</th>\n",
              "      <th>Up Velocity</th>\n",
              "      <th>Roll</th>\n",
              "      <th>Pitch</th>\n",
              "      <th>Azimuth</th>\n",
              "      <th>Status</th>\n",
              "    </tr>\n",
              "  </thead>\n",
              "  <tbody>\n",
              "    <tr>\n",
              "      <th>0</th>\n",
              "      <td>2220</td>\n",
              "      <td>400732.75</td>\n",
              "      <td>45.302281</td>\n",
              "      <td>-124.965970</td>\n",
              "      <td>-28.3449</td>\n",
              "      <td>-0.6858</td>\n",
              "      <td>0.1014</td>\n",
              "      <td>0.2413</td>\n",
              "      <td>-3.550174</td>\n",
              "      <td>1.675695</td>\n",
              "      <td>225.485959</td>\n",
              "      <td>INS_SOLUTION_GOOD</td>\n",
              "    </tr>\n",
              "    <tr>\n",
              "      <th>1</th>\n",
              "      <td>2220</td>\n",
              "      <td>400732.80</td>\n",
              "      <td>45.302281</td>\n",
              "      <td>-124.965970</td>\n",
              "      <td>-28.3340</td>\n",
              "      <td>-0.6380</td>\n",
              "      <td>0.0788</td>\n",
              "      <td>0.2734</td>\n",
              "      <td>-3.540661</td>\n",
              "      <td>1.372733</td>\n",
              "      <td>225.573499</td>\n",
              "      <td>INS_SOLUTION_GOOD</td>\n",
              "    </tr>\n",
              "    <tr>\n",
              "      <th>2</th>\n",
              "      <td>2220</td>\n",
              "      <td>400732.85</td>\n",
              "      <td>45.302281</td>\n",
              "      <td>-124.965970</td>\n",
              "      <td>-28.3225</td>\n",
              "      <td>-0.5833</td>\n",
              "      <td>0.0534</td>\n",
              "      <td>0.2926</td>\n",
              "      <td>-3.183020</td>\n",
              "      <td>1.125801</td>\n",
              "      <td>225.649088</td>\n",
              "      <td>INS_SOLUTION_GOOD</td>\n",
              "    </tr>\n",
              "    <tr>\n",
              "      <th>3</th>\n",
              "      <td>2220</td>\n",
              "      <td>400732.90</td>\n",
              "      <td>45.302280</td>\n",
              "      <td>-124.965970</td>\n",
              "      <td>-28.3104</td>\n",
              "      <td>-0.5440</td>\n",
              "      <td>0.0405</td>\n",
              "      <td>0.2950</td>\n",
              "      <td>-2.585131</td>\n",
              "      <td>0.941245</td>\n",
              "      <td>225.704566</td>\n",
              "      <td>INS_SOLUTION_GOOD</td>\n",
              "    </tr>\n",
              "    <tr>\n",
              "      <th>4</th>\n",
              "      <td>2220</td>\n",
              "      <td>400732.95</td>\n",
              "      <td>45.302280</td>\n",
              "      <td>-124.965970</td>\n",
              "      <td>-28.2990</td>\n",
              "      <td>-0.5122</td>\n",
              "      <td>0.0346</td>\n",
              "      <td>0.2801</td>\n",
              "      <td>-1.819055</td>\n",
              "      <td>0.826606</td>\n",
              "      <td>225.732880</td>\n",
              "      <td>INS_SOLUTION_GOOD</td>\n",
              "    </tr>\n",
              "    <tr>\n",
              "      <th>...</th>\n",
              "      <td>...</td>\n",
              "      <td>...</td>\n",
              "      <td>...</td>\n",
              "      <td>...</td>\n",
              "      <td>...</td>\n",
              "      <td>...</td>\n",
              "      <td>...</td>\n",
              "      <td>...</td>\n",
              "      <td>...</td>\n",
              "      <td>...</td>\n",
              "      <td>...</td>\n",
              "      <td>...</td>\n",
              "    </tr>\n",
              "    <tr>\n",
              "      <th>99995</th>\n",
              "      <td>2220</td>\n",
              "      <td>405732.50</td>\n",
              "      <td>45.302377</td>\n",
              "      <td>-124.965207</td>\n",
              "      <td>-30.6922</td>\n",
              "      <td>0.6442</td>\n",
              "      <td>0.2210</td>\n",
              "      <td>0.5196</td>\n",
              "      <td>3.575584</td>\n",
              "      <td>-2.951333</td>\n",
              "      <td>8.888432</td>\n",
              "      <td>INS_SOLUTION_GOOD</td>\n",
              "    </tr>\n",
              "    <tr>\n",
              "      <th>99996</th>\n",
              "      <td>2220</td>\n",
              "      <td>405732.55</td>\n",
              "      <td>45.302377</td>\n",
              "      <td>-124.965206</td>\n",
              "      <td>-30.6728</td>\n",
              "      <td>0.6035</td>\n",
              "      <td>0.2478</td>\n",
              "      <td>0.4022</td>\n",
              "      <td>4.021954</td>\n",
              "      <td>-2.498504</td>\n",
              "      <td>9.150963</td>\n",
              "      <td>INS_SOLUTION_GOOD</td>\n",
              "    </tr>\n",
              "    <tr>\n",
              "      <th>99997</th>\n",
              "      <td>2220</td>\n",
              "      <td>405732.60</td>\n",
              "      <td>45.302377</td>\n",
              "      <td>-124.965206</td>\n",
              "      <td>-30.6584</td>\n",
              "      <td>0.5719</td>\n",
              "      <td>0.2664</td>\n",
              "      <td>0.3058</td>\n",
              "      <td>4.326765</td>\n",
              "      <td>-1.873248</td>\n",
              "      <td>9.389765</td>\n",
              "      <td>INS_SOLUTION_GOOD</td>\n",
              "    </tr>\n",
              "    <tr>\n",
              "      <th>99998</th>\n",
              "      <td>2220</td>\n",
              "      <td>405732.65</td>\n",
              "      <td>45.302378</td>\n",
              "      <td>-124.965206</td>\n",
              "      <td>-30.6480</td>\n",
              "      <td>0.5463</td>\n",
              "      <td>0.2824</td>\n",
              "      <td>0.2215</td>\n",
              "      <td>4.485340</td>\n",
              "      <td>-1.138065</td>\n",
              "      <td>9.587016</td>\n",
              "      <td>INS_SOLUTION_GOOD</td>\n",
              "    </tr>\n",
              "    <tr>\n",
              "      <th>99999</th>\n",
              "      <td>2220</td>\n",
              "      <td>405732.70</td>\n",
              "      <td>45.302378</td>\n",
              "      <td>-124.965206</td>\n",
              "      <td>-30.6397</td>\n",
              "      <td>0.5362</td>\n",
              "      <td>0.2898</td>\n",
              "      <td>0.1752</td>\n",
              "      <td>4.471706</td>\n",
              "      <td>-0.367135</td>\n",
              "      <td>9.732460</td>\n",
              "      <td>INS_SOLUTION_GOOD</td>\n",
              "    </tr>\n",
              "  </tbody>\n",
              "</table>\n",
              "<p>100000 rows \u00d7 12 columns</p>\n",
              "</div>"
            ],
            "text/plain": [
              "       Week    Seconds   Latitude  Longitude #   Height  North Velocity  \\\n",
              "0      2220  400732.75  45.302281  -124.965970 -28.3449         -0.6858   \n",
              "1      2220  400732.80  45.302281  -124.965970 -28.3340         -0.6380   \n",
              "2      2220  400732.85  45.302281  -124.965970 -28.3225         -0.5833   \n",
              "3      2220  400732.90  45.302280  -124.965970 -28.3104         -0.5440   \n",
              "4      2220  400732.95  45.302280  -124.965970 -28.2990         -0.5122   \n",
              "...     ...        ...        ...          ...      ...             ...   \n",
              "99995  2220  405732.50  45.302377  -124.965207 -30.6922          0.6442   \n",
              "99996  2220  405732.55  45.302377  -124.965206 -30.6728          0.6035   \n",
              "99997  2220  405732.60  45.302377  -124.965206 -30.6584          0.5719   \n",
              "99998  2220  405732.65  45.302378  -124.965206 -30.6480          0.5463   \n",
              "99999  2220  405732.70  45.302378  -124.965206 -30.6397          0.5362   \n",
              "\n",
              "       East Velocity  Up Velocity      Roll     Pitch     Azimuth  \\\n",
              "0             0.1014       0.2413 -3.550174  1.675695  225.485959   \n",
              "1             0.0788       0.2734 -3.540661  1.372733  225.573499   \n",
              "2             0.0534       0.2926 -3.183020  1.125801  225.649088   \n",
              "3             0.0405       0.2950 -2.585131  0.941245  225.704566   \n",
              "4             0.0346       0.2801 -1.819055  0.826606  225.732880   \n",
              "...              ...          ...       ...       ...         ...   \n",
              "99995         0.2210       0.5196  3.575584 -2.951333    8.888432   \n",
              "99996         0.2478       0.4022  4.021954 -2.498504    9.150963   \n",
              "99997         0.2664       0.3058  4.326765 -1.873248    9.389765   \n",
              "99998         0.2824       0.2215  4.485340 -1.138065    9.587016   \n",
              "99999         0.2898       0.1752  4.471706 -0.367135    9.732460   \n",
              "\n",
              "                  Status  \n",
              "0      INS_SOLUTION_GOOD  \n",
              "1      INS_SOLUTION_GOOD  \n",
              "2      INS_SOLUTION_GOOD  \n",
              "3      INS_SOLUTION_GOOD  \n",
              "4      INS_SOLUTION_GOOD  \n",
              "...                  ...  \n",
              "99995  INS_SOLUTION_GOOD  \n",
              "99996  INS_SOLUTION_GOOD  \n",
              "99997  INS_SOLUTION_GOOD  \n",
              "99998  INS_SOLUTION_GOOD  \n",
              "99999  INS_SOLUTION_GOOD  \n",
              "\n",
              "[100000 rows x 12 columns]"
            ]
          },
          "execution_count": 10,
          "metadata": {},
          "output_type": "execute_result"
        }
      ],
      "source": [
        "%%time\n",
        "df = pd.DataFrame(np_array)\n",
        "df"
      ]
    },
    {
      "cell_type": "code",
      "execution_count": 11,
      "id": "53aa8c83-1f82-4b60-a4cf-6e249caa0b05",
      "metadata": {},
      "outputs": [
        {
          "name": "stdout",
          "output_type": "stream",
          "text": [
            "CPU times: total: 46.9 ms\n",
            "Wall time: 129 ms\n"
          ]
        }
      ],
      "source": [
        "%%time\n",
        "df = pd.DataFrame(all_groups, columns=DATA_ENUM)"
      ]
    },
    {
      "cell_type": "code",
      "execution_count": 12,
      "id": "4000688a-a97b-4719-bcdc-a986fbdbce7b",
      "metadata": {},
      "outputs": [
        {
          "name": "stdout",
          "output_type": "stream",
          "text": [
            "CPU times: total: 31.2 ms\n",
            "Wall time: 82.3 ms\n"
          ]
        }
      ],
      "source": [
        "%%time\n",
        "float_cols = [\"Seconds\", \"Latitude\", \"Longitude #\"]\n",
        "for col in float_cols:\n",
        "    df[col] = df[col].astype('float')\n",
        "\n",
        "# df[float_cols] = df[float_cols].apply(pd.to_numeric)"
      ]
    },
    {
      "cell_type": "code",
      "execution_count": 13,
      "id": "8dcb0ca0-6de7-41e3-b817-2986b99fec5b",
      "metadata": {},
      "outputs": [],
      "source": [
        "# for idx, ele in enumerate(all_groups):\n",
        "#     if '1810bc04' in ele:\n",
        "#         print(idx, ele)"
      ]
    },
    {
      "cell_type": "code",
      "execution_count": null,
      "id": "7caa4ffc-3fae-40c5-9def-8c98b18bcce6",
      "metadata": {},
      "outputs": [],
      "source": []
    },
    {
      "cell_type": "code",
      "execution_count": 14,
      "id": "f5079c25-76fc-4550-b170-8ee6aca0f191",
      "metadata": {},
      "outputs": [],
      "source": [
        "from gnatss.utilities.time import gpsws_to_time"
      ]
    },
    {
      "cell_type": "code",
      "execution_count": 15,
      "id": "6d531f20-9e54-43e1-bc0b-d989a89399b3",
      "metadata": {},
      "outputs": [
        {
          "name": "stdout",
          "output_type": "stream",
          "text": [
            "CPU times: total: 1min 5s\n",
            "Wall time: 1min 10s\n"
          ]
        }
      ],
      "source": [
        "%%time\n",
        "df['timestamp1'] = list(map(gpsws_to_time, df[\"Week\"], df[\"Seconds\"]))"
      ]
    },
    {
      "cell_type": "code",
      "execution_count": 16,
      "id": "76db9669-8b86-47b3-b449-8b8ac8a3727a",
      "metadata": {},
      "outputs": [
        {
          "name": "stdout",
          "output_type": "stream",
          "text": [
            "CPU times: total: 1min 6s\n",
            "Wall time: 1min 10s\n"
          ]
        }
      ],
      "source": [
        "%%time\n",
        "df['timestamp2'] = df.apply(lambda x: gpsws_to_time(week = x[\"Week\"], seconds=x[\"Seconds\"]), axis=1)"
      ]
    },
    {
      "cell_type": "code",
      "execution_count": 17,
      "id": "3df8ae45-950a-437f-9199-7fae2664d2fe",
      "metadata": {},
      "outputs": [],
      "source": [
        "from astropy import units as u\n",
        "from astropy.time import Time as AstroTime  # noqa\n",
        "from astropy.time import TimeDelta\n",
        "from functools import lru_cache\n",
        "\n",
        "# a = u.wk\n",
        "# a = (u.wk).to(u.d)\n",
        "# print(f\"{a=} {type(a)=}\")\n",
        "# a = 10*a\n",
        "# print(f\"{a=} {type(a)=}\")"
      ]
    },
    {
      "cell_type": "code",
      "execution_count": 18,
      "id": "4bd8ede0-82fa-4dc8-8396-8196f89f051e",
      "metadata": {},
      "outputs": [
        {
          "name": "stdout",
          "output_type": "stream",
          "text": [
            "CPU times: total: 41.9 s\n",
            "Wall time: 44.2 s\n"
          ]
        }
      ],
      "source": [
        "%%time\n",
        "def week_seconds_to_timestamp(week: np.ndarray, seconds: np.ndarray):\n",
        "    # return AstroTime(AstroTime(0, format=\"gps\", scale=\"tai\") + TimeDelta((week * u.wk).to(u.d), format=\"jd\", scale=\"tai\").strftime(\"%Y-%m-%d\"), format=\"iso\", scale=\"tt\") + TimeDelta(seconds, format=\"sec\")\n",
        "    week_shape = week.shape\n",
        "    gps_epoch = AstroTime(0, format=\"gps\", scale=\"tai\")\n",
        "\n",
        "    astropy_days_in_week = (u.wk).to(u.d)\n",
        "\n",
        "    \n",
        "    num_weeks = week * np.full(week.shape, astropy_days_in_week)\n",
        "\n",
        "\n",
        "    def calc_week_timedelta(x):\n",
        "        return TimeDelta(x, format=\"jd\", scale=\"tai\")\n",
        "\n",
        "    week_time = np.vectorize(calc_week_timedelta, cache=True)(num_weeks) + np.full(week.shape, gps_epoch)\n",
        "\n",
        "\n",
        "    def calc_week_start(x):\n",
        "        return AstroTime(x.strftime(\"%Y-%m-%d\"), format=\"iso\", scale=\"tt\")\n",
        "        \n",
        "    week_start = np.vectorize(calc_week_start, cache=True)(week_time)\n",
        "\n",
        "\n",
        "    def calc_sec_timedelta(x):\n",
        "        return TimeDelta(x, format=\"sec\")\n",
        "\n",
        "    sec_timedelta = np.vectorize(calc_sec_timedelta, cache=True)(seconds)\n",
        "\n",
        "\n",
        "    final_time = week_start + sec_timedelta\n",
        "\n",
        "\n",
        "    return final_time\n",
        "\n",
        "\n",
        "    # return final_time\n",
        "\n",
        "df['timestamp3'] = week_seconds_to_timestamp(np_array[\"Week\"], np_array[\"Seconds\"])"
      ]
    },
    {
      "cell_type": "code",
      "execution_count": 21,
      "id": "19d02e63-0e50-4e0b-ac34-f30aa14a837a",
      "metadata": {},
      "outputs": [
        {
          "name": "stdout",
          "output_type": "stream",
          "text": [
            "CPU times: total: 19.8 s\n",
            "Wall time: 20.9 s\n"
          ]
        }
      ],
      "source": [
        "%%time\n",
        "def week_seconds_to_timestamp(week: np.ndarray, seconds: np.ndarray):\n",
        "    # return AstroTime(AstroTime(0, format=\"gps\", scale=\"tai\") + TimeDelta((week * u.wk).to(u.d), format=\"jd\", scale=\"tai\").strftime(\"%Y-%m-%d\"), format=\"iso\", scale=\"tt\") + TimeDelta(seconds, format=\"sec\")\n",
        "    week_shape = week.shape\n",
        "    gps_epoch = AstroTime(0, format=\"gps\", scale=\"tai\")\n",
        "\n",
        "    astropy_days_in_week = (u.wk).to(u.d)\n",
        "\n",
        "    \n",
        "    num_weeks = week * np.full(week.shape, astropy_days_in_week)\n",
        "\n",
        "\n",
        "    @lru_cache(maxsize=8096)\n",
        "    def calc_week_timedelta(x):\n",
        "        return TimeDelta(x, format=\"jd\", scale=\"tai\")\n",
        "\n",
        "    week_time = np.vectorize(calc_week_timedelta, cache=True)(num_weeks) + np.full(week.shape, gps_epoch)\n",
        "\n",
        "\n",
        "    @lru_cache(maxsize=8096)\n",
        "    def calc_week_start(x):\n",
        "        return AstroTime(x.strftime(\"%Y-%m-%d\"), format=\"iso\", scale=\"tt\")\n",
        "        \n",
        "    week_start = np.vectorize(calc_week_start, cache=True)(week_time)\n",
        "\n",
        "\n",
        "    @lru_cache(maxsize=8096)\n",
        "    def calc_sec_timedelta(x):\n",
        "        return TimeDelta(x, format=\"sec\")\n",
        "\n",
        "    sec_timedelta = np.vectorize(calc_sec_timedelta, cache=True)(seconds)\n",
        "\n",
        "\n",
        "    final_time = week_start + sec_timedelta\n",
        "\n",
        "\n",
        "    return final_time\n",
        "\n",
        "\n",
        "    # return final_time\n",
        "\n",
        "df['timestamp4'] = week_seconds_to_timestamp(np_array[\"Week\"], np_array[\"Seconds\"])"
      ]
    },
    {
      "cell_type": "code",
      "execution_count": null,
      "id": "152d0406-b050-483f-99b3-89d63975d422",
      "metadata": {},
      "outputs": [],
      "source": []
    }
  ],
  "metadata": {
    "kernelspec": {
      "display_name": "Python 3 (ipykernel)",
      "language": "python",
      "name": "python3"
    },
    "language_info": {
      "codemirror_mode": {
        "name": "ipython",
        "version": 3
      },
      "file_extension": ".py",
      "mimetype": "text/x-python",
      "name": "python",
      "nbconvert_exporter": "python",
      "pygments_lexer": "ipython3",
      "version": "3.9.18"
    }
  },
  "nbformat": 4,
  "nbformat_minor": 5
}
