{
  "cells": [
    {
      "cell_type": "markdown",
      "id": "b9935426-565d-4c79-94ae-5586ead4ca72",
      "metadata": {},
      "source": []
    },
    {
      "cell_type": "code",
      "execution_count": 1,
      "id": "2abd04d2-61ef-4c94-a24f-04cb39c10de2",
      "metadata": {
        "ExecuteTime": {
          "end_time": "2024-03-25T01:56:38.343393Z",
          "start_time": "2024-03-25T01:56:37.679377Z"
        }
      },
      "outputs": [],
      "source": [
        "import re\n",
        "from pathlib import Path\n",
        "import time\n",
        "import pandas as pd\n",
        "import numpy as np\n",
        "from astropy import units as u\n",
        "from astropy.time import Time as AstroTime  # noqa\n",
        "from astropy.time import TimeDelta\n",
        "from functools import lru_cache"
      ]
    },
    {
      "cell_type": "code",
      "execution_count": null,
      "id": "ad7f39ba-6bee-40da-a086-8b8b4a18c2e8",
      "metadata": {},
      "outputs": [],
      "source": [
        "%%time\n",
        "raw_file = Path(\"NCL1/NCL1_INSPVAA_original.dat\")\n",
        "raw_file_text = raw_file.read_text() # len = 853715702\n"
      ]
    },
    {
      "cell_type": "code",
      "execution_count": null,
      "id": "7cb8117d-51fc-4ae0-842f-33f6d48595ae",
      "metadata": {},
      "outputs": [],
      "source": [
        "# %%time\n",
        "# re_pattern = re.compile(r\"#INSPVAA,.*?,.*?,.*?,.*?,.*?,.*?,.*?;(.*?),(.*?),(.*?),(.*?),(.*?),(.*?),(.*?),(.*?),(.*?),(.*?),(.*?),(.*?)\\*+.*\\n\")\n",
        "# all_groups = re_pattern.findall(raw_file_text)"
      ]
    },
    {
      "cell_type": "code",
      "execution_count": null,
      "id": "53a7066f-ff67-437f-8ecb-626e78f5f84f",
      "metadata": {},
      "outputs": [],
      "source": [
        "# num_rows = 100000\n",
        "# all_groups = all_groups[:num_rows]"
      ]
    },
    {
      "cell_type": "code",
      "execution_count": null,
      "id": "92bf1396-0457-41b8-b360-29b95bd0b23e",
      "metadata": {},
      "outputs": [],
      "source": [
        "# print(f\"{len(all_groups)}\\n{all_groups[:10:]}\")"
      ]
    },
    {
      "cell_type": "code",
      "execution_count": null,
      "id": "81caa932-0a3e-4ca8-a9e9-7d2ccd5b7802",
      "metadata": {},
      "outputs": [],
      "source": [
        "# %%time\n",
        "# re_pattern = re.compile(r\";(.*?),(.*?),(.*?),(.*?),(.*?),(.*?),(.*?),(.*?),(.*?),(.*?),(.*?),(.*?)\\*+.*\\n\")\n",
        "# all_groups = re_pattern.findall(raw_file_text)\n",
        "# print(len(all_groups), all_groups[:10])\n"
      ]
    },
    {
      "cell_type": "code",
      "execution_count": null,
      "id": "32771d13-5329-4d20-8bb5-bf33cc8b6ca7",
      "metadata": {},
      "outputs": [],
      "source": [
        "HEADER = [\n",
        "    \"Message\",\n",
        "    \"Port\",\n",
        "    \"Sequence #\",\n",
        "    \"% Idle Time\",\n",
        "    \"Time Status\",\n",
        "    \"Week\",\n",
        "    \"Seconds\",\n",
        "    \"Receiver Status\",\n",
        "    \"Reserved\",\n",
        "    \"Receiver S/W Version\",\n",
        "]\n",
        "\n",
        "DATA_ENUM = (\n",
        "    \"Week\",\n",
        "    \"Seconds\",\n",
        "    \"Latitude\",\n",
        "    \"Longitude #\",\n",
        "    \"Height\",\n",
        "    \"North Velocity\",\n",
        "    \"East Velocity\",\n",
        "    \"Up Velocity\",\n",
        "    \"Roll\",\n",
        "    \"Pitch\",\n",
        "    \"Azimuth\",\n",
        "    \"Status\",\n",
        ")\n",
        "DATA_ENUM_DTYPES = ('int', 'float', 'float', 'float', 'float', 'float', 'float','float', 'float', 'float', 'float', 'object')"
      ]
    },
    {
      "cell_type": "code",
      "execution_count": null,
      "id": "568fe8ea-4311-4915-89d6-3a3d6d44d8f0",
      "metadata": {},
      "outputs": [],
      "source": [
        "# list(zip(DATA_ENUM, DATA_ENUM_DTYPES))"
      ]
    },
    {
      "cell_type": "code",
      "execution_count": null,
      "id": "a3dcb232-6ebb-4c69-9936-dc54fdca5bd8",
      "metadata": {},
      "outputs": [],
      "source": [
        "%%time\n",
        "np_array = np.array(all_groups, dtype=list(zip(DATA_ENUM, DATA_ENUM_DTYPES)))\n",
        "# np_array"
      ]
    },
    {
      "cell_type": "code",
      "execution_count": null,
      "id": "1d9e37db-b546-4f87-aabc-2f3b8608ae8c",
      "metadata": {},
      "outputs": [],
      "source": [
        "# %%time\n",
        "# df = pd.DataFrame(np_array)\n",
        "# df"
      ]
    },
    {
      "cell_type": "code",
      "execution_count": null,
      "id": "53aa8c83-1f82-4b60-a4cf-6e249caa0b05",
      "metadata": {},
      "outputs": [],
      "source": [
        "# %%time\n",
        "# df = pd.DataFrame(all_groups, columns=DATA_ENUM)"
      ]
    },
    {
      "cell_type": "code",
      "execution_count": null,
      "id": "f5079c25-76fc-4550-b170-8ee6aca0f191",
      "metadata": {},
      "outputs": [],
      "source": [
        "# from gnatss.utilities.time import gpsws_to_time"
      ]
    },
    {
      "cell_type": "code",
      "execution_count": null,
      "id": "6d531f20-9e54-43e1-bc0b-d989a89399b3",
      "metadata": {},
      "outputs": [],
      "source": [
        "# %%time\n",
        "# df['timestamp1'] = list(map(gpsws_to_time, df[\"Week\"], df[\"Seconds\"]))"
      ]
    },
    {
      "cell_type": "code",
      "execution_count": null,
      "id": "76db9669-8b86-47b3-b449-8b8ac8a3727a",
      "metadata": {},
      "outputs": [],
      "source": [
        "# %%time\n",
        "# df['timestamp2'] = df.apply(lambda x: gpsws_to_time(week = x[\"Week\"], seconds=x[\"Seconds\"]), axis=1)"
      ]
    },
    {
      "cell_type": "code",
      "execution_count": null,
      "id": "3df8ae45-950a-437f-9199-7fae2664d2fe",
      "metadata": {},
      "outputs": [],
      "source": [
        "# a = u.wk\n",
        "# a = (u.wk).to(u.d)\n",
        "# print(f\"{a=} {type(a)=}\")\n",
        "# a = 10*a\n",
        "# print(f\"{a=} {type(a)=}\")"
      ]
    },
    {
      "cell_type": "code",
      "execution_count": null,
      "id": "4bd8ede0-82fa-4dc8-8396-8196f89f051e",
      "metadata": {},
      "outputs": [],
      "source": [
        "# %%time\n",
        "# def week_seconds_to_timestamp(week: np.ndarray, seconds: np.ndarray):\n",
        "#     # return AstroTime(AstroTime(0, format=\"gps\", scale=\"tai\") + TimeDelta((week * u.wk).to(u.d), format=\"jd\", scale=\"tai\").strftime(\"%Y-%m-%d\"), format=\"iso\", scale=\"tt\") + TimeDelta(seconds, format=\"sec\")\n",
        "#     week_shape = week.shape\n",
        "#     gps_epoch = AstroTime(0, format=\"gps\", scale=\"tai\")\n",
        "\n",
        "#     astropy_days_in_week = (u.wk).to(u.d)\n",
        "\n",
        "    \n",
        "#     num_weeks = week * np.full(week.shape, astropy_days_in_week)\n",
        "\n",
        "\n",
        "#     def calc_week_timedelta(x):\n",
        "#         return TimeDelta(x, format=\"jd\", scale=\"tai\")\n",
        "\n",
        "#     week_time = np.vectorize(calc_week_timedelta, cache=True)(num_weeks) + np.full(week.shape, gps_epoch)\n",
        "\n",
        "\n",
        "#     def calc_week_start(x):\n",
        "#         return AstroTime(x.strftime(\"%Y-%m-%d\"), format=\"iso\", scale=\"tt\")\n",
        "        \n",
        "#     week_start = np.vectorize(calc_week_start, cache=True)(week_time)\n",
        "\n",
        "\n",
        "#     def calc_sec_timedelta(x):\n",
        "#         return TimeDelta(x, format=\"sec\")\n",
        "\n",
        "#     sec_timedelta = np.vectorize(calc_sec_timedelta, cache=True)(seconds)\n",
        "\n",
        "\n",
        "#     final_time = week_start + sec_timedelta\n",
        "\n",
        "\n",
        "#     return final_time\n",
        "\n",
        "\n",
        "#     # return final_time\n",
        "\n",
        "# df['timestamp3'] = week_seconds_to_timestamp(np_array[\"Week\"], np_array[\"Seconds\"])"
      ]
    },
    {
      "cell_type": "code",
      "execution_count": null,
      "id": "19d02e63-0e50-4e0b-ac34-f30aa14a837a",
      "metadata": {},
      "outputs": [],
      "source": [
        "# %%time\n",
        "# def week_seconds_to_timestamp(week: np.ndarray, seconds: np.ndarray):\n",
        "#     # return AstroTime(AstroTime(0, format=\"gps\", scale=\"tai\") + TimeDelta((week * u.wk).to(u.d), format=\"jd\", scale=\"tai\").strftime(\"%Y-%m-%d\"), format=\"iso\", scale=\"tt\") + TimeDelta(seconds, format=\"sec\")\n",
        "#     week_shape = week.shape\n",
        "#     gps_epoch = AstroTime(0, format=\"gps\", scale=\"tai\")\n",
        "\n",
        "#     astropy_days_in_week = (u.wk).to(u.d)\n",
        "\n",
        "    \n",
        "#     num_weeks = week * np.full(week.shape, astropy_days_in_week)\n",
        "\n",
        "\n",
        "#     @lru_cache(maxsize=8096)\n",
        "#     def calc_week_timedelta(x):\n",
        "#         return TimeDelta(x, format=\"jd\", scale=\"tai\")\n",
        "\n",
        "#     week_time = np.vectorize(calc_week_timedelta)(num_weeks) + np.full(week.shape, gps_epoch)\n",
        "\n",
        "\n",
        "#     @lru_cache(maxsize=8096)\n",
        "#     def calc_week_start(x):\n",
        "#         return AstroTime(x.strftime(\"%Y-%m-%d\"), format=\"iso\", scale=\"tt\")\n",
        "        \n",
        "#     week_start = np.vectorize(calc_week_start)(week_time)\n",
        "\n",
        "\n",
        "#     @lru_cache(maxsize=8096)\n",
        "#     def calc_sec_timedelta(x):\n",
        "#         return TimeDelta(x, format=\"sec\")\n",
        "\n",
        "#     sec_timedelta = np.vectorize(calc_sec_timedelta)(seconds)\n",
        "\n",
        "\n",
        "#     final_time = week_start + sec_timedelta\n",
        "\n",
        "\n",
        "#     return final_time\n",
        "\n",
        "\n",
        "#     # return final_time\n",
        "\n",
        "# df['timestamp4'] = week_seconds_to_timestamp(np_array[\"Week\"], np_array[\"Seconds\"])"
      ]
    },
    {
      "cell_type": "code",
      "execution_count": null,
      "id": "152d0406-b050-483f-99b3-89d63975d422",
      "metadata": {},
      "outputs": [],
      "source": [
        "# %%time\n",
        "# week = np_array[\"Week\"]\n",
        "# seconds = np_array[\"Seconds\"]\n",
        "# unique_week, unique_index, index_vals = np.unique(week, return_inverse=True, return_index=True)\n",
        "# unique_week"
      ]
    },
    {
      "cell_type": "code",
      "execution_count": null,
      "id": "d9812079-be0b-42a4-a3e9-c364a8f5f13e",
      "metadata": {},
      "outputs": [],
      "source": [
        "# %%time\n",
        "# gps_epoch = AstroTime(0, format=\"gps\", scale=\"tai\")\n",
        "# num_days = (week * u.wk).to(u.d)\n",
        "\n",
        "# week_time = gps_epoch + TimeDelta(num_days, format=\"jd\", scale=\"tai\")\n",
        "# week_time"
      ]
    },
    {
      "cell_type": "code",
      "execution_count": null,
      "id": "66d0bc3f-aa9a-42ba-8b79-e606f6612b25",
      "metadata": {},
      "outputs": [],
      "source": [
        "# %%time\n",
        "# week_start = AstroTime(week_time.strftime(\"%Y-%m-%d\"), format=\"iso\", scale=\"tt\")\n",
        "# week_start"
      ]
    },
    {
      "cell_type": "code",
      "execution_count": null,
      "id": "ad4af9c0-b5fd-42c3-a268-be939278cb24",
      "metadata": {},
      "outputs": [],
      "source": [
        "# %%time\n",
        "# final_time = week_start + TimeDelta(seconds, format=\"sec\")\n",
        "# final_time"
      ]
    },
    {
      "cell_type": "code",
      "execution_count": null,
      "id": "f620fea5-a514-4939-be52-2a7914efd20e",
      "metadata": {},
      "outputs": [],
      "source": [
        "# np.array_equal(final_time, df['timestamp1'].values)"
      ]
    },
    {
      "cell_type": "code",
      "execution_count": null,
      "id": "856dce86-d3e9-492a-b3e9-b1d020ae1119",
      "metadata": {},
      "outputs": [],
      "source": [
        "# %%time\n",
        "# def week_seconds_to_timestamp(week: np.ndarray, seconds: np.ndarray):\n",
        "#     # return AstroTime(AstroTime(0, format=\"gps\", scale=\"tai\") + TimeDelta((week * u.wk).to(u.d), format=\"jd\", scale=\"tai\").strftime(\"%Y-%m-%d\"), format=\"iso\", scale=\"tt\") + TimeDelta(seconds, format=\"sec\")\n",
        "#     gps_epoch = AstroTime(0, format=\"gps\", scale=\"tai\")\n",
        "#     # Convert week to days\n",
        "#     num_days = (week * u.wk).to(u.d)\n",
        "#     # Add days to time 0, includes leap seconds\n",
        "#     week_time = gps_epoch + TimeDelta(num_days, format=\"jd\", scale=\"tai\")\n",
        "#     # Get the week start time exactly at midnight, doesn't include leap seconds, TT scale\n",
        "#     week_start = AstroTime(week_time.strftime(\"%Y-%m-%d\"), format=\"iso\", scale=\"tt\")\n",
        "#     # Add seconds to beginning of week\n",
        "#     final_time = week_start + TimeDelta(seconds, format=\"sec\")\n",
        "#     return final_time\n",
        "\n",
        "# timestamps = week_seconds_to_timestamp(np_array[\"Week\"], np_array[\"Seconds\"])"
      ]
    },
    {
      "cell_type": "code",
      "execution_count": null,
      "id": "82bdd15c-0bad-48eb-a9c2-976b23d9b6f3",
      "metadata": {},
      "outputs": [],
      "source": [
        "# %%time\n",
        "\n",
        "# def week_seconds_to_timestamp(week: np.ndarray, seconds: np.ndarray):\n",
        "#     # return AstroTime(AstroTime(0, format=\"gps\", scale=\"tai\") + TimeDelta((week * u.wk).to(u.d), format=\"jd\", scale=\"tai\").strftime(\"%Y-%m-%d\"), format=\"iso\", scale=\"tt\") + TimeDelta(seconds, format=\"sec\")\n",
        "#     gps_epoch = AstroTime(0, format=\"gps\", scale=\"tai\")\n",
        "#     # Convert week to days\n",
        "#     num_days = (week * u.wk).to(u.d)\n",
        "#     # Add days to time 0, includes leap seconds\n",
        "#     week_time = gps_epoch + TimeDelta(num_days, format=\"jd\", scale=\"tai\")\n",
        "#     # Get the week start time exactly at midnight, doesn't include leap seconds, TT scale\n",
        "#     week_start = AstroTime(week_time.strftime(\"%Y-%m-%d\"), format=\"iso\", scale=\"tt\")\n",
        "#     # Add seconds to beginning of week\n",
        "#     final_time = week_start + TimeDelta(seconds, format=\"sec\")\n",
        "#     return final_time\n",
        "\n",
        "# timestamps = week_seconds_to_timestamp(np_array[\"Week\"], np_array[\"Seconds\"])\n",
        "# timestamps"
      ]
    },
    {
      "cell_type": "code",
      "execution_count": null,
      "id": "a72fa28b-583b-41bc-b8b9-b81687a27b88",
      "metadata": {},
      "outputs": [],
      "source": [
        "from gnatss.utilities.time import AstroTime"
      ]
    },
    {
      "cell_type": "code",
      "execution_count": null,
      "id": "734447d6-d3da-487b-b1f5-cdc7856517bf",
      "metadata": {},
      "outputs": [],
      "source": [
        "%%time\n",
        "\n",
        "def week_to_timestamp(week: np.ndarray, seconds: np.ndarray):\n",
        "    # return AstroTime(AstroTime(0, format=\"gps\", scale=\"tai\") + TimeDelta((week * u.wk).to(u.d), format=\"jd\", scale=\"tai\").strftime(\"%Y-%m-%d\"), format=\"iso\", scale=\"tt\") + TimeDelta(seconds, format=\"sec\")\n",
        "    unique, unique_index = np.unique(week, return_inverse=True)\n",
        "    gps_epoch = AstroTime(0, format=\"gps\", scale=\"tai\")\n",
        "    # Convert week to days\n",
        "    num_days = (unique * u.wk).to(u.d)\n",
        "    # Add days to time 0, includes leap seconds\n",
        "    week_time = gps_epoch + TimeDelta(num_days, format=\"jd\", scale=\"tai\")\n",
        "    # Get the week start time exactly at midnight, doesn't include leap seconds, TT scale\n",
        "    week_start = AstroTime(week_time.strftime(\"%Y-%m-%d\"), format=\"iso\", scale=\"tt\")\n",
        "    # Add seconds to beginning of week\n",
        "    final_time = week_start[unique_index]  + TimeDelta(seconds, format=\"sec\")\n",
        "    final_time_j2000 = final_time.unix_j2000\n",
        "    print(f\"{type(final_time_j2000[1])=}\")\n",
        "    \n",
        "    return final_time_j2000\n",
        "\n",
        "final_time_vals = week_to_timestamp(np_array[\"Week\"], np_array[\"Seconds\"])\n",
        "final_time_vals.shape"
      ]
    },
    {
      "cell_type": "code",
      "execution_count": null,
      "id": "1b92855c-fdef-4fca-8616-d1892520db4e",
      "metadata": {},
      "outputs": [],
      "source": [
        "final_time_vals"
      ]
    },
    {
      "cell_type": "code",
      "execution_count": null,
      "id": "b8f57168-c2eb-41ca-a027-13b1cb69b6b5",
      "metadata": {},
      "outputs": [],
      "source": [
        "final_time_vals.shape"
      ]
    },
    {
      "cell_type": "code",
      "execution_count": null,
      "id": "049257ee-527d-476f-a28d-4de2a8926454",
      "metadata": {},
      "outputs": [],
      "source": [
        "np.unique(final_time_vals).shape"
      ]
    },
    {
      "cell_type": "code",
      "execution_count": null,
      "id": "7b532806-5b33-40d6-a157-0a7fc2a84365",
      "metadata": {},
      "outputs": [],
      "source": [
        "%%time\n",
        "df = pd.DataFrame(np_array)"
      ]
    },
    {
      "cell_type": "code",
      "execution_count": null,
      "id": "d40cdbc7-15e5-46b6-aa7b-636b12612ffa",
      "metadata": {},
      "outputs": [],
      "source": [
        "df[\"Timestamp\"] = pd.Series(final_time_vals)\n",
        "df"
      ]
    },
    {
      "cell_type": "code",
      "execution_count": null,
      "id": "db357466-0dd2-4ecd-924c-145a78544934",
      "metadata": {},
      "outputs": [],
      "source": [
        "%%time\n",
        "# \"\u2018quicksort\u2019, \u2018mergesort\u2019, \u2018heapsort\u2019, \u2018stable\u2019\"\n",
        "df.sort_values(by=[\"Timestamp\"], kind=\"quicksort\")"
      ]
    },
    {
      "cell_type": "code",
      "execution_count": null,
      "id": "e2243e20-749a-4692-bce2-14209231f5ff",
      "metadata": {},
      "outputs": [],
      "source": [
        "%%time\n",
        "\n",
        "df.sort_values(by=[\"Timestamp\"], kind=\"mergesort\")"
      ]
    },
    {
      "cell_type": "code",
      "execution_count": null,
      "id": "d5951f27-d996-41a1-9892-9b52c6e8f58a",
      "metadata": {},
      "outputs": [],
      "source": [
        "%%time\n",
        "\n",
        "df.sort_values(by=[\"Timestamp\"], kind=\"heapsort\")"
      ]
    },
    {
      "cell_type": "code",
      "execution_count": null,
      "id": "270328eb-7774-4af5-9e2a-6b2c502bc284",
      "metadata": {},
      "outputs": [],
      "source": [
        "%%time\n",
        "\n",
        "df.sort_values(by=[\"Timestamp\"], kind=\"stable\")"
      ]
    },
    {
      "cell_type": "code",
      "execution_count": 2,
      "id": "d6d5ea02-1e32-4854-a0b2-e46740428d64",
      "metadata": {
        "ExecuteTime": {
          "end_time": "2024-03-25T04:46:12.941692Z",
          "start_time": "2024-03-25T04:46:12.785710Z"
        }
      },
      "outputs": [
        {
          "ename": "ModuleNotFoundError",
          "evalue": "No module named 'gnatss.loaders'",
          "output_type": "error",
          "traceback": [
            "\u001b[0;31m---------------------------------------------------------------------------\u001b[0m",
            "\u001b[0;31mModuleNotFoundError\u001b[0m                       Traceback (most recent call last)",
            "Cell \u001b[0;32mIn[2], line 1\u001b[0m\n\u001b[0;32m----> 1\u001b[0m \u001b[38;5;28;01mfrom\u001b[39;00m \u001b[38;5;21;01mgnatss\u001b[39;00m\u001b[38;5;21;01m.\u001b[39;00m\u001b[38;5;21;01mloaders\u001b[39;00m \u001b[38;5;28;01mimport\u001b[39;00m (\n\u001b[1;32m      2\u001b[0m     get_atd_offsets,\n\u001b[1;32m      3\u001b[0m     load_deletions,\n\u001b[1;32m      4\u001b[0m     load_gps_solutions,\n\u001b[1;32m      5\u001b[0m     load_quality_control,\n\u001b[1;32m      6\u001b[0m     load_roll_pitch_heading,\n\u001b[1;32m      7\u001b[0m     load_sound_speed,\n\u001b[1;32m      8\u001b[0m     load_travel_times,\n\u001b[1;32m      9\u001b[0m )\n",
            "\u001b[0;31mModuleNotFoundError\u001b[0m: No module named 'gnatss.loaders'"
          ]
        }
      ],
      "source": [
        "from gnatss.loaders import (\n",
        "    get_atd_offsets,\n",
        "    load_deletions,\n",
        "    load_gps_solutions,\n",
        "    load_quality_control,\n",
        "    load_roll_pitch_heading,\n",
        "    load_sound_speed,\n",
        "    load_travel_times,\n",
        ")\n"
      ]
    },
    {
      "cell_type": "code",
      "execution_count": null,
      "id": "b4b30ca9-c35e-4426-bfdf-6f45a148ae07",
      "metadata": {},
      "outputs": [],
      "source": [
        "\"\"\"\n",
        "files=['tests/data/2022/NCL1/208/WG_20220727/pxp_tt', 'tests/data/2022/NCL1/209/WG_20220728/pxp_tt', 'tests/data/2022/NCL1/210/WG_20220729/pxp_tt'] transponder_ids=['NCL1-1', 'NCL1-2', 'NCL1-3'] is_j2k=False time_scale='tt'\n",
        "L\n",
        "\"\"\"\n",
        "files=['tests/data/2022/NCL1/208/WG_20220727/pxp_tt', 'tests/data/2022/NCL1/209/WG_20220728/pxp_tt', 'tests/data/2022/NCL1/210/WG_20220729/pxp_tt'] \n",
        "transponder_ids=['NCL1-1', 'NCL1-2', 'NCL1-3'] \n",
        "is_j2k=False \n",
        "time_scale='tt'\n",
        "\n",
        "pxp_tt = load_travel_times(files, transponder_ids, is_j2k, time_scale)\n",
        "pxp_tt"
      ]
    },
    {
      "cell_type": "code",
      "execution_count": null,
      "id": "107d11e9-2dd7-41bb-9056-bb7ea226beb7",
      "metadata": {},
      "outputs": [],
      "source": [
        "\n",
        "pxp_tt_merge_df = pxp_tt.merge(df, how=\"inner\", left_on=\"time\", right_on=\"Timestamp\")\n",
        "pxp_tt_merge_df"
      ]
    },
    {
      "cell_type": "code",
      "execution_count": null,
      "id": "8f3f80ec-1988-4c1c-97fd-2d5106f05461",
      "metadata": {},
      "outputs": [],
      "source": [
        "pxp"
      ]
    }
  ],
  "metadata": {
    "kernelspec": {
      "display_name": "Python 3 (ipykernel)",
      "language": "python",
      "name": "python3"
    },
    "language_info": {
      "codemirror_mode": {
        "name": "ipython",
        "version": 3
      },
      "file_extension": ".py",
      "mimetype": "text/x-python",
      "name": "python",
      "nbconvert_exporter": "python",
      "pygments_lexer": "ipython3",
      "version": "3.9.18"
    }
  },
  "nbformat": 4,
  "nbformat_minor": 5
}
