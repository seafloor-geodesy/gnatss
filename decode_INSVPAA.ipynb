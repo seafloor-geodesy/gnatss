{
  "cells": [
    {
      "cell_type": "markdown",
      "id": "b9935426-565d-4c79-94ae-5586ead4ca72",
      "metadata": {},
      "source": []
    },
    {
      "cell_type": "code",
      "execution_count": 1,
      "id": "2abd04d2-61ef-4c94-a24f-04cb39c10de2",
      "metadata": {},
      "outputs": [],
      "source": [
        "import re\n",
        "from pathlib import Path\n",
        "import time"
      ]
    },
    {
      "cell_type": "code",
      "execution_count": 2,
      "id": "ad7f39ba-6bee-40da-a086-8b8b4a18c2e8",
      "metadata": {},
      "outputs": [
        {
          "name": "stdout",
          "output_type": "stream",
          "text": [
            "CPU times: total: 4.22 s\n",
            "Wall time: 10.1 s\n"
          ]
        }
      ],
      "source": [
        "%%time\n",
        "raw_file = Path(\"NCL1/NCL1_INSPVAA_original.dat\")\n",
        "raw_file_text = raw_file.read_text() # len = 853715702"
      ]
    },
    {
      "cell_type": "code",
      "execution_count": 3,
      "id": "bca5c306-e47c-464a-ab32-c4cf240cbdab",
      "metadata": {},
      "outputs": [
        {
          "name": "stdout",
          "output_type": "stream",
          "text": [
            "CPU times: total: 17.3 s\n",
            "Wall time: 22.8 s\n"
          ]
        }
      ],
      "source": [
        "%%time\n",
        "re_pattern = re.compile(r\"#INSPVAA,.*?,.*?,.*?,.*?,.*?,.*?,.*?;(.*?),(.*?),(.*?),(.*?),(.*?),(.*?),(.*?),(.*?),(.*?),(.*?),(.*?),(.*?)\\*+.*\\n\")\n",
        "all_groups = re_pattern.findall(raw_file_text)\n"
      ]
    },
    {
      "cell_type": "code",
      "execution_count": 4,
      "id": "92bf1396-0457-41b8-b360-29b95bd0b23e",
      "metadata": {},
      "outputs": [
        {
          "name": "stdout",
          "output_type": "stream",
          "text": [
            "3866216\n",
            "[('2220', '400732.750000000', '45.30228109290', '-124.96596984774', '-28.3449', '-0.6858', '0.1014', '0.2413', '-3.550174056', '1.675694720', '225.485958675', 'INS_SOLUTION_GOOD'), ('2220', '400732.800000000', '45.30228080853', '-124.96596980582', '-28.3340', '-0.6380', '0.0788', '0.2734', '-3.540661065', '1.372732918', '225.573498898', 'INS_SOLUTION_GOOD'), ('2220', '400732.850000000', '45.30228054897', '-124.96596978011', '-28.3225', '-0.5833', '0.0534', '0.2926', '-3.183019898', '1.125801142', '225.649088263', 'INS_SOLUTION_GOOD'), ('2220', '400732.900000000', '45.30228030725', '-124.96596976192', '-28.3104', '-0.5440', '0.0405', '0.2950', '-2.585130504', '0.941245086', '225.704566396', 'INS_SOLUTION_GOOD'), ('2220', '400732.950000000', '45.30228008140', '-124.96596974837', '-28.2990', '-0.5122', '0.0346', '0.2801', '-1.819054504', '0.826606015', '225.732879767', 'INS_SOLUTION_GOOD'), ('2220', '400733.000000000', '45.30227986815', '-124.96596973566', '-28.2893', '-0.4850', '0.0341', '0.2472', '-0.973447368', '0.782243988', '225.728794479', 'INS_SOLUTION_GOOD'), ('2220', '400733.050000000', '45.30227965279', '-124.96596972252', '-28.2789', '-0.4740', '0.0438', '0.2121', '-0.150524791', '0.792945800', '225.691069983', 'INS_SOLUTION_GOOD'), ('2220', '400733.100000000', '45.30227943475', '-124.96596970405', '-28.2689', '-0.4702', '0.0576', '0.1735', '0.579114283', '0.848124645', '225.615377065', 'INS_SOLUTION_GOOD'), ('2220', '400733.150000000', '45.30227921575', '-124.96596967508', '-28.2608', '-0.4730', '0.0727', '0.1400', '1.156597387', '0.927888076', '225.499944691', 'INS_SOLUTION_GOOD'), ('2220', '400733.200000000', '45.30227899352', '-124.96596963727', '-28.2541', '-0.4780', '0.0881', '0.1050', '1.540463574', '1.016063314', '225.340780231', 'INS_SOLUTION_GOOD')]\n"
          ]
        }
      ],
      "source": [
        "print(f\"{len(all_groups)}\\n{all_groups[:10:]}\")"
      ]
    },
    {
      "cell_type": "code",
      "execution_count": 5,
      "id": "81caa932-0a3e-4ca8-a9e9-7d2ccd5b7802",
      "metadata": {},
      "outputs": [],
      "source": [
        "# %%time\n",
        "# re_pattern = re.compile(r\";(.*?),(.*?),(.*?),(.*?),(.*?),(.*?),(.*?),(.*?),(.*?),(.*?),(.*?),(.*?)\\*+.*\\n\")\n",
        "# all_groups = re_pattern.findall(raw_file_text)\n",
        "# print(len(all_groups), all_groups[:10])\n"
      ]
    },
    {
      "cell_type": "code",
      "execution_count": 6,
      "id": "c2518168-a60e-43be-826d-22ff2b46335c",
      "metadata": {},
      "outputs": [
        {
          "name": "stderr",
          "output_type": "stream",
          "text": [
            "C:\\Users\\madha\\AppData\\Local\\Temp\\ipykernel_27320\\2162656668.py:1: DeprecationWarning: \n",
            "Pyarrow will become a required dependency of pandas in the next major release of pandas (pandas 3.0),\n",
            "(to allow more performant data types, such as the Arrow string type, and better interoperability with other libraries)\n",
            "but was not found to be installed on your system.\n",
            "If this would cause problems for you,\n",
            "please provide us feedback at https://github.com/pandas-dev/pandas/issues/54466\n",
            "        \n",
            "  import pandas as pd\n"
          ]
        }
      ],
      "source": [
        "import pandas as pd\n",
        "import numpy as np"
      ]
    },
    {
      "cell_type": "code",
      "execution_count": 7,
      "id": "32771d13-5329-4d20-8bb5-bf33cc8b6ca7",
      "metadata": {},
      "outputs": [],
      "source": [
        "HEADER = [\n",
        "    \"Message\",\n",
        "    \"Port\",\n",
        "    \"Sequence #\",\n",
        "    \"% Idle Time\",\n",
        "    \"Time Status\",\n",
        "    \"Week\",\n",
        "    \"Seconds\",\n",
        "    \"Receiver Status\",\n",
        "    \"Reserved\",\n",
        "    \"Receiver S/W Version\",\n",
        "]\n",
        "\n",
        "DATA_ENUM = (\n",
        "    \"Week\",\n",
        "    \"Seconds\",\n",
        "    \"Latitude\",\n",
        "    \"Longitude #\",\n",
        "    \"Height\",\n",
        "    \"North Velocity\",\n",
        "    \"East Velocity\",\n",
        "    \"Up Velocity\",\n",
        "    \"Roll\",\n",
        "    \"Pitch\",\n",
        "    \"Azimuth\",\n",
        "    \"Status\",\n",
        ")\n",
        "DATA_ENUM_DTYPES = ('int', 'float', 'float', 'float', 'float', 'float', 'float','float', 'float', 'float', 'float', 'object')"
      ]
    },
    {
      "cell_type": "code",
      "execution_count": 8,
      "id": "568fe8ea-4311-4915-89d6-3a3d6d44d8f0",
      "metadata": {},
      "outputs": [
        {
          "data": {
            "text/plain": [
              "[('Week', 'int'),\n",
              " ('Seconds', 'float'),\n",
              " ('Latitude', 'float'),\n",
              " ('Longitude #', 'float'),\n",
              " ('Height', 'float'),\n",
              " ('North Velocity', 'float'),\n",
              " ('East Velocity', 'float'),\n",
              " ('Up Velocity', 'float'),\n",
              " ('Roll', 'float'),\n",
              " ('Pitch', 'float'),\n",
              " ('Azimuth', 'float'),\n",
              " ('Status', 'object')]"
            ]
          },
          "execution_count": 8,
          "metadata": {},
          "output_type": "execute_result"
        }
      ],
      "source": [
        "list(zip(DATA_ENUM, DATA_ENUM_DTYPES))"
      ]
    },
    {
      "cell_type": "code",
      "execution_count": 9,
      "id": "a3dcb232-6ebb-4c69-9936-dc54fdca5bd8",
      "metadata": {},
      "outputs": [
        {
          "name": "stdout",
          "output_type": "stream",
          "text": [
            "CPU times: total: 9.31 s\n",
            "Wall time: 23.6 s\n"
          ]
        }
      ],
      "source": [
        "%%time\n",
        "np_array = np.array(all_groups, dtype=list(zip(DATA_ENUM, DATA_ENUM_DTYPES)))\n",
        "# np_array"
      ]
    },
    {
      "cell_type": "code",
      "execution_count": 10,
      "id": "1d9e37db-b546-4f87-aabc-2f3b8608ae8c",
      "metadata": {},
      "outputs": [
        {
          "name": "stdout",
          "output_type": "stream",
          "text": [
            "CPU times: total: 1.58 s\n",
            "Wall time: 2.4 s\n"
          ]
        },
        {
          "data": {
            "text/html": [
              "<div>\n",
              "<style scoped>\n",
              "    .dataframe tbody tr th:only-of-type {\n",
              "        vertical-align: middle;\n",
              "    }\n",
              "\n",
              "    .dataframe tbody tr th {\n",
              "        vertical-align: top;\n",
              "    }\n",
              "\n",
              "    .dataframe thead th {\n",
              "        text-align: right;\n",
              "    }\n",
              "</style>\n",
              "<table border=\"1\" class=\"dataframe\">\n",
              "  <thead>\n",
              "    <tr style=\"text-align: right;\">\n",
              "      <th></th>\n",
              "      <th>Week</th>\n",
              "      <th>Seconds</th>\n",
              "      <th>Latitude</th>\n",
              "      <th>Longitude #</th>\n",
              "      <th>Height</th>\n",
              "      <th>North Velocity</th>\n",
              "      <th>East Velocity</th>\n",
              "      <th>Up Velocity</th>\n",
              "      <th>Roll</th>\n",
              "      <th>Pitch</th>\n",
              "      <th>Azimuth</th>\n",
              "      <th>Status</th>\n",
              "    </tr>\n",
              "  </thead>\n",
              "  <tbody>\n",
              "    <tr>\n",
              "      <th>0</th>\n",
              "      <td>2220</td>\n",
              "      <td>400732.75</td>\n",
              "      <td>45.302281</td>\n",
              "      <td>-124.965970</td>\n",
              "      <td>-28.3449</td>\n",
              "      <td>-0.6858</td>\n",
              "      <td>0.1014</td>\n",
              "      <td>0.2413</td>\n",
              "      <td>-3.550174</td>\n",
              "      <td>1.675695</td>\n",
              "      <td>225.485959</td>\n",
              "      <td>INS_SOLUTION_GOOD</td>\n",
              "    </tr>\n",
              "    <tr>\n",
              "      <th>1</th>\n",
              "      <td>2220</td>\n",
              "      <td>400732.80</td>\n",
              "      <td>45.302281</td>\n",
              "      <td>-124.965970</td>\n",
              "      <td>-28.3340</td>\n",
              "      <td>-0.6380</td>\n",
              "      <td>0.0788</td>\n",
              "      <td>0.2734</td>\n",
              "      <td>-3.540661</td>\n",
              "      <td>1.372733</td>\n",
              "      <td>225.573499</td>\n",
              "      <td>INS_SOLUTION_GOOD</td>\n",
              "    </tr>\n",
              "    <tr>\n",
              "      <th>2</th>\n",
              "      <td>2220</td>\n",
              "      <td>400732.85</td>\n",
              "      <td>45.302281</td>\n",
              "      <td>-124.965970</td>\n",
              "      <td>-28.3225</td>\n",
              "      <td>-0.5833</td>\n",
              "      <td>0.0534</td>\n",
              "      <td>0.2926</td>\n",
              "      <td>-3.183020</td>\n",
              "      <td>1.125801</td>\n",
              "      <td>225.649088</td>\n",
              "      <td>INS_SOLUTION_GOOD</td>\n",
              "    </tr>\n",
              "    <tr>\n",
              "      <th>3</th>\n",
              "      <td>2220</td>\n",
              "      <td>400732.90</td>\n",
              "      <td>45.302280</td>\n",
              "      <td>-124.965970</td>\n",
              "      <td>-28.3104</td>\n",
              "      <td>-0.5440</td>\n",
              "      <td>0.0405</td>\n",
              "      <td>0.2950</td>\n",
              "      <td>-2.585131</td>\n",
              "      <td>0.941245</td>\n",
              "      <td>225.704566</td>\n",
              "      <td>INS_SOLUTION_GOOD</td>\n",
              "    </tr>\n",
              "    <tr>\n",
              "      <th>4</th>\n",
              "      <td>2220</td>\n",
              "      <td>400732.95</td>\n",
              "      <td>45.302280</td>\n",
              "      <td>-124.965970</td>\n",
              "      <td>-28.2990</td>\n",
              "      <td>-0.5122</td>\n",
              "      <td>0.0346</td>\n",
              "      <td>0.2801</td>\n",
              "      <td>-1.819055</td>\n",
              "      <td>0.826606</td>\n",
              "      <td>225.732880</td>\n",
              "      <td>INS_SOLUTION_GOOD</td>\n",
              "    </tr>\n",
              "    <tr>\n",
              "      <th>...</th>\n",
              "      <td>...</td>\n",
              "      <td>...</td>\n",
              "      <td>...</td>\n",
              "      <td>...</td>\n",
              "      <td>...</td>\n",
              "      <td>...</td>\n",
              "      <td>...</td>\n",
              "      <td>...</td>\n",
              "      <td>...</td>\n",
              "      <td>...</td>\n",
              "      <td>...</td>\n",
              "      <td>...</td>\n",
              "    </tr>\n",
              "    <tr>\n",
              "      <th>3866211</th>\n",
              "      <td>2220</td>\n",
              "      <td>469048.15</td>\n",
              "      <td>45.302056</td>\n",
              "      <td>-124.965841</td>\n",
              "      <td>-23.4901</td>\n",
              "      <td>-0.9726</td>\n",
              "      <td>1.0631</td>\n",
              "      <td>-0.1158</td>\n",
              "      <td>2.405454</td>\n",
              "      <td>-1.053228</td>\n",
              "      <td>127.181676</td>\n",
              "      <td>INS_SOLUTION_GOOD</td>\n",
              "    </tr>\n",
              "    <tr>\n",
              "      <th>3866212</th>\n",
              "      <td>2220</td>\n",
              "      <td>469048.20</td>\n",
              "      <td>45.302055</td>\n",
              "      <td>-124.965840</td>\n",
              "      <td>-23.4962</td>\n",
              "      <td>-0.9804</td>\n",
              "      <td>1.0885</td>\n",
              "      <td>-0.1416</td>\n",
              "      <td>2.848932</td>\n",
              "      <td>-0.735741</td>\n",
              "      <td>126.521363</td>\n",
              "      <td>INS_SOLUTION_GOOD</td>\n",
              "    </tr>\n",
              "    <tr>\n",
              "      <th>3866213</th>\n",
              "      <td>2220</td>\n",
              "      <td>469048.25</td>\n",
              "      <td>45.302055</td>\n",
              "      <td>-124.965839</td>\n",
              "      <td>-23.5037</td>\n",
              "      <td>-0.9709</td>\n",
              "      <td>1.1255</td>\n",
              "      <td>-0.1728</td>\n",
              "      <td>3.109084</td>\n",
              "      <td>-0.440885</td>\n",
              "      <td>125.873059</td>\n",
              "      <td>INS_SOLUTION_GOOD</td>\n",
              "    </tr>\n",
              "    <tr>\n",
              "      <th>3866214</th>\n",
              "      <td>2220</td>\n",
              "      <td>469048.30</td>\n",
              "      <td>45.302054</td>\n",
              "      <td>-124.965838</td>\n",
              "      <td>-23.5129</td>\n",
              "      <td>-0.9542</td>\n",
              "      <td>1.1578</td>\n",
              "      <td>-0.2087</td>\n",
              "      <td>3.184167</td>\n",
              "      <td>-0.161808</td>\n",
              "      <td>125.247869</td>\n",
              "      <td>INS_SOLUTION_GOOD</td>\n",
              "    </tr>\n",
              "    <tr>\n",
              "      <th>3866215</th>\n",
              "      <td>2220</td>\n",
              "      <td>469048.35</td>\n",
              "      <td>45.302054</td>\n",
              "      <td>-124.965838</td>\n",
              "      <td>-23.5243</td>\n",
              "      <td>-0.9272</td>\n",
              "      <td>1.1918</td>\n",
              "      <td>-0.2501</td>\n",
              "      <td>3.055746</td>\n",
              "      <td>0.108186</td>\n",
              "      <td>124.660319</td>\n",
              "      <td>INS_SOLUTION_GOOD</td>\n",
              "    </tr>\n",
              "  </tbody>\n",
              "</table>\n",
              "<p>3866216 rows \u00d7 12 columns</p>\n",
              "</div>"
            ],
            "text/plain": [
              "         Week    Seconds   Latitude  Longitude #   Height  North Velocity  \\\n",
              "0        2220  400732.75  45.302281  -124.965970 -28.3449         -0.6858   \n",
              "1        2220  400732.80  45.302281  -124.965970 -28.3340         -0.6380   \n",
              "2        2220  400732.85  45.302281  -124.965970 -28.3225         -0.5833   \n",
              "3        2220  400732.90  45.302280  -124.965970 -28.3104         -0.5440   \n",
              "4        2220  400732.95  45.302280  -124.965970 -28.2990         -0.5122   \n",
              "...       ...        ...        ...          ...      ...             ...   \n",
              "3866211  2220  469048.15  45.302056  -124.965841 -23.4901         -0.9726   \n",
              "3866212  2220  469048.20  45.302055  -124.965840 -23.4962         -0.9804   \n",
              "3866213  2220  469048.25  45.302055  -124.965839 -23.5037         -0.9709   \n",
              "3866214  2220  469048.30  45.302054  -124.965838 -23.5129         -0.9542   \n",
              "3866215  2220  469048.35  45.302054  -124.965838 -23.5243         -0.9272   \n",
              "\n",
              "         East Velocity  Up Velocity      Roll     Pitch     Azimuth  \\\n",
              "0               0.1014       0.2413 -3.550174  1.675695  225.485959   \n",
              "1               0.0788       0.2734 -3.540661  1.372733  225.573499   \n",
              "2               0.0534       0.2926 -3.183020  1.125801  225.649088   \n",
              "3               0.0405       0.2950 -2.585131  0.941245  225.704566   \n",
              "4               0.0346       0.2801 -1.819055  0.826606  225.732880   \n",
              "...                ...          ...       ...       ...         ...   \n",
              "3866211         1.0631      -0.1158  2.405454 -1.053228  127.181676   \n",
              "3866212         1.0885      -0.1416  2.848932 -0.735741  126.521363   \n",
              "3866213         1.1255      -0.1728  3.109084 -0.440885  125.873059   \n",
              "3866214         1.1578      -0.2087  3.184167 -0.161808  125.247869   \n",
              "3866215         1.1918      -0.2501  3.055746  0.108186  124.660319   \n",
              "\n",
              "                    Status  \n",
              "0        INS_SOLUTION_GOOD  \n",
              "1        INS_SOLUTION_GOOD  \n",
              "2        INS_SOLUTION_GOOD  \n",
              "3        INS_SOLUTION_GOOD  \n",
              "4        INS_SOLUTION_GOOD  \n",
              "...                    ...  \n",
              "3866211  INS_SOLUTION_GOOD  \n",
              "3866212  INS_SOLUTION_GOOD  \n",
              "3866213  INS_SOLUTION_GOOD  \n",
              "3866214  INS_SOLUTION_GOOD  \n",
              "3866215  INS_SOLUTION_GOOD  \n",
              "\n",
              "[3866216 rows x 12 columns]"
            ]
          },
          "execution_count": 10,
          "metadata": {},
          "output_type": "execute_result"
        }
      ],
      "source": [
        "%%time\n",
        "df = pd.DataFrame(np_array)\n",
        "df"
      ]
    },
    {
      "cell_type": "code",
      "execution_count": 11,
      "id": "53aa8c83-1f82-4b60-a4cf-6e249caa0b05",
      "metadata": {},
      "outputs": [
        {
          "name": "stdout",
          "output_type": "stream",
          "text": [
            "CPU times: total: 13.1 s\n",
            "Wall time: 47.2 s\n"
          ]
        }
      ],
      "source": [
        "%%time\n",
        "df = pd.DataFrame(all_groups, columns=DATA_ENUM)"
      ]
    },
    {
      "cell_type": "code",
      "execution_count": 12,
      "id": "8dcb0ca0-6de7-41e3-b817-2986b99fec5b",
      "metadata": {},
      "outputs": [],
      "source": [
        "# for idx, ele in enumerate(all_groups):\n",
        "#     if '1810bc04' in ele:\n",
        "#         print(idx, ele)"
      ]
    },
    {
      "cell_type": "code",
      "execution_count": 14,
      "id": "f5079c25-76fc-4550-b170-8ee6aca0f191",
      "metadata": {},
      "outputs": [
        {
          "ename": "ImportError",
          "evalue": "cannot import name 'gpsws_to_time' from 'src.gnatss.utilities.time' (D:\\SSEC\\offshore-geodesy\\src\\gnatss\\utilities\\time.py)",
          "output_type": "error",
          "traceback": [
            "\u001b[1;31m---------------------------------------------------------------------------\u001b[0m",
            "\u001b[1;31mImportError\u001b[0m                               Traceback (most recent call last)",
            "Cell \u001b[1;32mIn[14], line 1\u001b[0m\n\u001b[1;32m----> 1\u001b[0m \u001b[38;5;28;01mfrom\u001b[39;00m \u001b[38;5;21;01msrc\u001b[39;00m\u001b[38;5;21;01m.\u001b[39;00m\u001b[38;5;21;01mgnatss\u001b[39;00m\u001b[38;5;21;01m.\u001b[39;00m\u001b[38;5;21;01mutilities\u001b[39;00m\u001b[38;5;21;01m.\u001b[39;00m\u001b[38;5;21;01mtime\u001b[39;00m \u001b[38;5;28;01mimport\u001b[39;00m gpsws_to_time\n",
            "\u001b[1;31mImportError\u001b[0m: cannot import name 'gpsws_to_time' from 'src.gnatss.utilities.time' (D:\\SSEC\\offshore-geodesy\\src\\gnatss\\utilities\\time.py)"
          ]
        }
      ],
      "source": [
        "from src.gnatss.utilities.time import gpsws_to_time"
      ]
    },
    {
      "cell_type": "code",
      "execution_count": null,
      "id": "76db9669-8b86-47b3-b449-8b8ac8a3727a",
      "metadata": {},
      "outputs": [],
      "source": []
    }
  ],
  "metadata": {
    "kernelspec": {
      "display_name": "Python 3 (ipykernel)",
      "language": "python",
      "name": "python3"
    },
    "language_info": {
      "codemirror_mode": {
        "name": "ipython",
        "version": 3
      },
      "file_extension": ".py",
      "mimetype": "text/x-python",
      "name": "python",
      "nbconvert_exporter": "python",
      "pygments_lexer": "ipython3",
      "version": "3.9.18"
    }
  },
  "nbformat": 4,
  "nbformat_minor": 5
}
