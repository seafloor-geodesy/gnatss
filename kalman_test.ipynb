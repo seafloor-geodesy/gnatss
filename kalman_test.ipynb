{
  "cells": [
    {
      "cell_type": "code",
      "outputs": [],
      "source": [
        "import numpy as np\n",
        "import pandas as pd\n",
        "import pymap3d\n",
        "from numpy.linalg import inv\n",
        "import warnings\n",
        "warnings.filterwarnings('ignore')"
      ],
      "metadata": {
        "collapsed": false,
        "ExecuteTime": {
          "end_time": "2024-03-29T03:07:40.909295Z",
          "start_time": "2024-03-29T03:07:40.906325Z"
        }
      },
      "id": "b55d7c9e3aa04f9f",
      "execution_count": 109
    },
    {
      "cell_type": "code",
      "outputs": [],
      "source": [
        "class GNSS_filter:\n",
        "    def __init__(self, row):\n",
        "        dt = 5e-2\n",
        "\n",
        "        self.Nx = 6  # number of states: pos, vel\n",
        "        self.Nu = 3  # number of input var: vel\n",
        "\n",
        "        self.X = np.zeros(\n",
        "            [self.Nx, 1]\n",
        "        )  # error states: pos_xyz, v_ned, eul, bias_acc, bias_gyro\n",
        "\n",
        "        # Initial antenna location\n",
        "        pos_xyz = np.array((row[\"x\"], row[\"y\"], row[\"z\"])).reshape(3, 1)\n",
        "        self.X[0:3] = pos_xyz\n",
        "        # Initial antenna velocity\n",
        "        rot, v_xyz = self.rot_vel(row)\n",
        "\n",
        "        self.X[3:6] = v_xyz\n",
        "\n",
        "        # Process model\n",
        "\n",
        "        # State transition matrix\n",
        "        self.F = np.identity(self.Nx)\n",
        "\n",
        "        self.F[0:3, 3:6] = np.identity(3) * dt\n",
        "\n",
        "        self.P = np.identity(self.Nx)  # Set initial values to 0.25?\n",
        "\n",
        "        # Process noise matrix\n",
        "        self.gnss_pos_psd = 3.125e-5\n",
        "        self.vel_psd = 0.0025\n",
        "\n",
        "        self.Q = np.zeros([self.Nx, self.Nx])\n",
        "\n",
        "        self.updateQ(dt)\n",
        "\n",
        "        # Position measurement noise\n",
        "        self.R_position = np.identity(3)\n",
        "        self.R_position[0, 0] = row.sdx**2\n",
        "        self.R_position[1, 1] = row.sdy**2\n",
        "        self.R_position[2, 2] = row.sdz**2\n",
        "\n",
        "        self.R_position[0, 1] = np.sign(row.sdxy) * row.sdxy**2\n",
        "        self.R_position[0, 2] = np.sign(row.sdxz) * row.sdxz**2\n",
        "        self.R_position[1, 2] = np.sign(row.sdyz) * row.sdyz**2\n",
        "\n",
        "        self.R_position[1, 0] = self.R_position[0, 1]\n",
        "        self.R_position[2, 0] = self.R_position[0, 2]\n",
        "        self.R_position[2, 1] = self.R_position[1, 2]\n",
        "\n",
        "        # Velocity measurement noise\n",
        "        self.R_velocity = np.identity(3) * 4e-8\n",
        "\n",
        "        self.R_velocity[0, 1] = 1.5e-9\n",
        "        self.R_velocity[0, 2] = 1.5e-9\n",
        "        self.R_velocity[1, 2] = 1.5e-9\n",
        "\n",
        "        self.R_velocity[1, 0] = self.R_velocity[0, 1]\n",
        "        self.R_velocity[2, 0] = self.R_velocity[0, 2]\n",
        "        self.R_velocity[2, 1] = self.R_velocity[1, 2]\n",
        "\n",
        "        if \"v_sde\" in row:\n",
        "            self.R_velocity[0, 0] = row.v_sde**2\n",
        "            self.R_velocity[1, 1] = row.v_sdn**2\n",
        "            self.R_velocity[2, 2] = row.v_sdu**2\n",
        "\n",
        "            self.R_velocity[0, 1] = row.v_sden\n",
        "            self.R_velocity[0, 2] = row.v_sdeu\n",
        "            self.R_velocity[1, 2] = row.v_sdnu\n",
        "\n",
        "            self.R_velocity[1, 0] = self.R_velocity[0, 1]\n",
        "            self.R_velocity[2, 0] = self.R_velocity[0, 2]\n",
        "            self.R_velocity[2, 1] = self.R_velocity[1, 2]\n",
        "\n",
        "        self.R_velocity = rot @ self.R_velocity @ rot.transpose()\n",
        "\n",
        "    def rot_vel(self, row):\n",
        "        \"\"\"\n",
        "        ------------------- Rotate ENU velocity into ECEF velocity --------------------------------\n",
        "                   dX = |  -sg   -sa*cg  ca*cg | | de |        de = |  -sg       cg      0 | | dX |\n",
        "                   dY = |   cg   -sa*sg  ca*sg | | dn |  and   dn = |-sa*cg  -sa*sg     ca | | dY |\n",
        "                   dZ = |    0    ca     sa    | | du |        du = | ca*cg   ca*sg     sa | | dZ |\n",
        "        -------------------------------------------------------------------------------------------\n",
        "        \"\"\"\n",
        "        v_enu = np.array((row[\"vel_e\"], row[\"vel_n\"], row[\"vel_u\"])).reshape(3, 1)\n",
        "        lat, lon, alt = pymap3d.ecef2geodetic(self.X[0], self.X[1], self.X[2])\n",
        "        lat = np.deg2rad(lat)\n",
        "        lam = np.deg2rad(lon)\n",
        "\n",
        "        ca = np.cos(lat)\n",
        "        sa = np.sin(lat)\n",
        "\n",
        "        cg = np.cos(lam)\n",
        "        sg = np.sin(lam)\n",
        "\n",
        "        rot = np.zeros((3, 3))\n",
        "        rot[0, 0] = -sg\n",
        "        rot[0, 1] = -sa * cg\n",
        "        rot[0, 2] = ca * cg\n",
        "        rot[1, 0] = cg\n",
        "        rot[1, 1] = -sa * sg\n",
        "        rot[1, 2] = ca * sg\n",
        "        rot[2, 0] = 0\n",
        "        rot[2, 1] = ca\n",
        "        rot[2, 2] = sa\n",
        "        v_xyz = rot @ v_enu\n",
        "\n",
        "        return rot, v_xyz\n",
        "\n",
        "    def updateQ(self, dt):\n",
        "        # Position estimation noise\n",
        "        # Initial Q values from Chadwell code 3.125d-5 3.125d-5 3.125d-5 0.0025 0.0025 0.0025, assumes white noise of 2.5 cm over a second\n",
        "        self.Q[0:3, 0:3] = np.identity(3) * self.gnss_pos_psd * dt\n",
        "\n",
        "        # Velocity estimation noise (acc psd)\n",
        "        self.Q[3:6, 3:6] = np.identity(3) * self.vel_psd\n",
        "\n",
        "    def predict(self, dt):  # w is the angular rate vector\n",
        "        self.F[0:3, 3:6] = np.identity(3) * dt\n",
        "\n",
        "        self.updateQ(dt)\n",
        "\n",
        "        self.X = self.F @ self.X\n",
        "        self.P = self.F @ self.P @ self.F.transpose() + self.Q\n",
        "\n",
        "    def updateVel_cov(self, row):\n",
        "        rot, v_xyz = self.rot_vel(row)\n",
        "\n",
        "        self.R_velocity[0, 0] = row.v_sde**2\n",
        "        self.R_velocity[1, 1] = row.v_sdn**2\n",
        "        self.R_velocity[2, 2] = row.v_sdu**2\n",
        "\n",
        "        self.R_velocity[0, 1] = row.v_sden\n",
        "        self.R_velocity[0, 2] = row.v_sdeu\n",
        "        self.R_velocity[1, 2] = row.v_sdnu\n",
        "\n",
        "        self.R_velocity[1, 0] = self.R_velocity[0, 1]\n",
        "        self.R_velocity[2, 0] = self.R_velocity[0, 2]\n",
        "        self.R_velocity[2, 1] = self.R_velocity[1, 2]\n",
        "        self.R_velocity = rot @ self.R_velocity @ rot.transpose()\n",
        "\n",
        "    def updatePosition(self, row):\n",
        "        # \t\tpos_ned = row[['pos_n','pos_e','pos_d']].values.reshape(3,1)\n",
        "        pos_xyz = np.array((row[\"x\"], row[\"y\"], row[\"z\"])).reshape(3, 1)\n",
        "\n",
        "        H = np.zeros([3, self.Nx])\n",
        "        H[0:3, 0:3] = np.identity(3)\n",
        "\n",
        "        self.R_position[0, 0] = row.sdx**2\n",
        "        self.R_position[1, 1] = row.sdy**2\n",
        "        self.R_position[2, 2] = row.sdz**2\n",
        "\n",
        "        self.R_position[0, 1] = np.sign(row.sdxy) * row.sdxy**2\n",
        "        self.R_position[0, 2] = np.sign(row.sdxz) * row.sdxz**2\n",
        "        self.R_position[1, 2] = np.sign(row.sdyz) * row.sdyz**2\n",
        "\n",
        "        self.R_position[1, 0] = self.R_position[0, 1]\n",
        "        self.R_position[2, 0] = self.R_position[0, 2]\n",
        "        self.R_position[2, 1] = self.R_position[1, 2]\n",
        "\n",
        "        y = pos_xyz - H @ self.X\n",
        "        S = H @ self.P @ H.transpose() + self.R_position\n",
        "        K = (self.P @ H.transpose()) @ inv(S)\n",
        "        self.X = self.X + K @ y\n",
        "\n",
        "        I = np.identity(self.Nx)\n",
        "        self.P = (I - K @ H) @ self.P\n",
        "\n",
        "    def updateVelocity(self, row):\n",
        "        # \t\tv_ned = row[['vel_n', 'vel_e', 'vel_d']].values.reshape(3,1)\n",
        "        rot, v_xyz = self.rot_vel(row)\n",
        "\n",
        "        H = np.zeros([3, self.Nx])\n",
        "        H[0:3, 3:6] = np.identity(3)\n",
        "\n",
        "        y = v_xyz - H @ self.X\n",
        "        S = H @ self.P @ H.transpose() + self.R_velocity\n",
        "        K = (self.P @ H.transpose()) @ inv(S)\n",
        "        self.X = self.X + K @ y\n",
        "\n",
        "        I = np.identity(self.Nx)\n",
        "        self.P = (I - K @ H) @ self.P\n",
        "\n",
        "    def get_states(self):\n",
        "        return {\n",
        "            \"x\": np.ndarray.item(self.X[0]),\n",
        "            \"y\": np.ndarray.item(self.X[1]),\n",
        "            \"z\": np.ndarray.item(self.X[2]),\n",
        "            \"vx\": np.ndarray.item(self.X[3]),\n",
        "            \"vy\": np.ndarray.item(self.X[4]),\n",
        "            \"vz\": np.ndarray.item(self.X[5]),\n",
        "        }\n",
        "\n",
        "    def return_states(self):\n",
        "        return self.X\n",
        "\n",
        "    def return_covariance(self):\n",
        "        return self.P\n",
        "\n",
        "    def rts_smoother(self, Xs, Ps):\n",
        "        # Rauch, Tongue, and Striebel smoother\n",
        "\n",
        "        n, dim_x, _ = Xs.shape\n",
        "\n",
        "        # smoother gain\n",
        "        K = np.zeros((n, dim_x, dim_x))\n",
        "        x, P, Pp = Xs.copy(), Ps.copy(), Ps.copy()\n",
        "\n",
        "        i = 0\n",
        "        for k in range(n - 2, -1, -1):\n",
        "            Pp[k] = self.F @ P[k] @ self.F.T + self.Q  # predicted covariance\n",
        "\n",
        "            K[k] = P[k] @ self.F.T @ inv(Pp[k])\n",
        "            x[k] += K[k] @ (x[k + 1] - (self.F @ x[k]))\n",
        "            P[k] += K[k] @ (P[k + 1] - Pp[k]) @ K[k].T\n",
        "            i += 1\n",
        "            print(str(i + 1) + \"/\" + str(n), end=\"\\r\")\n",
        "        print(\"\")\n",
        "\n",
        "        return x, P, K, Pp\n"
      ],
      "metadata": {
        "collapsed": false,
        "ExecuteTime": {
          "end_time": "2024-03-29T03:07:40.939679Z",
          "start_time": "2024-03-29T03:07:40.918073Z"
        }
      },
      "id": "17fac4056d82285e",
      "execution_count": 110
    },
    {
      "cell_type": "code",
      "outputs": [],
      "source": [
        "def run_filter_simulation(df):\n",
        "    import time\n",
        "\n",
        "    init = True\n",
        "\n",
        "    results = []\n",
        "    Xs = np.zeros([len(df), 6, 1])\n",
        "    Ps = np.zeros([len(df), 6, 6])\n",
        "\n",
        "    all_results = pd.DataFrame()\n",
        "\n",
        "    # Process data through forward Kalman filter\n",
        "    for i in range(len(df)):\n",
        "        row = df[i]\n",
        "        print(str(i + 1) + \"/\" + str(len(df)), end=\"\\r\")\n",
        "\n",
        "        if init:\n",
        "            gnss_kf = GNSS_filter(row)\n",
        "            init = False\n",
        "            last_time = row.dts\n",
        "        else:\n",
        "            dt = abs(\n",
        "                row.dts - last_time\n",
        "            )  # This helps to stabilize the solution, abs ensures reverse filtering works.\n",
        "            gnss_kf.predict(dt)\n",
        "            last_time = row.dts\n",
        "\n",
        "            # New velocity standard deviations\n",
        "            if \"v_sde\" in row.dtype.names:\n",
        "                if not np.isnan(row[\"v_sde\"]):\n",
        "                    gnss_kf.updateVel_cov(row)\n",
        "            # new GNSS measurement\n",
        "            if not np.isnan(row[\"x\"]):\n",
        "                gnss_kf.updatePosition(row)\n",
        "            # new velocity measurement\n",
        "            if not np.isnan(row[\"vel_e\"]):\n",
        "                gnss_kf.updateVelocity(row)\n",
        "\n",
        "        X = gnss_kf.return_states()\n",
        "        P = gnss_kf.return_covariance()\n",
        "        Xs[i] = X\n",
        "        Ps[i] = P\n",
        "\n",
        "    print(\"\")\n",
        "    print(\"Smoothing results\")\n",
        "    x, P, K, Pp = gnss_kf.rts_smoother(Xs, Ps)\n",
        "\n",
        "    return x, P, K, Pp\n"
      ],
      "metadata": {
        "collapsed": false,
        "ExecuteTime": {
          "end_time": "2024-03-29T03:07:40.947575Z",
          "start_time": "2024-03-29T03:07:40.941275Z"
        }
      },
      "id": "12530a7c09aea8b6",
      "execution_count": 111
    },
    {
      "cell_type": "code",
      "outputs": [],
      "source": [
        "from gnatss.loaders import read_novatel_L1_data_files"
      ],
      "metadata": {
        "collapsed": false,
        "ExecuteTime": {
          "end_time": "2024-03-29T03:07:40.951222Z",
          "start_time": "2024-03-29T03:07:40.948753Z"
        }
      },
      "id": "f31764900a2bc0a0",
      "execution_count": 112
    },
    {
      "cell_type": "code",
      "outputs": [],
      "source": [
        "df_rph = read_novatel_L1_data_files(data_files=['tests/data/2022/NCL1/NCL1_INSPVAA.dat'], data_format=\"INSPVAA\")"
      ],
      "metadata": {
        "collapsed": false,
        "ExecuteTime": {
          "end_time": "2024-03-29T03:07:53.459007Z",
          "start_time": "2024-03-29T03:07:40.953245Z"
        }
      },
      "id": "e378eb80588f86af",
      "execution_count": 113
    },
    {
      "cell_type": "code",
      "outputs": [],
      "source": [
        "df_std = read_novatel_L1_data_files(data_files=['tests/data/2022/NCL1/NCL1_INSSTDEVA.dat'], data_format=\"INSSTDEVA\")\n",
        " "
      ],
      "metadata": {
        "collapsed": false,
        "ExecuteTime": {
          "end_time": "2024-03-29T03:08:04.332809Z",
          "start_time": "2024-03-29T03:07:53.460243Z"
        }
      },
      "id": "d98f539a465c0c9",
      "execution_count": 114
    },
    {
      "cell_type": "code",
      "outputs": [
        {
          "data": {
            "text/plain": "         Week    Seconds  lat std  lon std  alt std  ant_n std  ant_e std  \\\n0        2220  400732.75   0.5002   0.4400   0.7283     0.0179     0.0159   \n1        2220  400732.80   0.5002   0.4400   0.7283     0.0179     0.0159   \n2        2220  400732.85   0.5002   0.4400   0.7283     0.0179     0.0159   \n3        2220  400732.90   0.5002   0.4400   0.7283     0.0179     0.0159   \n4        2220  400732.95   0.5002   0.4400   0.7283     0.0179     0.0159   \n...       ...        ...      ...      ...      ...        ...        ...   \n3865303  2220  469048.15   0.3748   0.3184   0.7405     0.0172     0.0147   \n3865304  2220  469048.20   0.3748   0.3184   0.7405     0.0172     0.0147   \n3865305  2220  469048.25   0.3748   0.3184   0.7405     0.0172     0.0147   \n3865306  2220  469048.30   0.3748   0.3184   0.7405     0.0172     0.0147   \n3865307  2220  469048.35   0.3748   0.3184   0.7405     0.0172     0.0147   \n\n         ant_u std  roll_roll  pitch_pitch  heading_heading Ext sol stat  \\\n0           0.0160     0.0301       0.0308           0.1465     0e0000d3   \n1           0.0160     0.0301       0.0308           0.1465     0e0000d3   \n2           0.0160     0.0301       0.0308           0.1465     0e0000d3   \n3           0.0160     0.0301       0.0308           0.1465     0e0000d3   \n4           0.0160     0.0301       0.0308           0.1465     0e0000d3   \n...            ...        ...          ...              ...          ...   \n3865303     0.0206     0.0252       0.0257           0.1263     0e0000d3   \n3865304     0.0206     0.0252       0.0257           0.1263     0e0000d3   \n3865305     0.0206     0.0252       0.0257           0.1263     0e0000d3   \n3865306     0.0206     0.0252       0.0257           0.1263     0e0000d3   \n3865307     0.0206     0.0252       0.0257           0.1263     0e0000d3   \n\n        Time Since Update          time  \n0                       0  7.122935e+08  \n1                       0  7.122935e+08  \n2                       0  7.122935e+08  \n3                       0  7.122935e+08  \n4                       0  7.122935e+08  \n...                   ...           ...  \n3865303                 0  7.123618e+08  \n3865304                 0  7.123618e+08  \n3865305                 0  7.123618e+08  \n3865306                 0  7.123618e+08  \n3865307                 0  7.123618e+08  \n\n[3865308 rows x 14 columns]",
            "text/html": "<div>\n<style scoped>\n    .dataframe tbody tr th:only-of-type {\n        vertical-align: middle;\n    }\n\n    .dataframe tbody tr th {\n        vertical-align: top;\n    }\n\n    .dataframe thead th {\n        text-align: right;\n    }\n</style>\n<table border=\"1\" class=\"dataframe\">\n  <thead>\n    <tr style=\"text-align: right;\">\n      <th></th>\n      <th>Week</th>\n      <th>Seconds</th>\n      <th>lat std</th>\n      <th>lon std</th>\n      <th>alt std</th>\n      <th>ant_n std</th>\n      <th>ant_e std</th>\n      <th>ant_u std</th>\n      <th>roll_roll</th>\n      <th>pitch_pitch</th>\n      <th>heading_heading</th>\n      <th>Ext sol stat</th>\n      <th>Time Since Update</th>\n      <th>time</th>\n    </tr>\n  </thead>\n  <tbody>\n    <tr>\n      <th>0</th>\n      <td>2220</td>\n      <td>400732.75</td>\n      <td>0.5002</td>\n      <td>0.4400</td>\n      <td>0.7283</td>\n      <td>0.0179</td>\n      <td>0.0159</td>\n      <td>0.0160</td>\n      <td>0.0301</td>\n      <td>0.0308</td>\n      <td>0.1465</td>\n      <td>0e0000d3</td>\n      <td>0</td>\n      <td>7.122935e+08</td>\n    </tr>\n    <tr>\n      <th>1</th>\n      <td>2220</td>\n      <td>400732.80</td>\n      <td>0.5002</td>\n      <td>0.4400</td>\n      <td>0.7283</td>\n      <td>0.0179</td>\n      <td>0.0159</td>\n      <td>0.0160</td>\n      <td>0.0301</td>\n      <td>0.0308</td>\n      <td>0.1465</td>\n      <td>0e0000d3</td>\n      <td>0</td>\n      <td>7.122935e+08</td>\n    </tr>\n    <tr>\n      <th>2</th>\n      <td>2220</td>\n      <td>400732.85</td>\n      <td>0.5002</td>\n      <td>0.4400</td>\n      <td>0.7283</td>\n      <td>0.0179</td>\n      <td>0.0159</td>\n      <td>0.0160</td>\n      <td>0.0301</td>\n      <td>0.0308</td>\n      <td>0.1465</td>\n      <td>0e0000d3</td>\n      <td>0</td>\n      <td>7.122935e+08</td>\n    </tr>\n    <tr>\n      <th>3</th>\n      <td>2220</td>\n      <td>400732.90</td>\n      <td>0.5002</td>\n      <td>0.4400</td>\n      <td>0.7283</td>\n      <td>0.0179</td>\n      <td>0.0159</td>\n      <td>0.0160</td>\n      <td>0.0301</td>\n      <td>0.0308</td>\n      <td>0.1465</td>\n      <td>0e0000d3</td>\n      <td>0</td>\n      <td>7.122935e+08</td>\n    </tr>\n    <tr>\n      <th>4</th>\n      <td>2220</td>\n      <td>400732.95</td>\n      <td>0.5002</td>\n      <td>0.4400</td>\n      <td>0.7283</td>\n      <td>0.0179</td>\n      <td>0.0159</td>\n      <td>0.0160</td>\n      <td>0.0301</td>\n      <td>0.0308</td>\n      <td>0.1465</td>\n      <td>0e0000d3</td>\n      <td>0</td>\n      <td>7.122935e+08</td>\n    </tr>\n    <tr>\n      <th>...</th>\n      <td>...</td>\n      <td>...</td>\n      <td>...</td>\n      <td>...</td>\n      <td>...</td>\n      <td>...</td>\n      <td>...</td>\n      <td>...</td>\n      <td>...</td>\n      <td>...</td>\n      <td>...</td>\n      <td>...</td>\n      <td>...</td>\n      <td>...</td>\n    </tr>\n    <tr>\n      <th>3865303</th>\n      <td>2220</td>\n      <td>469048.15</td>\n      <td>0.3748</td>\n      <td>0.3184</td>\n      <td>0.7405</td>\n      <td>0.0172</td>\n      <td>0.0147</td>\n      <td>0.0206</td>\n      <td>0.0252</td>\n      <td>0.0257</td>\n      <td>0.1263</td>\n      <td>0e0000d3</td>\n      <td>0</td>\n      <td>7.123618e+08</td>\n    </tr>\n    <tr>\n      <th>3865304</th>\n      <td>2220</td>\n      <td>469048.20</td>\n      <td>0.3748</td>\n      <td>0.3184</td>\n      <td>0.7405</td>\n      <td>0.0172</td>\n      <td>0.0147</td>\n      <td>0.0206</td>\n      <td>0.0252</td>\n      <td>0.0257</td>\n      <td>0.1263</td>\n      <td>0e0000d3</td>\n      <td>0</td>\n      <td>7.123618e+08</td>\n    </tr>\n    <tr>\n      <th>3865305</th>\n      <td>2220</td>\n      <td>469048.25</td>\n      <td>0.3748</td>\n      <td>0.3184</td>\n      <td>0.7405</td>\n      <td>0.0172</td>\n      <td>0.0147</td>\n      <td>0.0206</td>\n      <td>0.0252</td>\n      <td>0.0257</td>\n      <td>0.1263</td>\n      <td>0e0000d3</td>\n      <td>0</td>\n      <td>7.123618e+08</td>\n    </tr>\n    <tr>\n      <th>3865306</th>\n      <td>2220</td>\n      <td>469048.30</td>\n      <td>0.3748</td>\n      <td>0.3184</td>\n      <td>0.7405</td>\n      <td>0.0172</td>\n      <td>0.0147</td>\n      <td>0.0206</td>\n      <td>0.0252</td>\n      <td>0.0257</td>\n      <td>0.1263</td>\n      <td>0e0000d3</td>\n      <td>0</td>\n      <td>7.123618e+08</td>\n    </tr>\n    <tr>\n      <th>3865307</th>\n      <td>2220</td>\n      <td>469048.35</td>\n      <td>0.3748</td>\n      <td>0.3184</td>\n      <td>0.7405</td>\n      <td>0.0172</td>\n      <td>0.0147</td>\n      <td>0.0206</td>\n      <td>0.0252</td>\n      <td>0.0257</td>\n      <td>0.1263</td>\n      <td>0e0000d3</td>\n      <td>0</td>\n      <td>7.123618e+08</td>\n    </tr>\n  </tbody>\n</table>\n<p>3865308 rows \u00d7 14 columns</p>\n</div>"
          },
          "execution_count": 115,
          "metadata": {},
          "output_type": "execute_result"
        }
      ],
      "source": [
        "df_std = df_std.drop_duplicates(subset=\"time\", keep=\"first\")\n",
        "df_std"
      ],
      "metadata": {
        "collapsed": false,
        "ExecuteTime": {
          "end_time": "2024-03-29T03:08:04.881827Z",
          "start_time": "2024-03-29T03:08:04.334055Z"
        }
      },
      "id": "5302d625cad18228",
      "execution_count": 115
    },
    {
      "cell_type": "code",
      "outputs": [
        {
          "data": {
            "text/plain": "         Week_x  Seconds_x        lat         lon      alt   ant_n   ant_e  \\\n0          2220  400732.75  45.302281 -124.965970 -28.3449 -0.6858  0.1014   \n1          2220  400732.80  45.302281 -124.965970 -28.3340 -0.6380  0.0788   \n2          2220  400732.85  45.302281 -124.965970 -28.3225 -0.5833  0.0534   \n3          2220  400732.90  45.302280 -124.965970 -28.3104 -0.5440  0.0405   \n4          2220  400732.95  45.302280 -124.965970 -28.2990 -0.5122  0.0346   \n...         ...        ...        ...         ...      ...     ...     ...   \n3865079    2220  469048.15  45.302056 -124.965841 -23.4901 -0.9726  1.0631   \n3865080    2220  469048.20  45.302055 -124.965840 -23.4962 -0.9804  1.0885   \n3865081    2220  469048.25  45.302055 -124.965839 -23.5037 -0.9709  1.1255   \n3865082    2220  469048.30  45.302054 -124.965838 -23.5129 -0.9542  1.1578   \n3865083    2220  469048.35  45.302054 -124.965838 -23.5243 -0.9272  1.1918   \n\n          ant_u      roll     pitch  ...  lon std  alt std  ant_n std  \\\n0        0.2413 -3.550174  1.675695  ...   0.4400   0.7283     0.0179   \n1        0.2734 -3.540661  1.372733  ...   0.4400   0.7283     0.0179   \n2        0.2926 -3.183020  1.125801  ...   0.4400   0.7283     0.0179   \n3        0.2950 -2.585131  0.941245  ...   0.4400   0.7283     0.0179   \n4        0.2801 -1.819055  0.826606  ...   0.4400   0.7283     0.0179   \n...         ...       ...       ...  ...      ...      ...        ...   \n3865079 -0.1158  2.405454 -1.053228  ...   0.3184   0.7405     0.0172   \n3865080 -0.1416  2.848932 -0.735741  ...   0.3184   0.7405     0.0172   \n3865081 -0.1728  3.109084 -0.440885  ...   0.3184   0.7405     0.0172   \n3865082 -0.2087  3.184167 -0.161808  ...   0.3184   0.7405     0.0172   \n3865083 -0.2501  3.055746  0.108186  ...   0.3184   0.7405     0.0172   \n\n         ant_e std  ant_u std  roll_roll  pitch_pitch  heading_heading  \\\n0           0.0159     0.0160     0.0301       0.0308           0.1465   \n1           0.0159     0.0160     0.0301       0.0308           0.1465   \n2           0.0159     0.0160     0.0301       0.0308           0.1465   \n3           0.0159     0.0160     0.0301       0.0308           0.1465   \n4           0.0159     0.0160     0.0301       0.0308           0.1465   \n...            ...        ...        ...          ...              ...   \n3865079     0.0147     0.0206     0.0252       0.0257           0.1263   \n3865080     0.0147     0.0206     0.0252       0.0257           0.1263   \n3865081     0.0147     0.0206     0.0252       0.0257           0.1263   \n3865082     0.0147     0.0206     0.0252       0.0257           0.1263   \n3865083     0.0147     0.0206     0.0252       0.0257           0.1263   \n\n         Ext sol stat  Time Since Update  \n0            0e0000d3                  0  \n1            0e0000d3                  0  \n2            0e0000d3                  0  \n3            0e0000d3                  0  \n4            0e0000d3                  0  \n...               ...                ...  \n3865079      0e0000d3                  0  \n3865080      0e0000d3                  0  \n3865081      0e0000d3                  0  \n3865082      0e0000d3                  0  \n3865083      0e0000d3                  0  \n\n[3865084 rows x 25 columns]",
            "text/html": "<div>\n<style scoped>\n    .dataframe tbody tr th:only-of-type {\n        vertical-align: middle;\n    }\n\n    .dataframe tbody tr th {\n        vertical-align: top;\n    }\n\n    .dataframe thead th {\n        text-align: right;\n    }\n</style>\n<table border=\"1\" class=\"dataframe\">\n  <thead>\n    <tr style=\"text-align: right;\">\n      <th></th>\n      <th>Week_x</th>\n      <th>Seconds_x</th>\n      <th>lat</th>\n      <th>lon</th>\n      <th>alt</th>\n      <th>ant_n</th>\n      <th>ant_e</th>\n      <th>ant_u</th>\n      <th>roll</th>\n      <th>pitch</th>\n      <th>...</th>\n      <th>lon std</th>\n      <th>alt std</th>\n      <th>ant_n std</th>\n      <th>ant_e std</th>\n      <th>ant_u std</th>\n      <th>roll_roll</th>\n      <th>pitch_pitch</th>\n      <th>heading_heading</th>\n      <th>Ext sol stat</th>\n      <th>Time Since Update</th>\n    </tr>\n  </thead>\n  <tbody>\n    <tr>\n      <th>0</th>\n      <td>2220</td>\n      <td>400732.75</td>\n      <td>45.302281</td>\n      <td>-124.965970</td>\n      <td>-28.3449</td>\n      <td>-0.6858</td>\n      <td>0.1014</td>\n      <td>0.2413</td>\n      <td>-3.550174</td>\n      <td>1.675695</td>\n      <td>...</td>\n      <td>0.4400</td>\n      <td>0.7283</td>\n      <td>0.0179</td>\n      <td>0.0159</td>\n      <td>0.0160</td>\n      <td>0.0301</td>\n      <td>0.0308</td>\n      <td>0.1465</td>\n      <td>0e0000d3</td>\n      <td>0</td>\n    </tr>\n    <tr>\n      <th>1</th>\n      <td>2220</td>\n      <td>400732.80</td>\n      <td>45.302281</td>\n      <td>-124.965970</td>\n      <td>-28.3340</td>\n      <td>-0.6380</td>\n      <td>0.0788</td>\n      <td>0.2734</td>\n      <td>-3.540661</td>\n      <td>1.372733</td>\n      <td>...</td>\n      <td>0.4400</td>\n      <td>0.7283</td>\n      <td>0.0179</td>\n      <td>0.0159</td>\n      <td>0.0160</td>\n      <td>0.0301</td>\n      <td>0.0308</td>\n      <td>0.1465</td>\n      <td>0e0000d3</td>\n      <td>0</td>\n    </tr>\n    <tr>\n      <th>2</th>\n      <td>2220</td>\n      <td>400732.85</td>\n      <td>45.302281</td>\n      <td>-124.965970</td>\n      <td>-28.3225</td>\n      <td>-0.5833</td>\n      <td>0.0534</td>\n      <td>0.2926</td>\n      <td>-3.183020</td>\n      <td>1.125801</td>\n      <td>...</td>\n      <td>0.4400</td>\n      <td>0.7283</td>\n      <td>0.0179</td>\n      <td>0.0159</td>\n      <td>0.0160</td>\n      <td>0.0301</td>\n      <td>0.0308</td>\n      <td>0.1465</td>\n      <td>0e0000d3</td>\n      <td>0</td>\n    </tr>\n    <tr>\n      <th>3</th>\n      <td>2220</td>\n      <td>400732.90</td>\n      <td>45.302280</td>\n      <td>-124.965970</td>\n      <td>-28.3104</td>\n      <td>-0.5440</td>\n      <td>0.0405</td>\n      <td>0.2950</td>\n      <td>-2.585131</td>\n      <td>0.941245</td>\n      <td>...</td>\n      <td>0.4400</td>\n      <td>0.7283</td>\n      <td>0.0179</td>\n      <td>0.0159</td>\n      <td>0.0160</td>\n      <td>0.0301</td>\n      <td>0.0308</td>\n      <td>0.1465</td>\n      <td>0e0000d3</td>\n      <td>0</td>\n    </tr>\n    <tr>\n      <th>4</th>\n      <td>2220</td>\n      <td>400732.95</td>\n      <td>45.302280</td>\n      <td>-124.965970</td>\n      <td>-28.2990</td>\n      <td>-0.5122</td>\n      <td>0.0346</td>\n      <td>0.2801</td>\n      <td>-1.819055</td>\n      <td>0.826606</td>\n      <td>...</td>\n      <td>0.4400</td>\n      <td>0.7283</td>\n      <td>0.0179</td>\n      <td>0.0159</td>\n      <td>0.0160</td>\n      <td>0.0301</td>\n      <td>0.0308</td>\n      <td>0.1465</td>\n      <td>0e0000d3</td>\n      <td>0</td>\n    </tr>\n    <tr>\n      <th>...</th>\n      <td>...</td>\n      <td>...</td>\n      <td>...</td>\n      <td>...</td>\n      <td>...</td>\n      <td>...</td>\n      <td>...</td>\n      <td>...</td>\n      <td>...</td>\n      <td>...</td>\n      <td>...</td>\n      <td>...</td>\n      <td>...</td>\n      <td>...</td>\n      <td>...</td>\n      <td>...</td>\n      <td>...</td>\n      <td>...</td>\n      <td>...</td>\n      <td>...</td>\n      <td>...</td>\n    </tr>\n    <tr>\n      <th>3865079</th>\n      <td>2220</td>\n      <td>469048.15</td>\n      <td>45.302056</td>\n      <td>-124.965841</td>\n      <td>-23.4901</td>\n      <td>-0.9726</td>\n      <td>1.0631</td>\n      <td>-0.1158</td>\n      <td>2.405454</td>\n      <td>-1.053228</td>\n      <td>...</td>\n      <td>0.3184</td>\n      <td>0.7405</td>\n      <td>0.0172</td>\n      <td>0.0147</td>\n      <td>0.0206</td>\n      <td>0.0252</td>\n      <td>0.0257</td>\n      <td>0.1263</td>\n      <td>0e0000d3</td>\n      <td>0</td>\n    </tr>\n    <tr>\n      <th>3865080</th>\n      <td>2220</td>\n      <td>469048.20</td>\n      <td>45.302055</td>\n      <td>-124.965840</td>\n      <td>-23.4962</td>\n      <td>-0.9804</td>\n      <td>1.0885</td>\n      <td>-0.1416</td>\n      <td>2.848932</td>\n      <td>-0.735741</td>\n      <td>...</td>\n      <td>0.3184</td>\n      <td>0.7405</td>\n      <td>0.0172</td>\n      <td>0.0147</td>\n      <td>0.0206</td>\n      <td>0.0252</td>\n      <td>0.0257</td>\n      <td>0.1263</td>\n      <td>0e0000d3</td>\n      <td>0</td>\n    </tr>\n    <tr>\n      <th>3865081</th>\n      <td>2220</td>\n      <td>469048.25</td>\n      <td>45.302055</td>\n      <td>-124.965839</td>\n      <td>-23.5037</td>\n      <td>-0.9709</td>\n      <td>1.1255</td>\n      <td>-0.1728</td>\n      <td>3.109084</td>\n      <td>-0.440885</td>\n      <td>...</td>\n      <td>0.3184</td>\n      <td>0.7405</td>\n      <td>0.0172</td>\n      <td>0.0147</td>\n      <td>0.0206</td>\n      <td>0.0252</td>\n      <td>0.0257</td>\n      <td>0.1263</td>\n      <td>0e0000d3</td>\n      <td>0</td>\n    </tr>\n    <tr>\n      <th>3865082</th>\n      <td>2220</td>\n      <td>469048.30</td>\n      <td>45.302054</td>\n      <td>-124.965838</td>\n      <td>-23.5129</td>\n      <td>-0.9542</td>\n      <td>1.1578</td>\n      <td>-0.2087</td>\n      <td>3.184167</td>\n      <td>-0.161808</td>\n      <td>...</td>\n      <td>0.3184</td>\n      <td>0.7405</td>\n      <td>0.0172</td>\n      <td>0.0147</td>\n      <td>0.0206</td>\n      <td>0.0252</td>\n      <td>0.0257</td>\n      <td>0.1263</td>\n      <td>0e0000d3</td>\n      <td>0</td>\n    </tr>\n    <tr>\n      <th>3865083</th>\n      <td>2220</td>\n      <td>469048.35</td>\n      <td>45.302054</td>\n      <td>-124.965838</td>\n      <td>-23.5243</td>\n      <td>-0.9272</td>\n      <td>1.1918</td>\n      <td>-0.2501</td>\n      <td>3.055746</td>\n      <td>0.108186</td>\n      <td>...</td>\n      <td>0.3184</td>\n      <td>0.7405</td>\n      <td>0.0172</td>\n      <td>0.0147</td>\n      <td>0.0206</td>\n      <td>0.0252</td>\n      <td>0.0257</td>\n      <td>0.1263</td>\n      <td>0e0000d3</td>\n      <td>0</td>\n    </tr>\n  </tbody>\n</table>\n<p>3865084 rows \u00d7 25 columns</p>\n</div>"
          },
          "execution_count": 116,
          "metadata": {},
          "output_type": "execute_result"
        }
      ],
      "source": [
        "vel_std_df = df_rph.merge(df_std, on=\"time\")\n",
        "vel_std_df"
      ],
      "metadata": {
        "collapsed": false,
        "ExecuteTime": {
          "end_time": "2024-03-29T03:08:07.403886Z",
          "start_time": "2024-03-29T03:08:04.882804Z"
        }
      },
      "id": "616a0c6c13c5b94d",
      "execution_count": 116
    },
    {
      "cell_type": "code",
      "outputs": [
        {
          "data": {
            "text/plain": "                  dts   vel_e   vel_n   vel_u   v_sde   v_sdn   v_sdu\n0        7.122935e+08  0.1014 -0.6858  0.2413  0.0159  0.0179  0.0160\n1        7.122935e+08  0.0788 -0.6380  0.2734  0.0159  0.0179  0.0160\n2        7.122935e+08  0.0534 -0.5833  0.2926  0.0159  0.0179  0.0160\n3        7.122935e+08  0.0405 -0.5440  0.2950  0.0159  0.0179  0.0160\n4        7.122935e+08  0.0346 -0.5122  0.2801  0.0159  0.0179  0.0160\n...               ...     ...     ...     ...     ...     ...     ...\n3865079  7.123618e+08  1.0631 -0.9726 -0.1158  0.0147  0.0172  0.0206\n3865080  7.123618e+08  1.0885 -0.9804 -0.1416  0.0147  0.0172  0.0206\n3865081  7.123618e+08  1.1255 -0.9709 -0.1728  0.0147  0.0172  0.0206\n3865082  7.123618e+08  1.1578 -0.9542 -0.2087  0.0147  0.0172  0.0206\n3865083  7.123618e+08  1.1918 -0.9272 -0.2501  0.0147  0.0172  0.0206\n\n[3865084 rows x 7 columns]",
            "text/html": "<div>\n<style scoped>\n    .dataframe tbody tr th:only-of-type {\n        vertical-align: middle;\n    }\n\n    .dataframe tbody tr th {\n        vertical-align: top;\n    }\n\n    .dataframe thead th {\n        text-align: right;\n    }\n</style>\n<table border=\"1\" class=\"dataframe\">\n  <thead>\n    <tr style=\"text-align: right;\">\n      <th></th>\n      <th>dts</th>\n      <th>vel_e</th>\n      <th>vel_n</th>\n      <th>vel_u</th>\n      <th>v_sde</th>\n      <th>v_sdn</th>\n      <th>v_sdu</th>\n    </tr>\n  </thead>\n  <tbody>\n    <tr>\n      <th>0</th>\n      <td>7.122935e+08</td>\n      <td>0.1014</td>\n      <td>-0.6858</td>\n      <td>0.2413</td>\n      <td>0.0159</td>\n      <td>0.0179</td>\n      <td>0.0160</td>\n    </tr>\n    <tr>\n      <th>1</th>\n      <td>7.122935e+08</td>\n      <td>0.0788</td>\n      <td>-0.6380</td>\n      <td>0.2734</td>\n      <td>0.0159</td>\n      <td>0.0179</td>\n      <td>0.0160</td>\n    </tr>\n    <tr>\n      <th>2</th>\n      <td>7.122935e+08</td>\n      <td>0.0534</td>\n      <td>-0.5833</td>\n      <td>0.2926</td>\n      <td>0.0159</td>\n      <td>0.0179</td>\n      <td>0.0160</td>\n    </tr>\n    <tr>\n      <th>3</th>\n      <td>7.122935e+08</td>\n      <td>0.0405</td>\n      <td>-0.5440</td>\n      <td>0.2950</td>\n      <td>0.0159</td>\n      <td>0.0179</td>\n      <td>0.0160</td>\n    </tr>\n    <tr>\n      <th>4</th>\n      <td>7.122935e+08</td>\n      <td>0.0346</td>\n      <td>-0.5122</td>\n      <td>0.2801</td>\n      <td>0.0159</td>\n      <td>0.0179</td>\n      <td>0.0160</td>\n    </tr>\n    <tr>\n      <th>...</th>\n      <td>...</td>\n      <td>...</td>\n      <td>...</td>\n      <td>...</td>\n      <td>...</td>\n      <td>...</td>\n      <td>...</td>\n    </tr>\n    <tr>\n      <th>3865079</th>\n      <td>7.123618e+08</td>\n      <td>1.0631</td>\n      <td>-0.9726</td>\n      <td>-0.1158</td>\n      <td>0.0147</td>\n      <td>0.0172</td>\n      <td>0.0206</td>\n    </tr>\n    <tr>\n      <th>3865080</th>\n      <td>7.123618e+08</td>\n      <td>1.0885</td>\n      <td>-0.9804</td>\n      <td>-0.1416</td>\n      <td>0.0147</td>\n      <td>0.0172</td>\n      <td>0.0206</td>\n    </tr>\n    <tr>\n      <th>3865081</th>\n      <td>7.123618e+08</td>\n      <td>1.1255</td>\n      <td>-0.9709</td>\n      <td>-0.1728</td>\n      <td>0.0147</td>\n      <td>0.0172</td>\n      <td>0.0206</td>\n    </tr>\n    <tr>\n      <th>3865082</th>\n      <td>7.123618e+08</td>\n      <td>1.1578</td>\n      <td>-0.9542</td>\n      <td>-0.2087</td>\n      <td>0.0147</td>\n      <td>0.0172</td>\n      <td>0.0206</td>\n    </tr>\n    <tr>\n      <th>3865083</th>\n      <td>7.123618e+08</td>\n      <td>1.1918</td>\n      <td>-0.9272</td>\n      <td>-0.2501</td>\n      <td>0.0147</td>\n      <td>0.0172</td>\n      <td>0.0206</td>\n    </tr>\n  </tbody>\n</table>\n<p>3865084 rows \u00d7 7 columns</p>\n</div>"
          },
          "execution_count": 117,
          "metadata": {},
          "output_type": "execute_result"
        }
      ],
      "source": [
        "vel_std_df = vel_std_df.drop_duplicates(subset=\"time\", keep=\"first\")\n",
        "vel_std_df = vel_std_df.rename(\n",
        "    columns={\n",
        "        \"ant_e\": \"vel_e\",\n",
        "        \"ant_n\": \"vel_n\",\n",
        "        \"ant_u\": \"vel_u\",\n",
        "        \"ant_e std\": \"v_sde\",\n",
        "        \"ant_n std\": \"v_sdn\",\n",
        "        \"ant_u std\": \"v_sdu\",\n",
        "        \"time\":\"dts\",\n",
        "    },\n",
        "    errors=\"raise\"\n",
        ")\n",
        "vel_std_df = vel_std_df[\n",
        "    [\n",
        "        'dts', 'vel_e', 'vel_n', 'vel_u',\n",
        "        'v_sde', 'v_sdn', 'v_sdu'\n",
        "    ]\n",
        "]\n",
        "vel_std_df"
      ],
      "metadata": {
        "collapsed": false,
        "ExecuteTime": {
          "end_time": "2024-03-29T03:08:08.826503Z",
          "start_time": "2024-03-29T03:08:07.404629Z"
        }
      },
      "id": "d49e92010a98bfd5",
      "execution_count": 117
    },
    {
      "cell_type": "code",
      "outputs": [],
      "source": [
        "\"\"\"\n",
        "def load_gps_solutions(\n",
        "    files: List[str], time_round: int = constants.DELAY_TIME_PRECISION\n",
        ") -> pd.DataFrame:\n",
        "\"\"\"\n",
        "from gnatss.loaders import load_gps_solutions\n",
        "gps_df = load_gps_solutions(\n",
        "    files = [\n",
        "        'tests/data/2022/NCL1/208/posfilter/POS_FREED_TRANS_TWTT',\n",
        "        'tests/data/2022/NCL1/209/posfilter/POS_FREED_TRANS_TWTT',\n",
        "        'tests/data/2022/NCL1/210/posfilter/POS_FREED_TRANS_TWTT',\n",
        "\n",
        "    ],\n",
        ")\n",
        "gps_df = gps_df.rename(\n",
        "    columns={\n",
        "        \"time\":\"dts\",\n",
        "        \"xx\": \"sdx\",\n",
        "        \"yy\": \"sdy\",\n",
        "        \"zz\": \"sdz\",\n",
        "    },\n",
        "    errors=\"raise\"\n",
        ")\n",
        "\n",
        "gps_df = gps_df[\n",
        "    [\n",
        "        'dts', 'x', 'y', 'z', 'sdx', 'sdy', 'sdz'\n",
        "    ]\n",
        "]"
      ],
      "metadata": {
        "collapsed": false,
        "ExecuteTime": {
          "end_time": "2024-03-29T03:08:08.898928Z",
          "start_time": "2024-03-29T03:08:08.827279Z"
        }
      },
      "id": "1d1e7a97909d9ad",
      "execution_count": 118
    },
    {
      "cell_type": "code",
      "outputs": [
        {
          "data": {
            "text/plain": "                dts            x            y            z       sdx  \\\n0      7.122155e+08 -2575288.225 -3682570.227  4511064.310  0.000764   \n1      7.122155e+08 -2575286.789 -3682571.528  4511065.018  0.000315   \n2      7.122155e+08 -2575286.735 -3682571.582  4511065.013  0.000413   \n3      7.122155e+08 -2575286.727 -3682571.590  4511065.010  0.000476   \n4      7.122155e+08 -2575279.439 -3682576.054  4511065.580  0.000763   \n...             ...          ...          ...          ...       ...   \n47984  7.123964e+08 -2575338.610 -3682612.733  4511002.670  0.000504   \n47985  7.123964e+08 -2575336.177 -3682621.936  4510996.736  0.000761   \n47986  7.123964e+08 -2575336.427 -3682622.326  4510995.568  0.000312   \n47987  7.123964e+08 -2575336.394 -3682622.347  4510995.578  0.000379   \n47988  7.123964e+08 -2575336.320 -3682622.411  4510995.612  0.000508   \n\n            sdy       sdz  \n0      0.001004  0.000887  \n1      0.000555  0.000438  \n2      0.000652  0.000536  \n3      0.000715  0.000599  \n4      0.001003  0.000887  \n...         ...       ...  \n47984  0.000542  0.000636  \n47985  0.000800  0.000894  \n47986  0.000351  0.000445  \n47987  0.000418  0.000511  \n47988  0.000547  0.000640  \n\n[47989 rows x 7 columns]",
            "text/html": "<div>\n<style scoped>\n    .dataframe tbody tr th:only-of-type {\n        vertical-align: middle;\n    }\n\n    .dataframe tbody tr th {\n        vertical-align: top;\n    }\n\n    .dataframe thead th {\n        text-align: right;\n    }\n</style>\n<table border=\"1\" class=\"dataframe\">\n  <thead>\n    <tr style=\"text-align: right;\">\n      <th></th>\n      <th>dts</th>\n      <th>x</th>\n      <th>y</th>\n      <th>z</th>\n      <th>sdx</th>\n      <th>sdy</th>\n      <th>sdz</th>\n    </tr>\n  </thead>\n  <tbody>\n    <tr>\n      <th>0</th>\n      <td>7.122155e+08</td>\n      <td>-2575288.225</td>\n      <td>-3682570.227</td>\n      <td>4511064.310</td>\n      <td>0.000764</td>\n      <td>0.001004</td>\n      <td>0.000887</td>\n    </tr>\n    <tr>\n      <th>1</th>\n      <td>7.122155e+08</td>\n      <td>-2575286.789</td>\n      <td>-3682571.528</td>\n      <td>4511065.018</td>\n      <td>0.000315</td>\n      <td>0.000555</td>\n      <td>0.000438</td>\n    </tr>\n    <tr>\n      <th>2</th>\n      <td>7.122155e+08</td>\n      <td>-2575286.735</td>\n      <td>-3682571.582</td>\n      <td>4511065.013</td>\n      <td>0.000413</td>\n      <td>0.000652</td>\n      <td>0.000536</td>\n    </tr>\n    <tr>\n      <th>3</th>\n      <td>7.122155e+08</td>\n      <td>-2575286.727</td>\n      <td>-3682571.590</td>\n      <td>4511065.010</td>\n      <td>0.000476</td>\n      <td>0.000715</td>\n      <td>0.000599</td>\n    </tr>\n    <tr>\n      <th>4</th>\n      <td>7.122155e+08</td>\n      <td>-2575279.439</td>\n      <td>-3682576.054</td>\n      <td>4511065.580</td>\n      <td>0.000763</td>\n      <td>0.001003</td>\n      <td>0.000887</td>\n    </tr>\n    <tr>\n      <th>...</th>\n      <td>...</td>\n      <td>...</td>\n      <td>...</td>\n      <td>...</td>\n      <td>...</td>\n      <td>...</td>\n      <td>...</td>\n    </tr>\n    <tr>\n      <th>47984</th>\n      <td>7.123964e+08</td>\n      <td>-2575338.610</td>\n      <td>-3682612.733</td>\n      <td>4511002.670</td>\n      <td>0.000504</td>\n      <td>0.000542</td>\n      <td>0.000636</td>\n    </tr>\n    <tr>\n      <th>47985</th>\n      <td>7.123964e+08</td>\n      <td>-2575336.177</td>\n      <td>-3682621.936</td>\n      <td>4510996.736</td>\n      <td>0.000761</td>\n      <td>0.000800</td>\n      <td>0.000894</td>\n    </tr>\n    <tr>\n      <th>47986</th>\n      <td>7.123964e+08</td>\n      <td>-2575336.427</td>\n      <td>-3682622.326</td>\n      <td>4510995.568</td>\n      <td>0.000312</td>\n      <td>0.000351</td>\n      <td>0.000445</td>\n    </tr>\n    <tr>\n      <th>47987</th>\n      <td>7.123964e+08</td>\n      <td>-2575336.394</td>\n      <td>-3682622.347</td>\n      <td>4510995.578</td>\n      <td>0.000379</td>\n      <td>0.000418</td>\n      <td>0.000511</td>\n    </tr>\n    <tr>\n      <th>47988</th>\n      <td>7.123964e+08</td>\n      <td>-2575336.320</td>\n      <td>-3682622.411</td>\n      <td>4510995.612</td>\n      <td>0.000508</td>\n      <td>0.000547</td>\n      <td>0.000640</td>\n    </tr>\n  </tbody>\n</table>\n<p>47989 rows \u00d7 7 columns</p>\n</div>"
          },
          "execution_count": 119,
          "metadata": {},
          "output_type": "execute_result"
        }
      ],
      "source": [
        "gps_df"
      ],
      "metadata": {
        "collapsed": false,
        "ExecuteTime": {
          "end_time": "2024-03-29T03:08:08.908141Z",
          "start_time": "2024-03-29T03:08:08.900606Z"
        }
      },
      "id": "5abc7623b8630be7",
      "execution_count": 119
    },
    {
      "cell_type": "code",
      "outputs": [],
      "source": [
        "all_df = gps_df.merge(vel_std_df, on=\"dts\", how=\"inner\")"
      ],
      "metadata": {
        "collapsed": false,
        "ExecuteTime": {
          "end_time": "2024-03-29T03:08:09.442289Z",
          "start_time": "2024-03-29T03:08:08.909242Z"
        }
      },
      "id": "e90a2062c518cde2",
      "execution_count": 120
    },
    {
      "cell_type": "code",
      "outputs": [
        {
          "data": {
            "text/plain": "               dts            x            y            z       sdx       sdy  \\\n0      712215465.0 -2575288.225 -3682570.227  4511064.310  0.000764  0.001004   \n1      712215480.0 -2575279.439 -3682576.054  4511065.580  0.000763  0.001003   \n2      712215495.0 -2575269.558 -3682579.137  4511068.196  0.000764  0.001003   \n3      712215510.0 -2575262.122 -3682585.470  4511066.817  0.000762  0.001003   \n4      712215525.0 -2575253.070 -3682595.498  4511065.769  0.000764  0.001007   \n...            ...          ...          ...          ...       ...       ...   \n16343  712396326.0 -2575309.468 -3682598.666  4511031.049  0.000761  0.000800   \n16344  712396341.0 -2575323.088 -3682597.394  4511023.818  0.000762  0.000801   \n16345  712396356.0 -2575333.192 -3682602.175  4511014.150  0.000761  0.000800   \n16346  712396371.0 -2575338.200 -3682610.917  4511003.893  0.000761  0.000800   \n16347  712396386.0 -2575336.177 -3682621.936  4510996.736  0.000761  0.000800   \n\n            sdz   vel_e   vel_n   vel_u   v_sde   v_sdn   v_sdu  \n0      0.000887  0.9704  0.4581  0.3102  0.0150  0.0172  0.0195  \n1      0.000887  0.6910  0.1621 -0.4804  0.0143  0.0165  0.0194  \n2      0.000887  0.4897  0.0183  0.0954  0.0146  0.0168  0.0193  \n3      0.000885  0.5685 -0.3917 -0.5390  0.0147  0.0170  0.0190  \n4      0.000886  1.4913 -1.1755  0.4341  0.0155  0.0180  0.0198  \n...         ...     ...     ...     ...     ...     ...     ...  \n16343  0.000893 -0.4071 -0.5584  0.1908  0.0136  0.0171  0.0196  \n16344  0.000894 -0.6366 -0.3902 -0.6910  0.0141  0.0176  0.0209  \n16345  0.000893  0.0372 -0.6670 -0.1427  0.0136  0.0172  0.0198  \n16346  0.000893 -0.3284 -0.7742  0.3550  0.0137  0.0174  0.0196  \n16347  0.000894  0.0938 -0.8826 -0.3798  0.0137  0.0173  0.0203  \n\n[16348 rows x 13 columns]",
            "text/html": "<div>\n<style scoped>\n    .dataframe tbody tr th:only-of-type {\n        vertical-align: middle;\n    }\n\n    .dataframe tbody tr th {\n        vertical-align: top;\n    }\n\n    .dataframe thead th {\n        text-align: right;\n    }\n</style>\n<table border=\"1\" class=\"dataframe\">\n  <thead>\n    <tr style=\"text-align: right;\">\n      <th></th>\n      <th>dts</th>\n      <th>x</th>\n      <th>y</th>\n      <th>z</th>\n      <th>sdx</th>\n      <th>sdy</th>\n      <th>sdz</th>\n      <th>vel_e</th>\n      <th>vel_n</th>\n      <th>vel_u</th>\n      <th>v_sde</th>\n      <th>v_sdn</th>\n      <th>v_sdu</th>\n    </tr>\n  </thead>\n  <tbody>\n    <tr>\n      <th>0</th>\n      <td>712215465.0</td>\n      <td>-2575288.225</td>\n      <td>-3682570.227</td>\n      <td>4511064.310</td>\n      <td>0.000764</td>\n      <td>0.001004</td>\n      <td>0.000887</td>\n      <td>0.9704</td>\n      <td>0.4581</td>\n      <td>0.3102</td>\n      <td>0.0150</td>\n      <td>0.0172</td>\n      <td>0.0195</td>\n    </tr>\n    <tr>\n      <th>1</th>\n      <td>712215480.0</td>\n      <td>-2575279.439</td>\n      <td>-3682576.054</td>\n      <td>4511065.580</td>\n      <td>0.000763</td>\n      <td>0.001003</td>\n      <td>0.000887</td>\n      <td>0.6910</td>\n      <td>0.1621</td>\n      <td>-0.4804</td>\n      <td>0.0143</td>\n      <td>0.0165</td>\n      <td>0.0194</td>\n    </tr>\n    <tr>\n      <th>2</th>\n      <td>712215495.0</td>\n      <td>-2575269.558</td>\n      <td>-3682579.137</td>\n      <td>4511068.196</td>\n      <td>0.000764</td>\n      <td>0.001003</td>\n      <td>0.000887</td>\n      <td>0.4897</td>\n      <td>0.0183</td>\n      <td>0.0954</td>\n      <td>0.0146</td>\n      <td>0.0168</td>\n      <td>0.0193</td>\n    </tr>\n    <tr>\n      <th>3</th>\n      <td>712215510.0</td>\n      <td>-2575262.122</td>\n      <td>-3682585.470</td>\n      <td>4511066.817</td>\n      <td>0.000762</td>\n      <td>0.001003</td>\n      <td>0.000885</td>\n      <td>0.5685</td>\n      <td>-0.3917</td>\n      <td>-0.5390</td>\n      <td>0.0147</td>\n      <td>0.0170</td>\n      <td>0.0190</td>\n    </tr>\n    <tr>\n      <th>4</th>\n      <td>712215525.0</td>\n      <td>-2575253.070</td>\n      <td>-3682595.498</td>\n      <td>4511065.769</td>\n      <td>0.000764</td>\n      <td>0.001007</td>\n      <td>0.000886</td>\n      <td>1.4913</td>\n      <td>-1.1755</td>\n      <td>0.4341</td>\n      <td>0.0155</td>\n      <td>0.0180</td>\n      <td>0.0198</td>\n    </tr>\n    <tr>\n      <th>...</th>\n      <td>...</td>\n      <td>...</td>\n      <td>...</td>\n      <td>...</td>\n      <td>...</td>\n      <td>...</td>\n      <td>...</td>\n      <td>...</td>\n      <td>...</td>\n      <td>...</td>\n      <td>...</td>\n      <td>...</td>\n      <td>...</td>\n    </tr>\n    <tr>\n      <th>16343</th>\n      <td>712396326.0</td>\n      <td>-2575309.468</td>\n      <td>-3682598.666</td>\n      <td>4511031.049</td>\n      <td>0.000761</td>\n      <td>0.000800</td>\n      <td>0.000893</td>\n      <td>-0.4071</td>\n      <td>-0.5584</td>\n      <td>0.1908</td>\n      <td>0.0136</td>\n      <td>0.0171</td>\n      <td>0.0196</td>\n    </tr>\n    <tr>\n      <th>16344</th>\n      <td>712396341.0</td>\n      <td>-2575323.088</td>\n      <td>-3682597.394</td>\n      <td>4511023.818</td>\n      <td>0.000762</td>\n      <td>0.000801</td>\n      <td>0.000894</td>\n      <td>-0.6366</td>\n      <td>-0.3902</td>\n      <td>-0.6910</td>\n      <td>0.0141</td>\n      <td>0.0176</td>\n      <td>0.0209</td>\n    </tr>\n    <tr>\n      <th>16345</th>\n      <td>712396356.0</td>\n      <td>-2575333.192</td>\n      <td>-3682602.175</td>\n      <td>4511014.150</td>\n      <td>0.000761</td>\n      <td>0.000800</td>\n      <td>0.000893</td>\n      <td>0.0372</td>\n      <td>-0.6670</td>\n      <td>-0.1427</td>\n      <td>0.0136</td>\n      <td>0.0172</td>\n      <td>0.0198</td>\n    </tr>\n    <tr>\n      <th>16346</th>\n      <td>712396371.0</td>\n      <td>-2575338.200</td>\n      <td>-3682610.917</td>\n      <td>4511003.893</td>\n      <td>0.000761</td>\n      <td>0.000800</td>\n      <td>0.000893</td>\n      <td>-0.3284</td>\n      <td>-0.7742</td>\n      <td>0.3550</td>\n      <td>0.0137</td>\n      <td>0.0174</td>\n      <td>0.0196</td>\n    </tr>\n    <tr>\n      <th>16347</th>\n      <td>712396386.0</td>\n      <td>-2575336.177</td>\n      <td>-3682621.936</td>\n      <td>4510996.736</td>\n      <td>0.000761</td>\n      <td>0.000800</td>\n      <td>0.000894</td>\n      <td>0.0938</td>\n      <td>-0.8826</td>\n      <td>-0.3798</td>\n      <td>0.0137</td>\n      <td>0.0173</td>\n      <td>0.0203</td>\n    </tr>\n  </tbody>\n</table>\n<p>16348 rows \u00d7 13 columns</p>\n</div>"
          },
          "execution_count": 121,
          "metadata": {},
          "output_type": "execute_result"
        }
      ],
      "source": [
        "all_df"
      ],
      "metadata": {
        "collapsed": false,
        "ExecuteTime": {
          "end_time": "2024-03-29T03:08:09.457214Z",
          "start_time": "2024-03-29T03:08:09.443378Z"
        }
      },
      "id": "b625ed4adf0503f5",
      "execution_count": 121
    },
    {
      "cell_type": "code",
      "outputs": [
        {
          "data": {
            "text/plain": "Index(['dts', 'x', 'y', 'z', 'sdx', 'sdy', 'sdz', 'vel_e', 'vel_n', 'vel_u',\n       'v_sde', 'v_sdn', 'v_sdu'],\n      dtype='object')"
          },
          "execution_count": 122,
          "metadata": {},
          "output_type": "execute_result"
        }
      ],
      "source": [
        "all_df.columns"
      ],
      "metadata": {
        "collapsed": false,
        "ExecuteTime": {
          "end_time": "2024-03-29T03:08:09.463312Z",
          "start_time": "2024-03-29T03:08:09.458173Z"
        }
      },
      "id": "18cfacf346b8d9f2",
      "execution_count": 122
    },
    {
      "cell_type": "code",
      "outputs": [
        {
          "data": {
            "text/plain": "rec.array([(    0, 7.12215465e+08, -2575288.225, -3682570.227, 4511064.31 , 0.00076427, 0.00100377, 0.00088748,  0.9704,  0.4581,  0.3102, 0.015 , 0.0172, 0.0195, 0.00087587, 0.00082357, 0.00094384, 0.01606238, 0.01710263, 0.01831393),\n           (    1, 7.12215480e+08, -2575279.439, -3682576.054, 4511065.58 , 0.00076328, 0.0010029 , 0.00088686,  0.691 ,  0.1621, -0.4804, 0.0143, 0.0165, 0.0194, 0.00087493, 0.00082276, 0.0009431 , 0.01536066, 0.01665593, 0.01789134),\n           (    2, 7.12215495e+08, -2575269.558, -3682579.137, 4511068.196, 0.00076364, 0.00100313, 0.00088694,  0.4897,  0.0183,  0.0954, 0.0146, 0.0168, 0.0193, 0.00087523, 0.00082298, 0.00094325, 0.01566142, 0.0167863 , 0.01800667),\n           ...,\n           (12000, 7.12396356e+08, -2575333.192, -3682602.175, 4511014.15 , 0.0007609 , 0.00079978, 0.00089304,  0.0372, -0.667 , -0.1427, 0.0136, 0.0172, 0.0198, 0.0007801 , 0.00082433, 0.00084513, 0.01529444, 0.01640975, 0.01845427),\n           (12001, 7.12396371e+08, -2575338.2  , -3682610.917, 4511003.893, 0.00076107, 0.00079977, 0.00089283, -0.3284, -0.7742,  0.355 , 0.0137, 0.0174, 0.0196, 0.00078018, 0.00082432, 0.00084502, 0.01543956, 0.01638658, 0.01846727),\n           (12002, 7.12396386e+08, -2575336.177, -3682621.936, 4510996.736, 0.00076112, 0.00080014, 0.00089352,  0.0938, -0.8826, -0.3798, 0.0137, 0.0173, 0.0203, 0.00078039, 0.00082467, 0.00084554, 0.01539513, 0.01667663, 0.01874006)],\n          dtype=[('index', '<i8'), ('dts', '<f8'), ('x', '<f8'), ('y', '<f8'), ('z', '<f8'), ('sdx', '<f8'), ('sdy', '<f8'), ('sdz', '<f8'), ('vel_e', '<f8'), ('vel_n', '<f8'), ('vel_u', '<f8'), ('v_sde', '<f8'), ('v_sdn', '<f8'), ('v_sdu', '<f8'), ('sdxy', '<f8'), ('sdxz', '<f8'), ('sdyz', '<f8'), ('v_sden', '<f8'), ('v_sdeu', '<f8'), ('v_sdnu', '<f8')])"
          },
          "execution_count": 123,
          "metadata": {},
          "output_type": "execute_result"
        }
      ],
      "source": [
        "all_df[\"sdxy\"] = np.sqrt(all_df.sdx * all_df.sdy)\n",
        "all_df[\"sdxz\"] = np.sqrt(all_df.sdx * all_df.sdz)\n",
        "all_df[\"sdyz\"] = np.sqrt(all_df.sdy * all_df.sdz)\n",
        "all_df[\"v_sden\"] = np.sqrt(all_df.v_sde * all_df.v_sdn)\n",
        "all_df[\"v_sdeu\"] = np.sqrt(all_df.v_sde * all_df.v_sdu)\n",
        "all_df[\"v_sdnu\"] = np.sqrt(all_df.v_sdn * all_df.v_sdu)\n",
        "\n",
        "all_df = all_df.drop_duplicates(subset=\"dts\", keep=\"first\")\n",
        "\n",
        "all_df.reset_index(drop=True)\n",
        "all_df.sort_values(\"dts\").reset_index(drop=True)\n",
        "first_pos = all_df[~all_df.x.isnull()].iloc[0].name\n",
        "all_df = all_df.loc[first_pos:].reset_index(drop=True)\n",
        "df = all_df.to_records()\n",
        "df"
      ],
      "metadata": {
        "collapsed": false,
        "ExecuteTime": {
          "end_time": "2024-03-29T03:08:09.477654Z",
          "start_time": "2024-03-29T03:08:09.464204Z"
        }
      },
      "id": "45fb04bb79deda46",
      "execution_count": 123
    },
    {
      "cell_type": "code",
      "outputs": [
        {
          "name": "stdout",
          "output_type": "stream",
          "text": [
            "12003/12003\r\n",
            "Smoothing results\n",
            "12003/12003\r\n"
          ]
        }
      ],
      "source": [
        "x, P, K, Pp = run_filter_simulation(df)"
      ],
      "metadata": {
        "collapsed": false,
        "ExecuteTime": {
          "end_time": "2024-03-29T03:08:13.925119Z",
          "start_time": "2024-03-29T03:08:09.478562Z"
        }
      },
      "id": "6fabac1cc9fa8cdc",
      "execution_count": 124
    },
    {
      "cell_type": "code",
      "outputs": [
        {
          "data": {
            "text/plain": "array([[[-2.57528893e+06],\n        [-3.68257198e+06],\n        [ 4.51106344e+06],\n        [ 6.32687758e-01],\n        [-2.71836093e-01],\n        [ 1.42587390e-01]],\n\n       [[-2.57527944e+06],\n        [-3.68257605e+06],\n        [ 4.51106558e+06],\n        [ 6.58526280e-01],\n        [-2.05772402e-01],\n        [ 1.74151475e-01]],\n\n       [[-2.57526956e+06],\n        [-3.68257914e+06],\n        [ 4.51106820e+06],\n        [ 4.95981975e-01],\n        [-4.22238883e-01],\n        [-9.17056919e-02]],\n\n       ...,\n\n       [[-2.57533319e+06],\n        [-3.68260218e+06],\n        [ 4.51101415e+06],\n        [-3.33766779e-01],\n        [-5.82740876e-01],\n        [-6.83597141e-01]],\n\n       [[-2.57533820e+06],\n        [-3.68261092e+06],\n        [ 4.51100389e+06],\n        [ 1.34547614e-01],\n        [-7.34518835e-01],\n        [-4.77428033e-01]],\n\n       [[-2.57533618e+06],\n        [-3.68262194e+06],\n        [ 4.51099674e+06],\n        [ 1.20679626e-01],\n        [-7.57060610e-01],\n        [-5.26737759e-01]]])"
          },
          "execution_count": 125,
          "metadata": {},
          "output_type": "execute_result"
        }
      ],
      "source": [
        "x"
      ],
      "metadata": {
        "collapsed": false,
        "ExecuteTime": {
          "end_time": "2024-03-29T03:08:13.929508Z",
          "start_time": "2024-03-29T03:08:13.925949Z"
        }
      },
      "id": "a7ae679093880aaf",
      "execution_count": 125
    },
    {
      "cell_type": "code",
      "outputs": [
        {
          "data": {
            "text/plain": "array([[[ 3.59809468e-01,  1.56596311e-06,  1.36727617e-06,\n         -2.39672423e-02, -3.92130995e-08, -3.35090373e-08],\n        [ 1.56596311e-06,  3.59810337e-01,  1.82586683e-06,\n         -3.92082913e-08, -2.39672641e-02, -4.59809627e-08],\n        [ 1.36727616e-06,  1.82586684e-06,  3.59809868e-01,\n         -3.35097116e-08, -4.59874354e-08, -2.39672516e-02],\n        [-2.39672423e-02, -3.92082914e-08, -3.35097116e-08,\n          1.59856441e-03,  1.66636869e-09,  1.39606124e-09],\n        [-3.92130995e-08, -2.39672641e-02, -4.59874354e-08,\n          1.66636869e-09,  1.59856534e-03,  1.96454501e-09],\n        [-3.35090371e-08, -4.59809630e-08, -2.39672516e-02,\n          1.39606124e-09,  1.96454501e-09,  1.59856477e-03]],\n\n       [[ 5.82594811e-07,  7.65492238e-07,  6.76919606e-07,\n         -3.87846109e-08, -5.09680197e-08, -4.50629632e-08],\n        [ 7.65492238e-07,  1.00580776e-06,  8.89428986e-07,\n         -5.09604927e-08, -6.69687126e-08, -5.92098461e-08],\n        [ 6.76919606e-07,  8.89428986e-07,  7.86516034e-07,\n         -4.50640189e-08, -5.92199788e-08, -5.23588662e-08],\n        [-3.87846119e-08, -5.09604928e-08, -4.50640188e-08,\n          2.08631578e-06,  6.82500074e-09,  5.84526847e-09],\n        [-5.09680198e-08, -6.69687148e-08, -5.92199789e-08,\n          6.82500073e-09,  2.09011476e-06,  7.99944221e-09],\n        [-4.50629630e-08, -5.92098465e-08, -5.23588665e-08,\n          5.84526846e-09,  7.99944223e-09,  2.08794487e-06]],\n\n       [[ 5.83132541e-07,  7.66010436e-07,  6.77286411e-07,\n         -3.87789291e-08, -5.09478606e-08, -4.50391318e-08],\n        [ 7.66010436e-07,  1.00624120e-06,  8.89692175e-07,\n         -5.09405019e-08, -6.69257675e-08, -5.91639851e-08],\n        [ 6.77286411e-07,  8.89692175e-07,  7.86642573e-07,\n         -4.50402607e-08, -5.91740149e-08, -5.23112497e-08],\n        [-3.87789291e-08, -5.09405019e-08, -4.50402607e-08,\n          2.08519393e-06,  6.81186066e-09,  5.82608635e-09],\n        [-5.09478606e-08, -6.69257675e-08, -5.91740149e-08,\n          6.81186066e-09,  2.08899508e-06,  7.97607904e-09],\n        [-4.50391318e-08, -5.91639851e-08, -5.23112497e-08,\n          5.82608635e-09,  7.97607904e-09,  2.08681229e-06]],\n\n       ...,\n\n       [[ 5.78957729e-07,  6.08543454e-07,  6.79500590e-07,\n         -3.85010368e-08, -4.04753180e-08, -4.51859193e-08],\n        [ 6.08543454e-07,  6.39641059e-07,  7.14224226e-07,\n         -4.04685053e-08, -4.25436756e-08, -4.74949966e-08],\n        [ 6.79500590e-07,  7.14224226e-07,  7.97503908e-07,\n         -4.51871975e-08, -4.75043360e-08, -5.30329889e-08],\n        [-3.85010368e-08, -4.04685053e-08, -4.51871975e-08,\n          2.08517263e-06,  5.41702699e-09,  5.85457150e-09],\n        [-4.04753180e-08, -4.25436756e-08, -4.75043360e-08,\n          5.41702699e-09,  2.08575049e-06,  6.43467730e-09],\n        [-4.51859193e-08, -4.74949966e-08, -5.30329889e-08,\n          5.85457150e-09,  6.43467730e-09,  2.08692335e-06]],\n\n       [[ 5.79212304e-07,  6.08670418e-07,  6.79494970e-07,\n         -3.85511590e-08, -4.05262087e-08, -4.52234263e-08],\n        [ 6.08670418e-07,  6.39626740e-07,  7.14053352e-07,\n         -4.05118294e-08, -4.25873280e-08, -4.75234410e-08],\n        [ 6.79494970e-07,  7.14053352e-07,  7.97140203e-07,\n         -4.52257633e-08, -4.75427659e-08, -5.30532422e-08],\n        [-3.85511590e-08, -4.05118294e-08, -4.52257633e-08,\n          2.08713459e-06,  5.46239857e-09,  5.70132487e-09],\n        [-4.05262087e-08, -4.25873280e-08, -4.75427659e-08,\n          5.46239857e-09,  2.08776140e-06,  6.58630678e-09],\n        [-4.52234263e-08, -4.75234410e-08, -5.30532422e-08,\n          5.70132487e-09,  6.58630678e-09,  2.08870117e-06]],\n\n       [[ 5.79308372e-07,  6.09000379e-07,  6.80076922e-07,\n          3.96012362e-08,  5.08133587e-08,  4.52851184e-08],\n        [ 6.09000379e-07,  6.40214227e-07,  7.14933744e-07,\n          4.16309672e-08,  5.34177585e-08,  4.76061725e-08],\n        [ 6.80076922e-07,  7.14933744e-07,  7.98373789e-07,\n          4.64897248e-08,  5.96521547e-08,  5.31622974e-08],\n        [ 3.96012362e-08,  4.16309672e-08,  4.64897248e-08,\n          2.81492810e-03,  4.01155650e-05, -2.46492126e-04],\n        [ 5.08133587e-08,  5.34177585e-08,  5.96521547e-08,\n          4.01155650e-05,  2.88146031e-03,  1.91643908e-04],\n        [ 4.52851184e-08,  4.76061725e-08,  5.31622974e-08,\n         -2.46492126e-04,  1.91643908e-04,  2.53961340e-03]]])"
          },
          "execution_count": 126,
          "metadata": {},
          "output_type": "execute_result"
        }
      ],
      "source": [
        "P"
      ],
      "metadata": {
        "collapsed": false,
        "ExecuteTime": {
          "end_time": "2024-03-29T03:08:13.936163Z",
          "start_time": "2024-03-29T03:08:13.930442Z"
        }
      },
      "id": "9d46fa32082239f3",
      "execution_count": 126
    },
    {
      "cell_type": "code",
      "outputs": [
        {
          "data": {
            "text/plain": "array([[[ 6.40382792e-01,  0.00000000e+00,  0.00000000e+00,\n         -9.58178742e+00,  0.00000000e+00,  0.00000000e+00],\n        [ 0.00000000e+00,  6.40382792e-01,  0.00000000e+00,\n          0.00000000e+00, -9.58178742e+00,  0.00000000e+00],\n        [ 0.00000000e+00,  0.00000000e+00,  6.40382792e-01,\n          0.00000000e+00,  0.00000000e+00, -9.58178742e+00],\n        [ 2.39544685e-02,  0.00000000e+00,  0.00000000e+00,\n          6.39085259e-01,  0.00000000e+00,  0.00000000e+00],\n        [ 0.00000000e+00,  2.39544685e-02,  0.00000000e+00,\n          0.00000000e+00,  6.39085259e-01,  0.00000000e+00],\n        [ 0.00000000e+00,  0.00000000e+00,  2.39544685e-02,\n          0.00000000e+00,  0.00000000e+00,  6.39085259e-01]],\n\n       [[ 1.74851947e-06,  2.05658015e-06,  2.06540058e-06,\n         -1.55140051e-05, -2.03874190e-05, -1.80253719e-05],\n        [ 2.29744250e-06,  2.70221456e-06,  2.71380401e-06,\n         -2.03844082e-05, -2.67877625e-05, -2.36841837e-05],\n        [ 2.03161286e-06,  2.38955003e-06,  2.39979853e-06,\n         -1.80257943e-05, -2.36882368e-05, -2.09437634e-05],\n        [ 6.65967059e-02,  1.14750183e-06, -5.03696775e-06,\n          8.33493090e-04,  1.37330432e-06,  1.13875752e-06],\n        [ 1.13144434e-06,  6.65981631e-02,  3.58775147e-06,\n          1.37330432e-06,  8.34262889e-04,  1.62406268e-06],\n        [-5.03471524e-06,  3.60936840e-06,  6.65910524e-02,\n          1.13875752e-06,  1.62406268e-06,  8.33784406e-04]],\n\n       [[ 3.07087069e-06,  3.79840390e-06,  3.60284123e-06,\n         -1.55118152e-05, -2.03794648e-05, -1.80159354e-05],\n        [ 4.03393539e-06,  4.98963241e-06,  4.73273876e-06,\n         -2.03765207e-05, -2.67707281e-05, -2.36659654e-05],\n        [ 3.56670027e-06,  4.41170260e-06,  4.18456394e-06,\n         -1.80163871e-05, -2.36699783e-05, -2.09248282e-05],\n        [ 6.65612028e-02,  1.06557870e-06, -5.09270112e-06,\n          8.33049155e-04,  1.37175445e-06,  1.13743371e-06],\n        [ 1.04987660e-06,  6.65625396e-02,  3.36299241e-06,\n          1.37175445e-06,  8.33816460e-04,  1.62003596e-06],\n        [-5.09029172e-06,  3.38439482e-06,  6.65555722e-02,\n          1.13743371e-06,  1.62003596e-06,  8.33339641e-04]],\n\n       ...,\n\n       [[ 3.06019365e-06,  2.99856798e-06,  3.63254360e-06,\n         -1.54006203e-05, -1.61903433e-05, -1.80746089e-05],\n        [ 3.21657475e-06,  3.15179990e-06,  3.81817275e-06,\n         -1.61876182e-05, -1.70176974e-05, -1.89982521e-05],\n        [ 3.59163249e-06,  3.51930479e-06,  4.26337778e-06,\n         -1.80751203e-05, -1.90019880e-05, -2.12134786e-05],\n        [ 6.65613745e-02,  8.60626789e-07, -5.21011534e-06,\n          8.33043889e-04,  1.08993238e-06,  1.13988158e-06],\n        [ 8.46093004e-07,  6.65626616e-02,  3.50258194e-06,\n          1.08993238e-06,  8.33167783e-04,  1.31058147e-06],\n        [-5.20738794e-06,  3.52250647e-06,  6.65555619e-02,\n          1.13988158e-06,  1.31058147e-06,  8.33358756e-04]],\n\n       [[ 3.06100478e-06,  3.00076194e-06,  3.63357678e-06,\n         -1.54073389e-05, -1.61936386e-05, -1.80743758e-05],\n        [ 3.21668419e-06,  3.15337746e-06,  3.81837658e-06,\n         -1.61909396e-05, -1.70172296e-05, -1.89936191e-05],\n        [ 3.59097578e-06,  3.52030271e-06,  4.26268076e-06,\n         -1.80749083e-05, -1.89973450e-05, -2.12037061e-05],\n        [ 6.65613775e-02,  8.85698385e-07, -5.21335523e-06,\n          8.33044375e-04,  1.09046720e-06,  1.13982695e-06],\n        [ 8.71303568e-07,  6.65626120e-02,  3.45359586e-06,\n          1.09046720e-06,  8.33167132e-04,  1.30965962e-06],\n        [-5.21051516e-06,  3.47346745e-06,  6.65555600e-02,\n          1.13982695e-06,  1.30965962e-06,  8.33358080e-04]],\n\n       [[ 0.00000000e+00,  0.00000000e+00,  0.00000000e+00,\n          0.00000000e+00,  0.00000000e+00,  0.00000000e+00],\n        [ 0.00000000e+00,  0.00000000e+00,  0.00000000e+00,\n          0.00000000e+00,  0.00000000e+00,  0.00000000e+00],\n        [ 0.00000000e+00,  0.00000000e+00,  0.00000000e+00,\n          0.00000000e+00,  0.00000000e+00,  0.00000000e+00],\n        [ 0.00000000e+00,  0.00000000e+00,  0.00000000e+00,\n          0.00000000e+00,  0.00000000e+00,  0.00000000e+00],\n        [ 0.00000000e+00,  0.00000000e+00,  0.00000000e+00,\n          0.00000000e+00,  0.00000000e+00,  0.00000000e+00],\n        [ 0.00000000e+00,  0.00000000e+00,  0.00000000e+00,\n          0.00000000e+00,  0.00000000e+00,  0.00000000e+00]]])"
          },
          "execution_count": 127,
          "metadata": {},
          "output_type": "execute_result"
        }
      ],
      "source": [
        "K"
      ],
      "metadata": {
        "collapsed": false,
        "ExecuteTime": {
          "end_time": "2024-03-29T03:08:13.942857Z",
          "start_time": "2024-03-29T03:08:13.937299Z"
        }
      },
      "id": "4e0f63289418545f",
      "execution_count": 127
    },
    {
      "cell_type": "code",
      "outputs": [
        {
          "data": {
            "text/plain": "array([[[ 2.26000469e+02,  0.00000000e+00,  0.00000000e+00,\n          1.50000000e+01,  0.00000000e+00,  0.00000000e+00],\n        [ 0.00000000e+00,  2.26000469e+02,  0.00000000e+00,\n          0.00000000e+00,  1.50000000e+01,  0.00000000e+00],\n        [ 0.00000000e+00,  0.00000000e+00,  2.26000469e+02,\n          0.00000000e+00,  0.00000000e+00,  1.50000000e+01],\n        [ 1.50000000e+01,  0.00000000e+00,  0.00000000e+00,\n          1.00250000e+00,  0.00000000e+00,  0.00000000e+00],\n        [ 0.00000000e+00,  1.50000000e+01,  0.00000000e+00,\n          0.00000000e+00,  1.00250000e+00,  0.00000000e+00],\n        [ 0.00000000e+00,  0.00000000e+00,  1.50000000e+01,\n          0.00000000e+00,  0.00000000e+00,  1.00250000e+00]],\n\n       [[ 2.37772741e+00,  7.04801033e-02, -5.70759735e-01,\n          1.58483827e-01,  4.69856362e-03, -3.80507462e-02],\n        [ 7.04801033e-02,  2.57994257e+00,  4.70145120e-01,\n          4.69852313e-03,  1.71964724e-01,  3.13428332e-02],\n        [-5.70759735e-01,  4.70145120e-01,  1.79321953e+00,\n         -3.80507470e-02,  3.13428793e-02,  1.19516605e-01],\n        [ 1.58483827e-01,  4.69852313e-03, -3.80507470e-02,\n          1.30655855e-02,  3.13230949e-04, -2.53671994e-03],\n        [ 4.69856362e-03,  1.71964724e-01,  3.13428793e-02,\n          3.13230949e-04,  1.39643062e-02,  2.08951758e-03],\n        [-3.80507462e-02,  3.13428332e-02,  1.19516605e-01,\n         -2.53671994e-03,  2.08951758e-03,  1.04677696e-02]],\n\n       [[ 6.32771691e-01,  1.31150499e-02, -5.46499640e-02,\n          4.21534501e-02,  8.74232444e-04, -3.64342308e-03],\n        [ 1.31150499e-02,  6.49675866e-01,  4.20550283e-02,\n          8.74222432e-04,  4.32803244e-02,  2.80353588e-03],\n        [-5.46499640e-02,  4.20550283e-02,  5.71684367e-01,\n         -3.64342193e-03,  2.80354902e-03,  3.80809354e-02],\n        [ 4.21534501e-02,  8.74222432e-04, -3.64342193e-03,\n          5.31022731e-03,  5.82779523e-05, -2.42897928e-04],\n        [ 8.74232444e-04,  4.32803244e-02,  2.80354902e-03,\n          5.82779523e-05,  5.38534943e-03,  1.86898378e-04],\n        [-3.64342308e-03,  2.80353588e-03,  3.80809354e-02,\n         -2.42897928e-04,  1.86898378e-04,  5.03872548e-03]],\n\n       ...,\n\n       [[ 6.35112178e-01,  9.55758318e-03, -5.63987382e-02,\n          4.23094837e-02,  6.37089987e-04, -3.76000769e-03],\n        [ 9.55758318e-03,  6.49685784e-01,  4.32684085e-02,\n          6.37080754e-04,  4.32810395e-02,  2.88445322e-03],\n        [-5.63987382e-02,  4.32684085e-02,  5.72045134e-01,\n         -3.76000639e-03,  2.88446543e-03,  3.81049860e-02],\n        [ 4.23094837e-02,  6.37080754e-04, -3.76000639e-03,\n          5.32062960e-03,  4.24692733e-05, -2.50670193e-04],\n        [ 6.37089987e-04,  4.32810395e-02,  2.88446543e-03,\n          4.24692733e-05,  5.38539907e-03,  1.92293714e-04],\n        [-3.76000769e-03,  2.88445322e-03,  3.81049860e-02,\n         -2.50670193e-04,  1.92293714e-04,  5.04032887e-03]],\n\n       [[ 6.35171417e-01,  9.93586092e-03, -5.64216039e-02,\n          4.23134329e-02,  6.62308453e-04, -3.76153211e-03],\n        [ 9.93586092e-03,  6.48938979e-01,  4.26070804e-02,\n          6.62299333e-04,  4.32312525e-02,  2.84036480e-03],\n        [-5.64216039e-02,  4.26070804e-02,  5.71947768e-01,\n         -3.76153071e-03,  2.84037698e-03,  3.80984951e-02],\n        [ 4.23134329e-02,  6.62299333e-04, -3.76153071e-03,\n          5.32089288e-03,  4.41505091e-05, -2.50771817e-04],\n        [ 6.62308453e-04,  4.32312525e-02,  2.84037698e-03,\n          4.41505091e-05,  5.38207994e-03,  1.89354491e-04],\n        [-3.76153211e-03,  2.84036480e-03,  3.80984951e-02,\n         -2.50771817e-04,  1.89354491e-04,  5.03989614e-03]],\n\n       [[ 5.79308372e-07,  6.09000379e-07,  6.80076922e-07,\n          3.96012362e-08,  5.08133587e-08,  4.52851184e-08],\n        [ 6.09000379e-07,  6.40214227e-07,  7.14933744e-07,\n          4.16309672e-08,  5.34177585e-08,  4.76061725e-08],\n        [ 6.80076922e-07,  7.14933744e-07,  7.98373789e-07,\n          4.64897248e-08,  5.96521547e-08,  5.31622974e-08],\n        [ 3.96012362e-08,  4.16309672e-08,  4.64897248e-08,\n          2.81492810e-03,  4.01155650e-05, -2.46492126e-04],\n        [ 5.08133587e-08,  5.34177585e-08,  5.96521547e-08,\n          4.01155650e-05,  2.88146031e-03,  1.91643908e-04],\n        [ 4.52851184e-08,  4.76061725e-08,  5.31622974e-08,\n         -2.46492126e-04,  1.91643908e-04,  2.53961340e-03]]])"
          },
          "execution_count": 128,
          "metadata": {},
          "output_type": "execute_result"
        }
      ],
      "source": [
        "Pp"
      ],
      "metadata": {
        "collapsed": false,
        "ExecuteTime": {
          "end_time": "2024-03-29T03:08:13.949966Z",
          "start_time": "2024-03-29T03:08:13.944092Z"
        }
      },
      "id": "2c6854132dabd800",
      "execution_count": 128
    }
  ],
  "metadata": {
    "kernelspec": {
      "display_name": "Python 3 (ipykernel)",
      "language": "python",
      "name": "python3"
    },
    "language_info": {
      "codemirror_mode": {
        "name": "ipython",
        "version": 3
      },
      "file_extension": ".py",
      "mimetype": "text/x-python",
      "name": "python",
      "nbconvert_exporter": "python",
      "pygments_lexer": "ipython3",
      "version": "3.9.19"
    }
  },
  "nbformat": 4,
  "nbformat_minor": 5
}
